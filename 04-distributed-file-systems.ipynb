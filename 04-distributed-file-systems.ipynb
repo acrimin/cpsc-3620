{
 "cells": [
  {
   "cell_type": "markdown",
   "metadata": {
    "collapsed": true
   },
   "source": [
    "## <center> Distributed File Systems </center>\n",
    "\n",
    "#### <center> Linh B. Ngo </center>\n",
    "#### <center> CPSC 3620 </center>"
   ]
  },
  {
   "cell_type": "markdown",
   "metadata": {},
   "source": [
    "** Distributed File System (DFS) **\n",
    "- Allow transparent access to files stored on a remote disk\n",
    "\n",
    "** Parallel File System (PFS) **\n",
    "- Enable parallel access to files\n",
    "\n",
    "** Highly integrated concepts in modern distributed computing, to a degree that they are almost interchangeable **\n",
    "- `/home`, `/scratch2`, and `/scratch3` versus `/scratch1` on Palmetto"
   ]
  },
  {
   "cell_type": "markdown",
   "metadata": {},
   "source": [
    "** More fine-grained distinctions **\n",
    "- Data distribution\n",
    "    - DFS often stores entire files on a single node (can have multiple nodes)\n",
    "    - PFS distributes contents of a file across multiple nodes\n",
    "- Symmetry (not entirely true)\n",
    "    - DFS often runs on architecture where the storage is colocated with the application\n",
    "    - PFS often runs on architecture where the storage is physically separate from the compute system"
   ]
  },
  {
   "cell_type": "markdown",
   "metadata": {},
   "source": [
    "** More fine-grained distinctions **\n",
    "- Fault-tolerance\n",
    "    - DFS takes on fault-tolerance responsibilities\n",
    "    - PFS runs on enterprise shared storage (no fault-tolerance but rely on hardware quality)\n",
    "- Workloads\n",
    "    - DFS is geared for loosely coupled, distributed applications (think data-intensive/big data)\n",
    "    - PFS targets HPC applications that require highly coordinated I/O accesses with massive bandwidth requirements"
   ]
  },
  {
   "cell_type": "markdown",
   "metadata": {},
   "source": [
    "** Parallel file access mechanims **\n",
    "- Shared-file (N-to-1): A single file is created, and all application tasks write to that file (usually to disjoint regions)\n",
    "    - Increased usability: only one file is needed\n",
    "    - Can create lock contention and reduce performance\n",
    "- File-per-process (N-to-N): Each application task creates a separate file, and writes only to that file. \n",
    "    - Avoids lock contention\n",
    "    - Can create massive amount of small files\n",
    "    - Does not support application restart on different number of tasks"
   ]
  },
  {
   "cell_type": "markdown",
   "metadata": {},
   "source": [
    "** Data Distribution in Parallel File Systems **\n",
    "- Original File: Sequence of Bytes\n",
    "- Sequence of bytes are converted into sequence of offsets (each offset can cover multiple bytes)\n",
    "- Offsets are mapped to objects\n",
    "    - not necessarily ordered mapping\n",
    "    - reversible to allow clients to contact specific PFS server for specific data content\n",
    "- Objects are distributed across PFS servers\n",
    "    - Information about where the objects are is stored at the metadata server"
   ]
  },
  {
   "cell_type": "markdown",
   "metadata": {},
   "source": [
    "** Object Placement **\n",
    "- Round robin is reasonable default solution\n",
    "- Work consistently on most systems\n",
    "- Default solutions for: GPFS, Lustre, PVFS\n",
    "- Potential scalability issue with massive scaling of file servers and file size\n",
    "    - Two dimensional distribution\n",
    "    - Limit number of servers per file"
   ]
  },
  {
   "cell_type": "markdown",
   "metadata": {},
   "source": [
    "** Block-based PFS **\n",
    "- Objects are created as fixed-width blocks\n",
    "- File growth requires more blocks\n",
    "- Blocks distributed over storage nodes\n",
    "- Suffer from block allocation issues, lock managers\n",
    "- Example: GPFS"
   ]
  },
  {
   "cell_type": "markdown",
   "metadata": {},
   "source": [
    "** Object-based PFS **\n",
    "- Objects are created as variable-length regions of the file\n",
    "- A file has a constant number of objjects\n",
    "- File growth increases the size of the object(s)\n",
    "- Space allocation is managed locally on a per-object basis\n",
    "- Potential issue with workload imbalance\n",
    "- Example: Lustre, PVFS"
   ]
  }
 ],
 "metadata": {
  "kernelspec": {
   "display_name": "Python 3",
   "language": "python",
   "name": "python3"
  },
  "language_info": {
   "codemirror_mode": {
    "name": "ipython",
    "version": 3
   },
   "file_extension": ".py",
   "mimetype": "text/x-python",
   "name": "python",
   "nbconvert_exporter": "python",
   "pygments_lexer": "ipython3",
   "version": "3.5.1"
  }
 },
 "nbformat": 4,
 "nbformat_minor": 1
}
