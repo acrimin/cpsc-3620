{
 "cells": [
  {
   "cell_type": "markdown",
   "metadata": {
    "slideshow": {
     "slide_type": "slide"
    }
   },
   "source": [
    "## <center>MPIIO - Distributed File Systems</center>\n",
    "### <center> Linh B. Ngo </center>\n",
    "### <center> CPSC 3620 </center>"
   ]
  },
  {
   "cell_type": "code",
   "execution_count": 1,
   "metadata": {
    "collapsed": false,
    "slideshow": {
     "slide_type": "subslide"
    }
   },
   "outputs": [
    {
     "name": "stdout",
     "output_type": "stream",
     "text": [
      "[0, 1, 2, 3]\n"
     ]
    }
   ],
   "source": [
    "import ipyparallel\n",
    "c=ipyparallel.Client(profile=\"mpicluster\")\n",
    "print(c.ids)"
   ]
  },
  {
   "cell_type": "code",
   "execution_count": 4,
   "metadata": {
    "collapsed": false
   },
   "outputs": [
    {
     "ename": "CompositeError",
     "evalue": "one or more exceptions from call to method: execute\n[0:execute]: KeyError: '6w'\n[1:execute]: KeyError: '6w'\n[2:execute]: KeyError: '6w'\n[3:execute]: KeyError: '6w'",
     "output_type": "error",
     "traceback": [
      "[0:execute]: ",
      "\u001b[1;31m---------------------------------------------------------------------------\u001b[0m\u001b[1;31mKeyError\u001b[0m                                  Traceback (most recent call last)\u001b[1;32m<ipython-input-3-266397e286b7>\u001b[0m in \u001b[0;36m<module>\u001b[1;34m()\u001b[0m",
      "\u001b[0;32m     15\u001b[0m \u001b[0mfilehandle\u001b[0m \u001b[1;33m=\u001b[0m \u001b[0mMPI\u001b[0m\u001b[1;33m.\u001b[0m\u001b[0mFile\u001b[0m\u001b[1;33m.\u001b[0m\u001b[0mOpen\u001b[0m\u001b[1;33m(\u001b[0m\u001b[0mcomm\u001b[0m\u001b[1;33m,\u001b[0m \u001b[1;34m'ioexample.txt'\u001b[0m\u001b[1;33m,\u001b[0m \u001b[0mMPI\u001b[0m\u001b[1;33m.\u001b[0m\u001b[0mMODE_CREATE\u001b[0m \u001b[1;33m|\u001b[0m \u001b[0mMPI\u001b[0m\u001b[1;33m.\u001b[0m\u001b[0mMODE_WRONLY\u001b[0m\u001b[1;33m)\u001b[0m\u001b[1;33m\u001b[0m\u001b[0m",
      "\u001b[0;32m     16\u001b[0m \u001b[0mfilehandle\u001b[0m\u001b[1;33m.\u001b[0m\u001b[0mSet_view\u001b[0m\u001b[1;33m(\u001b[0m\u001b[1;36m0\u001b[0m\u001b[1;33m,\u001b[0m \u001b[0mMPI\u001b[0m\u001b[1;33m.\u001b[0m\u001b[0mCHAR\u001b[0m\u001b[1;33m,\u001b[0m \u001b[0msubarray\u001b[0m\u001b[1;33m)\u001b[0m\u001b[1;33m\u001b[0m\u001b[0m",
      "\u001b[1;32m---> 17\u001b[1;33m \u001b[0mfilehandle\u001b[0m\u001b[1;33m.\u001b[0m\u001b[0mWrite_all\u001b[0m\u001b[1;33m(\u001b[0m\u001b[0mmyString\u001b[0m\u001b[1;33m)\u001b[0m\u001b[1;33m\u001b[0m\u001b[0m",
      "\u001b[0m\u001b[0;32m     18\u001b[0m \u001b[1;33m\u001b[0m\u001b[0m",
      "\u001b[0;32m     19\u001b[0m \u001b[0mfilehandle\u001b[0m\u001b[1;33m.\u001b[0m\u001b[0mClose\u001b[0m\u001b[1;33m(\u001b[0m\u001b[1;33m)\u001b[0m\u001b[1;33m\u001b[0m\u001b[0m",
      "\u001b[1;32mMPI/File.pyx\u001b[0m in \u001b[0;36mmpi4py.MPI.File.Write_all (src/mpi4py.MPI.c:138086)\u001b[1;34m()\u001b[0m",
      "\u001b[1;32mMPI/msgbuffer.pxi\u001b[0m in \u001b[0;36mmpi4py.MPI.message_io_write (src/mpi4py.MPI.c:39612)\u001b[1;34m()\u001b[0m",
      "\u001b[1;32mMPI/msgbuffer.pxi\u001b[0m in \u001b[0;36mmpi4py.MPI._p_msg_io.for_write (src/mpi4py.MPI.c:39457)\u001b[1;34m()\u001b[0m",
      "\u001b[1;32mMPI/msgbuffer.pxi\u001b[0m in \u001b[0;36mmpi4py.MPI.message_simple (src/mpi4py.MPI.c:30349)\u001b[1;34m()\u001b[0m",
      "\u001b[1;32mMPI/msgbuffer.pxi\u001b[0m in \u001b[0;36mmpi4py.MPI.message_basic (src/mpi4py.MPI.c:29448)\u001b[1;34m()\u001b[0m",
      "\u001b[1;31mKeyError\u001b[0m: '6w'",
      "",
      "[1:execute]: ",
      "\u001b[1;31m---------------------------------------------------------------------------\u001b[0m\u001b[1;31mKeyError\u001b[0m                                  Traceback (most recent call last)\u001b[1;32m<ipython-input-3-266397e286b7>\u001b[0m in \u001b[0;36m<module>\u001b[1;34m()\u001b[0m",
      "\u001b[0;32m     15\u001b[0m \u001b[0mfilehandle\u001b[0m \u001b[1;33m=\u001b[0m \u001b[0mMPI\u001b[0m\u001b[1;33m.\u001b[0m\u001b[0mFile\u001b[0m\u001b[1;33m.\u001b[0m\u001b[0mOpen\u001b[0m\u001b[1;33m(\u001b[0m\u001b[0mcomm\u001b[0m\u001b[1;33m,\u001b[0m \u001b[1;34m'ioexample.txt'\u001b[0m\u001b[1;33m,\u001b[0m \u001b[0mMPI\u001b[0m\u001b[1;33m.\u001b[0m\u001b[0mMODE_CREATE\u001b[0m \u001b[1;33m|\u001b[0m \u001b[0mMPI\u001b[0m\u001b[1;33m.\u001b[0m\u001b[0mMODE_WRONLY\u001b[0m\u001b[1;33m)\u001b[0m\u001b[1;33m\u001b[0m\u001b[0m",
      "\u001b[0;32m     16\u001b[0m \u001b[0mfilehandle\u001b[0m\u001b[1;33m.\u001b[0m\u001b[0mSet_view\u001b[0m\u001b[1;33m(\u001b[0m\u001b[1;36m0\u001b[0m\u001b[1;33m,\u001b[0m \u001b[0mMPI\u001b[0m\u001b[1;33m.\u001b[0m\u001b[0mCHAR\u001b[0m\u001b[1;33m,\u001b[0m \u001b[0msubarray\u001b[0m\u001b[1;33m)\u001b[0m\u001b[1;33m\u001b[0m\u001b[0m",
      "\u001b[1;32m---> 17\u001b[1;33m \u001b[0mfilehandle\u001b[0m\u001b[1;33m.\u001b[0m\u001b[0mWrite_all\u001b[0m\u001b[1;33m(\u001b[0m\u001b[0mmyString\u001b[0m\u001b[1;33m)\u001b[0m\u001b[1;33m\u001b[0m\u001b[0m",
      "\u001b[0m\u001b[0;32m     18\u001b[0m \u001b[1;33m\u001b[0m\u001b[0m",
      "\u001b[0;32m     19\u001b[0m \u001b[0mfilehandle\u001b[0m\u001b[1;33m.\u001b[0m\u001b[0mClose\u001b[0m\u001b[1;33m(\u001b[0m\u001b[1;33m)\u001b[0m\u001b[1;33m\u001b[0m\u001b[0m",
      "\u001b[1;32mMPI/File.pyx\u001b[0m in \u001b[0;36mmpi4py.MPI.File.Write_all (src/mpi4py.MPI.c:138086)\u001b[1;34m()\u001b[0m",
      "\u001b[1;32mMPI/msgbuffer.pxi\u001b[0m in \u001b[0;36mmpi4py.MPI.message_io_write (src/mpi4py.MPI.c:39612)\u001b[1;34m()\u001b[0m",
      "\u001b[1;32mMPI/msgbuffer.pxi\u001b[0m in \u001b[0;36mmpi4py.MPI._p_msg_io.for_write (src/mpi4py.MPI.c:39457)\u001b[1;34m()\u001b[0m",
      "\u001b[1;32mMPI/msgbuffer.pxi\u001b[0m in \u001b[0;36mmpi4py.MPI.message_simple (src/mpi4py.MPI.c:30349)\u001b[1;34m()\u001b[0m",
      "\u001b[1;32mMPI/msgbuffer.pxi\u001b[0m in \u001b[0;36mmpi4py.MPI.message_basic (src/mpi4py.MPI.c:29448)\u001b[1;34m()\u001b[0m",
      "\u001b[1;31mKeyError\u001b[0m: '6w'",
      "",
      "[2:execute]: ",
      "\u001b[1;31m---------------------------------------------------------------------------\u001b[0m\u001b[1;31mKeyError\u001b[0m                                  Traceback (most recent call last)\u001b[1;32m<ipython-input-3-266397e286b7>\u001b[0m in \u001b[0;36m<module>\u001b[1;34m()\u001b[0m",
      "\u001b[0;32m     15\u001b[0m \u001b[0mfilehandle\u001b[0m \u001b[1;33m=\u001b[0m \u001b[0mMPI\u001b[0m\u001b[1;33m.\u001b[0m\u001b[0mFile\u001b[0m\u001b[1;33m.\u001b[0m\u001b[0mOpen\u001b[0m\u001b[1;33m(\u001b[0m\u001b[0mcomm\u001b[0m\u001b[1;33m,\u001b[0m \u001b[1;34m'ioexample.txt'\u001b[0m\u001b[1;33m,\u001b[0m \u001b[0mMPI\u001b[0m\u001b[1;33m.\u001b[0m\u001b[0mMODE_CREATE\u001b[0m \u001b[1;33m|\u001b[0m \u001b[0mMPI\u001b[0m\u001b[1;33m.\u001b[0m\u001b[0mMODE_WRONLY\u001b[0m\u001b[1;33m)\u001b[0m\u001b[1;33m\u001b[0m\u001b[0m",
      "\u001b[0;32m     16\u001b[0m \u001b[0mfilehandle\u001b[0m\u001b[1;33m.\u001b[0m\u001b[0mSet_view\u001b[0m\u001b[1;33m(\u001b[0m\u001b[1;36m0\u001b[0m\u001b[1;33m,\u001b[0m \u001b[0mMPI\u001b[0m\u001b[1;33m.\u001b[0m\u001b[0mCHAR\u001b[0m\u001b[1;33m,\u001b[0m \u001b[0msubarray\u001b[0m\u001b[1;33m)\u001b[0m\u001b[1;33m\u001b[0m\u001b[0m",
      "\u001b[1;32m---> 17\u001b[1;33m \u001b[0mfilehandle\u001b[0m\u001b[1;33m.\u001b[0m\u001b[0mWrite_all\u001b[0m\u001b[1;33m(\u001b[0m\u001b[0mmyString\u001b[0m\u001b[1;33m)\u001b[0m\u001b[1;33m\u001b[0m\u001b[0m",
      "\u001b[0m\u001b[0;32m     18\u001b[0m \u001b[1;33m\u001b[0m\u001b[0m",
      "\u001b[0;32m     19\u001b[0m \u001b[0mfilehandle\u001b[0m\u001b[1;33m.\u001b[0m\u001b[0mClose\u001b[0m\u001b[1;33m(\u001b[0m\u001b[1;33m)\u001b[0m\u001b[1;33m\u001b[0m\u001b[0m",
      "\u001b[1;32mMPI/File.pyx\u001b[0m in \u001b[0;36mmpi4py.MPI.File.Write_all (src/mpi4py.MPI.c:138086)\u001b[1;34m()\u001b[0m",
      "\u001b[1;32mMPI/msgbuffer.pxi\u001b[0m in \u001b[0;36mmpi4py.MPI.message_io_write (src/mpi4py.MPI.c:39612)\u001b[1;34m()\u001b[0m",
      "\u001b[1;32mMPI/msgbuffer.pxi\u001b[0m in \u001b[0;36mmpi4py.MPI._p_msg_io.for_write (src/mpi4py.MPI.c:39457)\u001b[1;34m()\u001b[0m",
      "\u001b[1;32mMPI/msgbuffer.pxi\u001b[0m in \u001b[0;36mmpi4py.MPI.message_simple (src/mpi4py.MPI.c:30349)\u001b[1;34m()\u001b[0m",
      "\u001b[1;32mMPI/msgbuffer.pxi\u001b[0m in \u001b[0;36mmpi4py.MPI.message_basic (src/mpi4py.MPI.c:29448)\u001b[1;34m()\u001b[0m",
      "\u001b[1;31mKeyError\u001b[0m: '6w'",
      "",
      "[3:execute]: ",
      "\u001b[1;31m---------------------------------------------------------------------------\u001b[0m\u001b[1;31mKeyError\u001b[0m                                  Traceback (most recent call last)\u001b[1;32m<ipython-input-3-266397e286b7>\u001b[0m in \u001b[0;36m<module>\u001b[1;34m()\u001b[0m",
      "\u001b[0;32m     15\u001b[0m \u001b[0mfilehandle\u001b[0m \u001b[1;33m=\u001b[0m \u001b[0mMPI\u001b[0m\u001b[1;33m.\u001b[0m\u001b[0mFile\u001b[0m\u001b[1;33m.\u001b[0m\u001b[0mOpen\u001b[0m\u001b[1;33m(\u001b[0m\u001b[0mcomm\u001b[0m\u001b[1;33m,\u001b[0m \u001b[1;34m'ioexample.txt'\u001b[0m\u001b[1;33m,\u001b[0m \u001b[0mMPI\u001b[0m\u001b[1;33m.\u001b[0m\u001b[0mMODE_CREATE\u001b[0m \u001b[1;33m|\u001b[0m \u001b[0mMPI\u001b[0m\u001b[1;33m.\u001b[0m\u001b[0mMODE_WRONLY\u001b[0m\u001b[1;33m)\u001b[0m\u001b[1;33m\u001b[0m\u001b[0m",
      "\u001b[0;32m     16\u001b[0m \u001b[0mfilehandle\u001b[0m\u001b[1;33m.\u001b[0m\u001b[0mSet_view\u001b[0m\u001b[1;33m(\u001b[0m\u001b[1;36m0\u001b[0m\u001b[1;33m,\u001b[0m \u001b[0mMPI\u001b[0m\u001b[1;33m.\u001b[0m\u001b[0mCHAR\u001b[0m\u001b[1;33m,\u001b[0m \u001b[0msubarray\u001b[0m\u001b[1;33m)\u001b[0m\u001b[1;33m\u001b[0m\u001b[0m",
      "\u001b[1;32m---> 17\u001b[1;33m \u001b[0mfilehandle\u001b[0m\u001b[1;33m.\u001b[0m\u001b[0mWrite_all\u001b[0m\u001b[1;33m(\u001b[0m\u001b[0mmyString\u001b[0m\u001b[1;33m)\u001b[0m\u001b[1;33m\u001b[0m\u001b[0m",
      "\u001b[0m\u001b[0;32m     18\u001b[0m \u001b[1;33m\u001b[0m\u001b[0m",
      "\u001b[0;32m     19\u001b[0m \u001b[0mfilehandle\u001b[0m\u001b[1;33m.\u001b[0m\u001b[0mClose\u001b[0m\u001b[1;33m(\u001b[0m\u001b[1;33m)\u001b[0m\u001b[1;33m\u001b[0m\u001b[0m",
      "\u001b[1;32mMPI/File.pyx\u001b[0m in \u001b[0;36mmpi4py.MPI.File.Write_all (src/mpi4py.MPI.c:138086)\u001b[1;34m()\u001b[0m",
      "\u001b[1;32mMPI/msgbuffer.pxi\u001b[0m in \u001b[0;36mmpi4py.MPI.message_io_write (src/mpi4py.MPI.c:39612)\u001b[1;34m()\u001b[0m",
      "\u001b[1;32mMPI/msgbuffer.pxi\u001b[0m in \u001b[0;36mmpi4py.MPI._p_msg_io.for_write (src/mpi4py.MPI.c:39457)\u001b[1;34m()\u001b[0m",
      "\u001b[1;32mMPI/msgbuffer.pxi\u001b[0m in \u001b[0;36mmpi4py.MPI.message_simple (src/mpi4py.MPI.c:30349)\u001b[1;34m()\u001b[0m",
      "\u001b[1;32mMPI/msgbuffer.pxi\u001b[0m in \u001b[0;36mmpi4py.MPI.message_basic (src/mpi4py.MPI.c:29448)\u001b[1;34m()\u001b[0m",
      "\u001b[1;31mKeyError\u001b[0m: '6w'",
      ""
     ]
    }
   ],
   "source": [
    "%%px\n",
    "from mpi4py import MPI \n",
    "import numpy as np\n",
    "\n",
    "comm = MPI.COMM_WORLD  \n",
    "rank = comm.Get_rank()  \n",
    "nprocs = comm.Get_size()\n",
    "\n",
    "myString = 'Hello ' if rank % 2 == 0 else 'World!'\n",
    "#myString = np.array(myString)\n",
    "stringSize = 6\n",
    "\n",
    "subarray = MPI.CHAR.Create_subarray( (stringSize*nprocs,), (stringSize,), (stringSize*rank,))  \n",
    "subarray.Commit()\n",
    "\n",
    "filehandle = MPI.File.Open(comm, 'ioexample.txt', MPI.MODE_CREATE | MPI.MODE_WRONLY)  \n",
    "filehandle.Set_view(0, MPI.CHAR, subarray)  \n",
    "filehandle.Write_all(myString)\n",
    "\n",
    "filehandle.Close()  "
   ]
  },
  {
   "cell_type": "code",
   "execution_count": 2,
   "metadata": {
    "collapsed": false
   },
   "outputs": [
    {
     "ename": "CompositeError",
     "evalue": "one or more exceptions from call to method: execute\n[0:execute]: TypeError: message: expecting buffer or list/tuple\n[1:execute]: TypeError: message: expecting buffer or list/tuple\n[2:execute]: TypeError: message: expecting buffer or list/tuple\n[3:execute]: TypeError: message: expecting buffer or list/tuple",
     "output_type": "error",
     "traceback": [
      "[0:execute]: ",
      "\u001b[1;31m---------------------------------------------------------------------------\u001b[0m\u001b[1;31mTypeError\u001b[0m                                 Traceback (most recent call last)\u001b[1;32m<ipython-input-1-ee40c20b1a19>\u001b[0m in \u001b[0;36m<module>\u001b[1;34m()\u001b[0m",
      "\u001b[0;32m      6\u001b[0m \u001b[0mline1\u001b[0m \u001b[1;33m=\u001b[0m \u001b[0mstr\u001b[0m\u001b[1;33m(\u001b[0m\u001b[0mcomm\u001b[0m\u001b[1;33m.\u001b[0m\u001b[0mrank\u001b[0m\u001b[1;33m)\u001b[0m\u001b[1;33m*\u001b[0m\u001b[1;33m(\u001b[0m\u001b[0mcomm\u001b[0m\u001b[1;33m.\u001b[0m\u001b[0mrank\u001b[0m\u001b[1;33m+\u001b[0m\u001b[1;36m1\u001b[0m\u001b[1;33m)\u001b[0m \u001b[1;33m+\u001b[0m \u001b[1;34m'\\n'\u001b[0m\u001b[1;33m\u001b[0m\u001b[0m",
      "\u001b[0;32m      7\u001b[0m \u001b[0mline2\u001b[0m \u001b[1;33m=\u001b[0m \u001b[0mchr\u001b[0m\u001b[1;33m(\u001b[0m\u001b[0mord\u001b[0m\u001b[1;33m(\u001b[0m\u001b[1;34m'a'\u001b[0m\u001b[1;33m)\u001b[0m\u001b[1;33m+\u001b[0m\u001b[0mcomm\u001b[0m\u001b[1;33m.\u001b[0m\u001b[0mrank\u001b[0m\u001b[1;33m)\u001b[0m\u001b[1;33m*\u001b[0m\u001b[1;33m(\u001b[0m\u001b[0mcomm\u001b[0m\u001b[1;33m.\u001b[0m\u001b[0mrank\u001b[0m\u001b[1;33m+\u001b[0m\u001b[1;36m1\u001b[0m\u001b[1;33m)\u001b[0m \u001b[1;33m+\u001b[0m \u001b[1;34m'\\n'\u001b[0m\u001b[1;33m\u001b[0m\u001b[0m",
      "\u001b[1;32m----> 8\u001b[1;33m \u001b[0mfh\u001b[0m\u001b[1;33m.\u001b[0m\u001b[0mWrite_ordered\u001b[0m\u001b[1;33m(\u001b[0m\u001b[0mline1\u001b[0m\u001b[1;33m)\u001b[0m\u001b[1;33m\u001b[0m\u001b[0m",
      "\u001b[0m\u001b[0;32m      9\u001b[0m \u001b[0mfh\u001b[0m\u001b[1;33m.\u001b[0m\u001b[0mWrite_ordered\u001b[0m\u001b[1;33m(\u001b[0m\u001b[0mline2\u001b[0m\u001b[1;33m)\u001b[0m\u001b[1;33m\u001b[0m\u001b[0m",
      "\u001b[0;32m     10\u001b[0m \u001b[0mfh\u001b[0m\u001b[1;33m.\u001b[0m\u001b[0mClose\u001b[0m\u001b[1;33m(\u001b[0m\u001b[1;33m)\u001b[0m\u001b[1;33m\u001b[0m\u001b[0m",
      "\u001b[1;32mMPI/File.pyx\u001b[0m in \u001b[0;36mmpi4py.MPI.File.Write_ordered (src/mpi4py.MPI.c:140395)\u001b[1;34m()\u001b[0m",
      "\u001b[1;32mMPI/msgbuffer.pxi\u001b[0m in \u001b[0;36mmpi4py.MPI.message_io_write (src/mpi4py.MPI.c:39612)\u001b[1;34m()\u001b[0m",
      "\u001b[1;32mMPI/msgbuffer.pxi\u001b[0m in \u001b[0;36mmpi4py.MPI._p_msg_io.for_write (src/mpi4py.MPI.c:39457)\u001b[1;34m()\u001b[0m",
      "\u001b[1;32mMPI/msgbuffer.pxi\u001b[0m in \u001b[0;36mmpi4py.MPI.message_simple (src/mpi4py.MPI.c:30311)\u001b[1;34m()\u001b[0m",
      "\u001b[1;31mTypeError\u001b[0m: message: expecting buffer or list/tuple",
      "",
      "[1:execute]: ",
      "\u001b[1;31m---------------------------------------------------------------------------\u001b[0m\u001b[1;31mTypeError\u001b[0m                                 Traceback (most recent call last)\u001b[1;32m<ipython-input-1-ee40c20b1a19>\u001b[0m in \u001b[0;36m<module>\u001b[1;34m()\u001b[0m",
      "\u001b[0;32m      6\u001b[0m \u001b[0mline1\u001b[0m \u001b[1;33m=\u001b[0m \u001b[0mstr\u001b[0m\u001b[1;33m(\u001b[0m\u001b[0mcomm\u001b[0m\u001b[1;33m.\u001b[0m\u001b[0mrank\u001b[0m\u001b[1;33m)\u001b[0m\u001b[1;33m*\u001b[0m\u001b[1;33m(\u001b[0m\u001b[0mcomm\u001b[0m\u001b[1;33m.\u001b[0m\u001b[0mrank\u001b[0m\u001b[1;33m+\u001b[0m\u001b[1;36m1\u001b[0m\u001b[1;33m)\u001b[0m \u001b[1;33m+\u001b[0m \u001b[1;34m'\\n'\u001b[0m\u001b[1;33m\u001b[0m\u001b[0m",
      "\u001b[0;32m      7\u001b[0m \u001b[0mline2\u001b[0m \u001b[1;33m=\u001b[0m \u001b[0mchr\u001b[0m\u001b[1;33m(\u001b[0m\u001b[0mord\u001b[0m\u001b[1;33m(\u001b[0m\u001b[1;34m'a'\u001b[0m\u001b[1;33m)\u001b[0m\u001b[1;33m+\u001b[0m\u001b[0mcomm\u001b[0m\u001b[1;33m.\u001b[0m\u001b[0mrank\u001b[0m\u001b[1;33m)\u001b[0m\u001b[1;33m*\u001b[0m\u001b[1;33m(\u001b[0m\u001b[0mcomm\u001b[0m\u001b[1;33m.\u001b[0m\u001b[0mrank\u001b[0m\u001b[1;33m+\u001b[0m\u001b[1;36m1\u001b[0m\u001b[1;33m)\u001b[0m \u001b[1;33m+\u001b[0m \u001b[1;34m'\\n'\u001b[0m\u001b[1;33m\u001b[0m\u001b[0m",
      "\u001b[1;32m----> 8\u001b[1;33m \u001b[0mfh\u001b[0m\u001b[1;33m.\u001b[0m\u001b[0mWrite_ordered\u001b[0m\u001b[1;33m(\u001b[0m\u001b[0mline1\u001b[0m\u001b[1;33m)\u001b[0m\u001b[1;33m\u001b[0m\u001b[0m",
      "\u001b[0m\u001b[0;32m      9\u001b[0m \u001b[0mfh\u001b[0m\u001b[1;33m.\u001b[0m\u001b[0mWrite_ordered\u001b[0m\u001b[1;33m(\u001b[0m\u001b[0mline2\u001b[0m\u001b[1;33m)\u001b[0m\u001b[1;33m\u001b[0m\u001b[0m",
      "\u001b[0;32m     10\u001b[0m \u001b[0mfh\u001b[0m\u001b[1;33m.\u001b[0m\u001b[0mClose\u001b[0m\u001b[1;33m(\u001b[0m\u001b[1;33m)\u001b[0m\u001b[1;33m\u001b[0m\u001b[0m",
      "\u001b[1;32mMPI/File.pyx\u001b[0m in \u001b[0;36mmpi4py.MPI.File.Write_ordered (src/mpi4py.MPI.c:140395)\u001b[1;34m()\u001b[0m",
      "\u001b[1;32mMPI/msgbuffer.pxi\u001b[0m in \u001b[0;36mmpi4py.MPI.message_io_write (src/mpi4py.MPI.c:39612)\u001b[1;34m()\u001b[0m",
      "\u001b[1;32mMPI/msgbuffer.pxi\u001b[0m in \u001b[0;36mmpi4py.MPI._p_msg_io.for_write (src/mpi4py.MPI.c:39457)\u001b[1;34m()\u001b[0m",
      "\u001b[1;32mMPI/msgbuffer.pxi\u001b[0m in \u001b[0;36mmpi4py.MPI.message_simple (src/mpi4py.MPI.c:30311)\u001b[1;34m()\u001b[0m",
      "\u001b[1;31mTypeError\u001b[0m: message: expecting buffer or list/tuple",
      "",
      "[2:execute]: ",
      "\u001b[1;31m---------------------------------------------------------------------------\u001b[0m\u001b[1;31mTypeError\u001b[0m                                 Traceback (most recent call last)\u001b[1;32m<ipython-input-1-ee40c20b1a19>\u001b[0m in \u001b[0;36m<module>\u001b[1;34m()\u001b[0m",
      "\u001b[0;32m      6\u001b[0m \u001b[0mline1\u001b[0m \u001b[1;33m=\u001b[0m \u001b[0mstr\u001b[0m\u001b[1;33m(\u001b[0m\u001b[0mcomm\u001b[0m\u001b[1;33m.\u001b[0m\u001b[0mrank\u001b[0m\u001b[1;33m)\u001b[0m\u001b[1;33m*\u001b[0m\u001b[1;33m(\u001b[0m\u001b[0mcomm\u001b[0m\u001b[1;33m.\u001b[0m\u001b[0mrank\u001b[0m\u001b[1;33m+\u001b[0m\u001b[1;36m1\u001b[0m\u001b[1;33m)\u001b[0m \u001b[1;33m+\u001b[0m \u001b[1;34m'\\n'\u001b[0m\u001b[1;33m\u001b[0m\u001b[0m",
      "\u001b[0;32m      7\u001b[0m \u001b[0mline2\u001b[0m \u001b[1;33m=\u001b[0m \u001b[0mchr\u001b[0m\u001b[1;33m(\u001b[0m\u001b[0mord\u001b[0m\u001b[1;33m(\u001b[0m\u001b[1;34m'a'\u001b[0m\u001b[1;33m)\u001b[0m\u001b[1;33m+\u001b[0m\u001b[0mcomm\u001b[0m\u001b[1;33m.\u001b[0m\u001b[0mrank\u001b[0m\u001b[1;33m)\u001b[0m\u001b[1;33m*\u001b[0m\u001b[1;33m(\u001b[0m\u001b[0mcomm\u001b[0m\u001b[1;33m.\u001b[0m\u001b[0mrank\u001b[0m\u001b[1;33m+\u001b[0m\u001b[1;36m1\u001b[0m\u001b[1;33m)\u001b[0m \u001b[1;33m+\u001b[0m \u001b[1;34m'\\n'\u001b[0m\u001b[1;33m\u001b[0m\u001b[0m",
      "\u001b[1;32m----> 8\u001b[1;33m \u001b[0mfh\u001b[0m\u001b[1;33m.\u001b[0m\u001b[0mWrite_ordered\u001b[0m\u001b[1;33m(\u001b[0m\u001b[0mline1\u001b[0m\u001b[1;33m)\u001b[0m\u001b[1;33m\u001b[0m\u001b[0m",
      "\u001b[0m\u001b[0;32m      9\u001b[0m \u001b[0mfh\u001b[0m\u001b[1;33m.\u001b[0m\u001b[0mWrite_ordered\u001b[0m\u001b[1;33m(\u001b[0m\u001b[0mline2\u001b[0m\u001b[1;33m)\u001b[0m\u001b[1;33m\u001b[0m\u001b[0m",
      "\u001b[0;32m     10\u001b[0m \u001b[0mfh\u001b[0m\u001b[1;33m.\u001b[0m\u001b[0mClose\u001b[0m\u001b[1;33m(\u001b[0m\u001b[1;33m)\u001b[0m\u001b[1;33m\u001b[0m\u001b[0m",
      "\u001b[1;32mMPI/File.pyx\u001b[0m in \u001b[0;36mmpi4py.MPI.File.Write_ordered (src/mpi4py.MPI.c:140395)\u001b[1;34m()\u001b[0m",
      "\u001b[1;32mMPI/msgbuffer.pxi\u001b[0m in \u001b[0;36mmpi4py.MPI.message_io_write (src/mpi4py.MPI.c:39612)\u001b[1;34m()\u001b[0m",
      "\u001b[1;32mMPI/msgbuffer.pxi\u001b[0m in \u001b[0;36mmpi4py.MPI._p_msg_io.for_write (src/mpi4py.MPI.c:39457)\u001b[1;34m()\u001b[0m",
      "\u001b[1;32mMPI/msgbuffer.pxi\u001b[0m in \u001b[0;36mmpi4py.MPI.message_simple (src/mpi4py.MPI.c:30311)\u001b[1;34m()\u001b[0m",
      "\u001b[1;31mTypeError\u001b[0m: message: expecting buffer or list/tuple",
      "",
      "[3:execute]: ",
      "\u001b[1;31m---------------------------------------------------------------------------\u001b[0m\u001b[1;31mTypeError\u001b[0m                                 Traceback (most recent call last)\u001b[1;32m<ipython-input-1-ee40c20b1a19>\u001b[0m in \u001b[0;36m<module>\u001b[1;34m()\u001b[0m",
      "\u001b[0;32m      6\u001b[0m \u001b[0mline1\u001b[0m \u001b[1;33m=\u001b[0m \u001b[0mstr\u001b[0m\u001b[1;33m(\u001b[0m\u001b[0mcomm\u001b[0m\u001b[1;33m.\u001b[0m\u001b[0mrank\u001b[0m\u001b[1;33m)\u001b[0m\u001b[1;33m*\u001b[0m\u001b[1;33m(\u001b[0m\u001b[0mcomm\u001b[0m\u001b[1;33m.\u001b[0m\u001b[0mrank\u001b[0m\u001b[1;33m+\u001b[0m\u001b[1;36m1\u001b[0m\u001b[1;33m)\u001b[0m \u001b[1;33m+\u001b[0m \u001b[1;34m'\\n'\u001b[0m\u001b[1;33m\u001b[0m\u001b[0m",
      "\u001b[0;32m      7\u001b[0m \u001b[0mline2\u001b[0m \u001b[1;33m=\u001b[0m \u001b[0mchr\u001b[0m\u001b[1;33m(\u001b[0m\u001b[0mord\u001b[0m\u001b[1;33m(\u001b[0m\u001b[1;34m'a'\u001b[0m\u001b[1;33m)\u001b[0m\u001b[1;33m+\u001b[0m\u001b[0mcomm\u001b[0m\u001b[1;33m.\u001b[0m\u001b[0mrank\u001b[0m\u001b[1;33m)\u001b[0m\u001b[1;33m*\u001b[0m\u001b[1;33m(\u001b[0m\u001b[0mcomm\u001b[0m\u001b[1;33m.\u001b[0m\u001b[0mrank\u001b[0m\u001b[1;33m+\u001b[0m\u001b[1;36m1\u001b[0m\u001b[1;33m)\u001b[0m \u001b[1;33m+\u001b[0m \u001b[1;34m'\\n'\u001b[0m\u001b[1;33m\u001b[0m\u001b[0m",
      "\u001b[1;32m----> 8\u001b[1;33m \u001b[0mfh\u001b[0m\u001b[1;33m.\u001b[0m\u001b[0mWrite_ordered\u001b[0m\u001b[1;33m(\u001b[0m\u001b[0mline1\u001b[0m\u001b[1;33m)\u001b[0m\u001b[1;33m\u001b[0m\u001b[0m",
      "\u001b[0m\u001b[0;32m      9\u001b[0m \u001b[0mfh\u001b[0m\u001b[1;33m.\u001b[0m\u001b[0mWrite_ordered\u001b[0m\u001b[1;33m(\u001b[0m\u001b[0mline2\u001b[0m\u001b[1;33m)\u001b[0m\u001b[1;33m\u001b[0m\u001b[0m",
      "\u001b[0;32m     10\u001b[0m \u001b[0mfh\u001b[0m\u001b[1;33m.\u001b[0m\u001b[0mClose\u001b[0m\u001b[1;33m(\u001b[0m\u001b[1;33m)\u001b[0m\u001b[1;33m\u001b[0m\u001b[0m",
      "\u001b[1;32mMPI/File.pyx\u001b[0m in \u001b[0;36mmpi4py.MPI.File.Write_ordered (src/mpi4py.MPI.c:140395)\u001b[1;34m()\u001b[0m",
      "\u001b[1;32mMPI/msgbuffer.pxi\u001b[0m in \u001b[0;36mmpi4py.MPI.message_io_write (src/mpi4py.MPI.c:39612)\u001b[1;34m()\u001b[0m",
      "\u001b[1;32mMPI/msgbuffer.pxi\u001b[0m in \u001b[0;36mmpi4py.MPI._p_msg_io.for_write (src/mpi4py.MPI.c:39457)\u001b[1;34m()\u001b[0m",
      "\u001b[1;32mMPI/msgbuffer.pxi\u001b[0m in \u001b[0;36mmpi4py.MPI.message_simple (src/mpi4py.MPI.c:30311)\u001b[1;34m()\u001b[0m",
      "\u001b[1;31mTypeError\u001b[0m: message: expecting buffer or list/tuple",
      ""
     ]
    }
   ],
   "source": [
    "%%px\n",
    "from mpi4py import MPI \n",
    "import numpy as np\n",
    "\n",
    "comm = MPI.COMM_WORLD \n",
    "mode = MPI.MODE_CREATE | MPI.MODE_WRONLY \n",
    "fh = MPI.File.Open(comm, \"datafile\", mode) \n",
    "line1 = str(comm.rank)*(comm.rank+1) + '\\n' \n",
    "line2 = chr(ord('a')+comm.rank)*(comm.rank+1) + '\\n' \n",
    "fh.Write_ordered(line1) \n",
    "fh.Write_ordered(line2) \n",
    "fh.Close() \n",
    "\n",
    "if comm.rank == 0: \n",
    "    import os \n",
    "    os.system(\"cat datafile\") "
   ]
  },
  {
   "cell_type": "code",
   "execution_count": null,
   "metadata": {
    "collapsed": true
   },
   "outputs": [],
   "source": []
  }
 ],
 "metadata": {
  "celltoolbar": "Slideshow",
  "kernelspec": {
   "display_name": "Anaconda 2.5.0 (Python 3)",
   "language": "python",
   "name": "anaconda_2.5.0_python3"
  },
  "language_info": {
   "codemirror_mode": {
    "name": "ipython",
    "version": 3
   },
   "file_extension": ".py",
   "mimetype": "text/x-python",
   "name": "python",
   "nbconvert_exporter": "python",
   "pygments_lexer": "ipython3",
   "version": "3.5.2"
  }
 },
 "nbformat": 4,
 "nbformat_minor": 0
}
