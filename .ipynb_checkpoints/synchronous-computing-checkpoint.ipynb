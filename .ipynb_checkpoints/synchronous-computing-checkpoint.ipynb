{
 "cells": [
  {
   "cell_type": "markdown",
   "metadata": {
    "slideshow": {
     "slide_type": "slide"
    }
   },
   "source": [
    "## <center>Synchronous Computing</center>\n",
    "### <center> Linh B. Ngo </center>\n",
    "### <center> CPSC 3620 </center>"
   ]
  },
  {
   "cell_type": "code",
   "execution_count": 1,
   "metadata": {
    "collapsed": false,
    "slideshow": {
     "slide_type": "slide"
    }
   },
   "outputs": [
    {
     "name": "stdout",
     "output_type": "stream",
     "text": [
      "[0, 1, 2, 3, 4, 5, 6, 7, 8, 9, 10, 11, 12, 13, 14, 15]\n"
     ]
    }
   ],
   "source": [
    "import ipyparallel\n",
    "c=ipyparallel.Client(profile=\"mpicluster\")\n",
    "print(c.ids)"
   ]
  },
  {
   "cell_type": "markdown",
   "metadata": {
    "slideshow": {
     "slide_type": "slide"
    }
   },
   "source": [
    "#### <center> Synchronous Computation </center>"
   ]
  },
  {
   "cell_type": "markdown",
   "metadata": {
    "slideshow": {
     "slide_type": "fragment"
    }
   },
   "source": [
    "In a (fully) synchronous computation, all the processes synchronized at regular points, usually to exchange data or to making sure every process has gone through the same set of procedures (to update their own data) before proceeding."
   ]
  },
  {
   "cell_type": "code",
   "execution_count": 4,
   "metadata": {
    "collapsed": false,
    "slideshow": {
     "slide_type": "subslide"
    }
   },
   "outputs": [
    {
     "name": "stdout",
     "output_type": "stream",
     "text": [
      "process 1 is here\n",
      "process 2 is here\n",
      "process 3 is here\n",
      "process 4 is here\n",
      "process 5 is here\n",
      "process 6 is here\n",
      "process 7 is here\n",
      "process 8 is here\n",
      "process 9 is here\n",
      "process 10 is here\n",
      "process 11 is here\n",
      "process 12 is here\n",
      "process 13 is here\n",
      "process 14 is here\n",
      "process 15 is here\n",
      "process 0 is here\n"
     ]
    }
   ],
   "source": [
    "!mpirun -np 16 python nobarrier.py"
   ]
  },
  {
   "cell_type": "code",
   "execution_count": 5,
   "metadata": {
    "collapsed": false,
    "slideshow": {
     "slide_type": "subslide"
    }
   },
   "outputs": [
    {
     "name": "stdout",
     "output_type": "stream",
     "text": [
      "process 3 is here\r\n",
      "process 4 is here\r\n",
      "process 5 is here\r\n",
      "process 6 is here\r\n",
      "process 7 is here\r\n",
      "process 8 is here\r\n",
      "process 9 is here\r\n",
      "process 10 is here\r\n",
      "process 11 is here\r\n",
      "process 12 is here\r\n",
      "process 13 is here\r\n",
      "process 14 is here\r\n",
      "process 15 is here\r\n",
      "process 0 is here\r\n",
      "process 1 is here\r\n",
      "process 2 is here\r\n"
     ]
    }
   ],
   "source": [
    "!mpirun -np 16 python barrier.py"
   ]
  },
  {
   "cell_type": "markdown",
   "metadata": {
    "slideshow": {
     "slide_type": "slide"
    }
   },
   "source": [
    "#### <center> Barrier </center>"
   ]
  },
  {
   "cell_type": "markdown",
   "metadata": {
    "slideshow": {
     "slide_type": "slide"
    }
   },
   "source": [
    "- A basic mechanism for synchronizing processes - inserted at the point in each process where it must wait\n",
    "- All processes can continue from this point when all the processes have reached it. "
   ]
  },
  {
   "cell_type": "markdown",
   "metadata": {
    "slideshow": {
     "slide_type": "slide"
    }
   },
   "source": [
    "Comm.Barrier()\n",
    "\n",
    "Parameters:\n",
    "- Comm (MPI comm) – communicator on which we are to block processes"
   ]
  },
  {
   "cell_type": "code",
   "execution_count": 32,
   "metadata": {
    "collapsed": true,
    "slideshow": {
     "slide_type": "subslide"
    }
   },
   "outputs": [],
   "source": [
    "def visualize_dc():\n",
    "    from graphviz import Digraph\n",
    "    dot = Digraph(comment='Divide and Conquer')\n",
    "\n",
    "    dot.node('P0-0-arr', ''); dot.node('P0-0-dep', '');\n",
    "    dot.node('P0-1-arr', ''); dot.node('P0-1-dep', '');\n",
    "    dot.node('P1-1-arr', ''); dot.node('P1-1-dep', '');\n",
    "    dot.node('P0-2-arr', ''); dot.node('P0-2-dep', '');\n",
    "    dot.node('P1-2-arr', ''); dot.node('P1-2-dep', '');\n",
    "    dot.node('P2-2-arr', ''); dot.node('P2-2-dep', '');\n",
    "    dot.node('P3-2-arr', ''); dot.node('P3-2-dep', '');\n",
    "    dot.node('P0-3-arr', 'P0'); dot.node('P0-3-dep', 'P0');\n",
    "    dot.node('P1-3-arr', 'P1'); dot.node('P1-3-dep', 'P1');\n",
    "    dot.node('P2-3-arr', 'P2'); dot.node('P2-3-dep', 'P2');\n",
    "    dot.node('P3-3-arr', 'P3'); dot.node('P3-3-dep', 'P3');\n",
    "    dot.node('P4-3-arr', 'P4'); dot.node('P4-3-dep', 'P4');\n",
    "    dot.node('P5-3-arr', 'P5'); dot.node('P5-3-dep', 'P5');\n",
    "    dot.node('P6-3-arr', 'P6'); dot.node('P6-3-dep', 'P6');\n",
    "    dot.node('P7-3-arr', 'P7'); dot.node('P7-3-dep', 'P7');\n",
    "\n",
    "    dot.edge('P0-3-arr','P0-2-arr', weight=\"4\")\n",
    "    dot.edge('P4-3-arr','P0-2-arr')\n",
    "    dot.edge('P1-3-arr','P1-2-arr')\n",
    "    dot.edge('P5-3-arr','P1-2-arr')\n",
    "    dot.edge('P2-3-arr','P2-2-arr')\n",
    "    dot.edge('P6-3-arr','P2-2-arr')\n",
    "    dot.edge('P3-3-arr','P3-2-arr')\n",
    "    dot.edge('P7-3-arr','P3-2-arr')\n",
    "\n",
    "    dot.edge('P0-2-arr','P0-1-arr', weight=\"4\")\n",
    "    dot.edge('P2-2-arr','P0-1-arr')\n",
    "    dot.edge('P1-2-arr','P1-1-arr')\n",
    "    dot.edge('P3-2-arr','P1-1-arr')\n",
    "    \n",
    "    dot.edge('P0-1-arr','P0-0-arr', weight=\"4\")\n",
    "    dot.edge('P1-1-arr','P0-0-arr')\n",
    "\n",
    "    dot.edge('P0-0-arr','P0-0-dep', weight=\"4\")\n",
    "\n",
    "    dot.edge('P0-0-dep','P0-1-dep', weight=\"4\")\n",
    "    dot.edge('P0-0-dep','P1-1-dep')\n",
    "\n",
    "    dot.edge('P0-1-dep','P0-2-dep', weight=\"4\")\n",
    "    dot.edge('P0-1-dep','P2-2-dep')\n",
    "    dot.edge('P1-1-dep','P1-2-dep')\n",
    "    dot.edge('P1-1-dep','P3-2-dep')\n",
    "\n",
    "    dot.edge('P0-2-dep','P0-3-dep', weight=\"4\")\n",
    "    dot.edge('P0-2-dep','P4-3-dep')\n",
    "    dot.edge('P1-2-dep','P1-3-dep')\n",
    "    dot.edge('P1-2-dep','P5-3-dep')\n",
    "    dot.edge('P2-2-dep','P2-3-dep')\n",
    "    dot.edge('P2-2-dep','P6-3-dep')\n",
    "    dot.edge('P3-2-dep','P3-3-dep')\n",
    "    dot.edge('P3-2-dep','P7-3-dep')\n",
    "    return dot"
   ]
  },
  {
   "cell_type": "code",
   "execution_count": 33,
   "metadata": {
    "collapsed": false,
    "slideshow": {
     "slide_type": "subslide"
    }
   },
   "outputs": [
    {
     "data": {
      "image/svg+xml": [
       "<?xml version=\"1.0\" encoding=\"UTF-8\" standalone=\"no\"?>\n",
       "<!DOCTYPE svg PUBLIC \"-//W3C//DTD SVG 1.1//EN\"\n",
       " \"http://www.w3.org/Graphics/SVG/1.1/DTD/svg11.dtd\">\n",
       "<!-- Generated by graphviz version 2.28.0 (20110507.0412)\n",
       " -->\n",
       "<!-- Title: _anonymous_0 Pages: 1 -->\n",
       "<svg width=\"566pt\" height=\"548pt\"\n",
       " viewBox=\"0.00 0.00 566.00 548.00\" xmlns=\"http://www.w3.org/2000/svg\" xmlns:xlink=\"http://www.w3.org/1999/xlink\">\n",
       "<g id=\"graph1\" class=\"graph\" transform=\"scale(1 1) rotate(0) translate(4 544)\">\n",
       "<title>_anonymous_0</title>\n",
       "<polygon fill=\"white\" stroke=\"white\" points=\"-4,5 -4,-544 563,-544 563,5 -4,5\"/>\n",
       "<!-- P0&#45;0&#45;arr -->\n",
       "<g id=\"node1\" class=\"node\"><title>P0&#45;0&#45;arr</title>\n",
       "<ellipse fill=\"none\" stroke=\"black\" cx=\"27\" cy=\"-306\" rx=\"27\" ry=\"18\"/>\n",
       "</g>\n",
       "<!-- P0&#45;0&#45;dep -->\n",
       "<g id=\"node2\" class=\"node\"><title>P0&#45;0&#45;dep</title>\n",
       "<ellipse fill=\"none\" stroke=\"black\" cx=\"27\" cy=\"-234\" rx=\"27\" ry=\"18\"/>\n",
       "</g>\n",
       "<!-- P0&#45;0&#45;arr&#45;&gt;P0&#45;0&#45;dep -->\n",
       "<g id=\"edge30\" class=\"edge\"><title>P0&#45;0&#45;arr&#45;&gt;P0&#45;0&#45;dep</title>\n",
       "<path fill=\"none\" stroke=\"black\" d=\"M27,-287.697C27,-279.983 27,-270.712 27,-262.112\"/>\n",
       "<polygon fill=\"black\" stroke=\"black\" points=\"30.5001,-262.104 27,-252.104 23.5001,-262.104 30.5001,-262.104\"/>\n",
       "</g>\n",
       "<!-- P0&#45;1&#45;dep -->\n",
       "<g id=\"node4\" class=\"node\"><title>P0&#45;1&#45;dep</title>\n",
       "<ellipse fill=\"none\" stroke=\"black\" cx=\"27\" cy=\"-162\" rx=\"27\" ry=\"18\"/>\n",
       "</g>\n",
       "<!-- P0&#45;0&#45;dep&#45;&gt;P0&#45;1&#45;dep -->\n",
       "<g id=\"edge32\" class=\"edge\"><title>P0&#45;0&#45;dep&#45;&gt;P0&#45;1&#45;dep</title>\n",
       "<path fill=\"none\" stroke=\"black\" d=\"M27,-215.697C27,-207.983 27,-198.712 27,-190.112\"/>\n",
       "<polygon fill=\"black\" stroke=\"black\" points=\"30.5001,-190.104 27,-180.104 23.5001,-190.104 30.5001,-190.104\"/>\n",
       "</g>\n",
       "<!-- P1&#45;1&#45;dep -->\n",
       "<g id=\"node6\" class=\"node\"><title>P1&#45;1&#45;dep</title>\n",
       "<ellipse fill=\"none\" stroke=\"black\" cx=\"351\" cy=\"-162\" rx=\"27\" ry=\"18\"/>\n",
       "</g>\n",
       "<!-- P0&#45;0&#45;dep&#45;&gt;P1&#45;1&#45;dep -->\n",
       "<g id=\"edge34\" class=\"edge\"><title>P0&#45;0&#45;dep&#45;&gt;P1&#45;1&#45;dep</title>\n",
       "<path fill=\"none\" stroke=\"black\" d=\"M52.4237,-227.507C109.915,-215.086 250.02,-184.817 315.799,-170.605\"/>\n",
       "<polygon fill=\"black\" stroke=\"black\" points=\"316.659,-174 325.694,-168.467 315.181,-167.158 316.659,-174\"/>\n",
       "</g>\n",
       "<!-- P0&#45;1&#45;arr -->\n",
       "<g id=\"node3\" class=\"node\"><title>P0&#45;1&#45;arr</title>\n",
       "<ellipse fill=\"none\" stroke=\"black\" cx=\"27\" cy=\"-378\" rx=\"27\" ry=\"18\"/>\n",
       "</g>\n",
       "<!-- P0&#45;1&#45;arr&#45;&gt;P0&#45;0&#45;arr -->\n",
       "<g id=\"edge26\" class=\"edge\"><title>P0&#45;1&#45;arr&#45;&gt;P0&#45;0&#45;arr</title>\n",
       "<path fill=\"none\" stroke=\"black\" d=\"M27,-359.697C27,-351.983 27,-342.712 27,-334.112\"/>\n",
       "<polygon fill=\"black\" stroke=\"black\" points=\"30.5001,-334.104 27,-324.104 23.5001,-334.104 30.5001,-334.104\"/>\n",
       "</g>\n",
       "<!-- P0&#45;2&#45;dep -->\n",
       "<g id=\"node8\" class=\"node\"><title>P0&#45;2&#45;dep</title>\n",
       "<ellipse fill=\"none\" stroke=\"black\" cx=\"27\" cy=\"-90\" rx=\"27\" ry=\"18\"/>\n",
       "</g>\n",
       "<!-- P0&#45;1&#45;dep&#45;&gt;P0&#45;2&#45;dep -->\n",
       "<g id=\"edge36\" class=\"edge\"><title>P0&#45;1&#45;dep&#45;&gt;P0&#45;2&#45;dep</title>\n",
       "<path fill=\"none\" stroke=\"black\" d=\"M27,-143.697C27,-135.983 27,-126.712 27,-118.112\"/>\n",
       "<polygon fill=\"black\" stroke=\"black\" points=\"30.5001,-118.104 27,-108.104 23.5001,-118.104 30.5001,-118.104\"/>\n",
       "</g>\n",
       "<!-- P2&#45;2&#45;dep -->\n",
       "<g id=\"node12\" class=\"node\"><title>P2&#45;2&#45;dep</title>\n",
       "<ellipse fill=\"none\" stroke=\"black\" cx=\"171\" cy=\"-90\" rx=\"27\" ry=\"18\"/>\n",
       "</g>\n",
       "<!-- P0&#45;1&#45;dep&#45;&gt;P2&#45;2&#45;dep -->\n",
       "<g id=\"edge38\" class=\"edge\"><title>P0&#45;1&#45;dep&#45;&gt;P2&#45;2&#45;dep</title>\n",
       "<path fill=\"none\" stroke=\"black\" d=\"M48.2477,-150.671C72.6018,-138.832 112.719,-119.331 140.428,-105.862\"/>\n",
       "<polygon fill=\"black\" stroke=\"black\" points=\"142.202,-108.891 149.665,-101.371 139.141,-102.595 142.202,-108.891\"/>\n",
       "</g>\n",
       "<!-- P1&#45;1&#45;arr -->\n",
       "<g id=\"node5\" class=\"node\"><title>P1&#45;1&#45;arr</title>\n",
       "<ellipse fill=\"none\" stroke=\"black\" cx=\"351\" cy=\"-378\" rx=\"27\" ry=\"18\"/>\n",
       "</g>\n",
       "<!-- P1&#45;1&#45;arr&#45;&gt;P0&#45;0&#45;arr -->\n",
       "<g id=\"edge28\" class=\"edge\"><title>P1&#45;1&#45;arr&#45;&gt;P0&#45;0&#45;arr</title>\n",
       "<path fill=\"none\" stroke=\"black\" d=\"M325.576,-371.507C268.085,-359.086 127.98,-328.817 62.2007,-314.605\"/>\n",
       "<polygon fill=\"black\" stroke=\"black\" points=\"62.8193,-311.158 52.3056,-312.467 61.341,-318 62.8193,-311.158\"/>\n",
       "</g>\n",
       "<!-- P1&#45;2&#45;dep -->\n",
       "<g id=\"node10\" class=\"node\"><title>P1&#45;2&#45;dep</title>\n",
       "<ellipse fill=\"none\" stroke=\"black\" cx=\"351\" cy=\"-90\" rx=\"27\" ry=\"18\"/>\n",
       "</g>\n",
       "<!-- P1&#45;1&#45;dep&#45;&gt;P1&#45;2&#45;dep -->\n",
       "<g id=\"edge40\" class=\"edge\"><title>P1&#45;1&#45;dep&#45;&gt;P1&#45;2&#45;dep</title>\n",
       "<path fill=\"none\" stroke=\"black\" d=\"M351,-143.697C351,-135.983 351,-126.712 351,-118.112\"/>\n",
       "<polygon fill=\"black\" stroke=\"black\" points=\"354.5,-118.104 351,-108.104 347.5,-118.104 354.5,-118.104\"/>\n",
       "</g>\n",
       "<!-- P3&#45;2&#45;dep -->\n",
       "<g id=\"node14\" class=\"node\"><title>P3&#45;2&#45;dep</title>\n",
       "<ellipse fill=\"none\" stroke=\"black\" cx=\"459\" cy=\"-90\" rx=\"27\" ry=\"18\"/>\n",
       "</g>\n",
       "<!-- P1&#45;1&#45;dep&#45;&gt;P3&#45;2&#45;dep -->\n",
       "<g id=\"edge42\" class=\"edge\"><title>P1&#45;1&#45;dep&#45;&gt;P3&#45;2&#45;dep</title>\n",
       "<path fill=\"none\" stroke=\"black\" d=\"M369.812,-148.807C387.002,-137.665 412.618,-121.062 431.993,-108.504\"/>\n",
       "<polygon fill=\"black\" stroke=\"black\" points=\"433.916,-111.429 440.403,-103.053 430.108,-105.555 433.916,-111.429\"/>\n",
       "</g>\n",
       "<!-- P0&#45;2&#45;arr -->\n",
       "<g id=\"node7\" class=\"node\"><title>P0&#45;2&#45;arr</title>\n",
       "<ellipse fill=\"none\" stroke=\"black\" cx=\"27\" cy=\"-450\" rx=\"27\" ry=\"18\"/>\n",
       "</g>\n",
       "<!-- P0&#45;2&#45;arr&#45;&gt;P0&#45;1&#45;arr -->\n",
       "<g id=\"edge18\" class=\"edge\"><title>P0&#45;2&#45;arr&#45;&gt;P0&#45;1&#45;arr</title>\n",
       "<path fill=\"none\" stroke=\"black\" d=\"M27,-431.697C27,-423.983 27,-414.712 27,-406.112\"/>\n",
       "<polygon fill=\"black\" stroke=\"black\" points=\"30.5001,-406.104 27,-396.104 23.5001,-406.104 30.5001,-406.104\"/>\n",
       "</g>\n",
       "<!-- P0&#45;3&#45;dep -->\n",
       "<g id=\"node16\" class=\"node\"><title>P0&#45;3&#45;dep</title>\n",
       "<ellipse fill=\"none\" stroke=\"black\" cx=\"27\" cy=\"-18\" rx=\"27\" ry=\"18\"/>\n",
       "<text text-anchor=\"middle\" x=\"27\" y=\"-14.3\" font-family=\"Times,serif\" font-size=\"14.00\">P0</text>\n",
       "</g>\n",
       "<!-- P0&#45;2&#45;dep&#45;&gt;P0&#45;3&#45;dep -->\n",
       "<g id=\"edge44\" class=\"edge\"><title>P0&#45;2&#45;dep&#45;&gt;P0&#45;3&#45;dep</title>\n",
       "<path fill=\"none\" stroke=\"black\" d=\"M27,-71.6966C27,-63.9827 27,-54.7125 27,-46.1124\"/>\n",
       "<polygon fill=\"black\" stroke=\"black\" points=\"30.5001,-46.1043 27,-36.1043 23.5001,-46.1044 30.5001,-46.1043\"/>\n",
       "</g>\n",
       "<!-- P4&#45;3&#45;dep -->\n",
       "<g id=\"node24\" class=\"node\"><title>P4&#45;3&#45;dep</title>\n",
       "<ellipse fill=\"none\" stroke=\"black\" cx=\"99\" cy=\"-18\" rx=\"27\" ry=\"18\"/>\n",
       "<text text-anchor=\"middle\" x=\"99\" y=\"-14.3\" font-family=\"Times,serif\" font-size=\"14.00\">P4</text>\n",
       "</g>\n",
       "<!-- P0&#45;2&#45;dep&#45;&gt;P4&#45;3&#45;dep -->\n",
       "<g id=\"edge46\" class=\"edge\"><title>P0&#45;2&#45;dep&#45;&gt;P4&#45;3&#45;dep</title>\n",
       "<path fill=\"none\" stroke=\"black\" d=\"M41.5703,-74.8345C51.7499,-64.9376 65.5239,-51.5462 77.0306,-40.3591\"/>\n",
       "<polygon fill=\"black\" stroke=\"black\" points=\"79.4741,-42.865 84.2043,-33.3847 74.5945,-37.8461 79.4741,-42.865\"/>\n",
       "</g>\n",
       "<!-- P1&#45;2&#45;arr -->\n",
       "<g id=\"node9\" class=\"node\"><title>P1&#45;2&#45;arr</title>\n",
       "<ellipse fill=\"none\" stroke=\"black\" cx=\"351\" cy=\"-450\" rx=\"27\" ry=\"18\"/>\n",
       "</g>\n",
       "<!-- P1&#45;2&#45;arr&#45;&gt;P1&#45;1&#45;arr -->\n",
       "<g id=\"edge22\" class=\"edge\"><title>P1&#45;2&#45;arr&#45;&gt;P1&#45;1&#45;arr</title>\n",
       "<path fill=\"none\" stroke=\"black\" d=\"M351,-431.697C351,-423.983 351,-414.712 351,-406.112\"/>\n",
       "<polygon fill=\"black\" stroke=\"black\" points=\"354.5,-406.104 351,-396.104 347.5,-406.104 354.5,-406.104\"/>\n",
       "</g>\n",
       "<!-- P1&#45;3&#45;dep -->\n",
       "<g id=\"node18\" class=\"node\"><title>P1&#45;3&#45;dep</title>\n",
       "<ellipse fill=\"none\" stroke=\"black\" cx=\"315\" cy=\"-18\" rx=\"27\" ry=\"18\"/>\n",
       "<text text-anchor=\"middle\" x=\"315\" y=\"-14.3\" font-family=\"Times,serif\" font-size=\"14.00\">P1</text>\n",
       "</g>\n",
       "<!-- P1&#45;2&#45;dep&#45;&gt;P1&#45;3&#45;dep -->\n",
       "<g id=\"edge48\" class=\"edge\"><title>P1&#45;2&#45;dep&#45;&gt;P1&#45;3&#45;dep</title>\n",
       "<path fill=\"none\" stroke=\"black\" d=\"M342.65,-72.7646C338.288,-64.2831 332.853,-53.7144 327.959,-44.1974\"/>\n",
       "<polygon fill=\"black\" stroke=\"black\" points=\"330.99,-42.4395 323.304,-35.1473 324.765,-45.6409 330.99,-42.4395\"/>\n",
       "</g>\n",
       "<!-- P5&#45;3&#45;dep -->\n",
       "<g id=\"node26\" class=\"node\"><title>P5&#45;3&#45;dep</title>\n",
       "<ellipse fill=\"none\" stroke=\"black\" cx=\"387\" cy=\"-18\" rx=\"27\" ry=\"18\"/>\n",
       "<text text-anchor=\"middle\" x=\"387\" y=\"-14.3\" font-family=\"Times,serif\" font-size=\"14.00\">P5</text>\n",
       "</g>\n",
       "<!-- P1&#45;2&#45;dep&#45;&gt;P5&#45;3&#45;dep -->\n",
       "<g id=\"edge50\" class=\"edge\"><title>P1&#45;2&#45;dep&#45;&gt;P5&#45;3&#45;dep</title>\n",
       "<path fill=\"none\" stroke=\"black\" d=\"M359.35,-72.7646C363.712,-64.2831 369.147,-53.7144 374.041,-44.1974\"/>\n",
       "<polygon fill=\"black\" stroke=\"black\" points=\"377.235,-45.6409 378.696,-35.1473 371.01,-42.4395 377.235,-45.6409\"/>\n",
       "</g>\n",
       "<!-- P2&#45;2&#45;arr -->\n",
       "<g id=\"node11\" class=\"node\"><title>P2&#45;2&#45;arr</title>\n",
       "<ellipse fill=\"none\" stroke=\"black\" cx=\"171\" cy=\"-450\" rx=\"27\" ry=\"18\"/>\n",
       "</g>\n",
       "<!-- P2&#45;2&#45;arr&#45;&gt;P0&#45;1&#45;arr -->\n",
       "<g id=\"edge20\" class=\"edge\"><title>P2&#45;2&#45;arr&#45;&gt;P0&#45;1&#45;arr</title>\n",
       "<path fill=\"none\" stroke=\"black\" d=\"M149.752,-438.671C125.398,-426.832 85.2814,-407.331 57.5723,-393.862\"/>\n",
       "<polygon fill=\"black\" stroke=\"black\" points=\"58.8588,-390.595 48.3349,-389.371 55.7984,-396.891 58.8588,-390.595\"/>\n",
       "</g>\n",
       "<!-- P2&#45;3&#45;dep -->\n",
       "<g id=\"node20\" class=\"node\"><title>P2&#45;3&#45;dep</title>\n",
       "<ellipse fill=\"none\" stroke=\"black\" cx=\"171\" cy=\"-18\" rx=\"27\" ry=\"18\"/>\n",
       "<text text-anchor=\"middle\" x=\"171\" y=\"-14.3\" font-family=\"Times,serif\" font-size=\"14.00\">P2</text>\n",
       "</g>\n",
       "<!-- P2&#45;2&#45;dep&#45;&gt;P2&#45;3&#45;dep -->\n",
       "<g id=\"edge52\" class=\"edge\"><title>P2&#45;2&#45;dep&#45;&gt;P2&#45;3&#45;dep</title>\n",
       "<path fill=\"none\" stroke=\"black\" d=\"M171,-71.6966C171,-63.9827 171,-54.7125 171,-46.1124\"/>\n",
       "<polygon fill=\"black\" stroke=\"black\" points=\"174.5,-46.1043 171,-36.1043 167.5,-46.1044 174.5,-46.1043\"/>\n",
       "</g>\n",
       "<!-- P6&#45;3&#45;dep -->\n",
       "<g id=\"node28\" class=\"node\"><title>P6&#45;3&#45;dep</title>\n",
       "<ellipse fill=\"none\" stroke=\"black\" cx=\"243\" cy=\"-18\" rx=\"27\" ry=\"18\"/>\n",
       "<text text-anchor=\"middle\" x=\"243\" y=\"-14.3\" font-family=\"Times,serif\" font-size=\"14.00\">P6</text>\n",
       "</g>\n",
       "<!-- P2&#45;2&#45;dep&#45;&gt;P6&#45;3&#45;dep -->\n",
       "<g id=\"edge54\" class=\"edge\"><title>P2&#45;2&#45;dep&#45;&gt;P6&#45;3&#45;dep</title>\n",
       "<path fill=\"none\" stroke=\"black\" d=\"M185.57,-74.8345C195.75,-64.9376 209.524,-51.5462 221.031,-40.3591\"/>\n",
       "<polygon fill=\"black\" stroke=\"black\" points=\"223.474,-42.865 228.204,-33.3847 218.595,-37.8461 223.474,-42.865\"/>\n",
       "</g>\n",
       "<!-- P3&#45;2&#45;arr -->\n",
       "<g id=\"node13\" class=\"node\"><title>P3&#45;2&#45;arr</title>\n",
       "<ellipse fill=\"none\" stroke=\"black\" cx=\"459\" cy=\"-450\" rx=\"27\" ry=\"18\"/>\n",
       "</g>\n",
       "<!-- P3&#45;2&#45;arr&#45;&gt;P1&#45;1&#45;arr -->\n",
       "<g id=\"edge24\" class=\"edge\"><title>P3&#45;2&#45;arr&#45;&gt;P1&#45;1&#45;arr</title>\n",
       "<path fill=\"none\" stroke=\"black\" d=\"M440.188,-436.807C422.998,-425.665 397.382,-409.062 378.007,-396.504\"/>\n",
       "<polygon fill=\"black\" stroke=\"black\" points=\"379.892,-393.555 369.597,-391.053 376.084,-399.429 379.892,-393.555\"/>\n",
       "</g>\n",
       "<!-- P3&#45;3&#45;dep -->\n",
       "<g id=\"node22\" class=\"node\"><title>P3&#45;3&#45;dep</title>\n",
       "<ellipse fill=\"none\" stroke=\"black\" cx=\"459\" cy=\"-18\" rx=\"27\" ry=\"18\"/>\n",
       "<text text-anchor=\"middle\" x=\"459\" y=\"-14.3\" font-family=\"Times,serif\" font-size=\"14.00\">P3</text>\n",
       "</g>\n",
       "<!-- P3&#45;2&#45;dep&#45;&gt;P3&#45;3&#45;dep -->\n",
       "<g id=\"edge56\" class=\"edge\"><title>P3&#45;2&#45;dep&#45;&gt;P3&#45;3&#45;dep</title>\n",
       "<path fill=\"none\" stroke=\"black\" d=\"M459,-71.6966C459,-63.9827 459,-54.7125 459,-46.1124\"/>\n",
       "<polygon fill=\"black\" stroke=\"black\" points=\"462.5,-46.1043 459,-36.1043 455.5,-46.1044 462.5,-46.1043\"/>\n",
       "</g>\n",
       "<!-- P7&#45;3&#45;dep -->\n",
       "<g id=\"node30\" class=\"node\"><title>P7&#45;3&#45;dep</title>\n",
       "<ellipse fill=\"none\" stroke=\"black\" cx=\"531\" cy=\"-18\" rx=\"27\" ry=\"18\"/>\n",
       "<text text-anchor=\"middle\" x=\"531\" y=\"-14.3\" font-family=\"Times,serif\" font-size=\"14.00\">P7</text>\n",
       "</g>\n",
       "<!-- P3&#45;2&#45;dep&#45;&gt;P7&#45;3&#45;dep -->\n",
       "<g id=\"edge58\" class=\"edge\"><title>P3&#45;2&#45;dep&#45;&gt;P7&#45;3&#45;dep</title>\n",
       "<path fill=\"none\" stroke=\"black\" d=\"M473.57,-74.8345C483.75,-64.9376 497.524,-51.5462 509.031,-40.3591\"/>\n",
       "<polygon fill=\"black\" stroke=\"black\" points=\"511.474,-42.865 516.204,-33.3847 506.595,-37.8461 511.474,-42.865\"/>\n",
       "</g>\n",
       "<!-- P0&#45;3&#45;arr -->\n",
       "<g id=\"node15\" class=\"node\"><title>P0&#45;3&#45;arr</title>\n",
       "<ellipse fill=\"none\" stroke=\"black\" cx=\"27\" cy=\"-522\" rx=\"27\" ry=\"18\"/>\n",
       "<text text-anchor=\"middle\" x=\"27\" y=\"-518.3\" font-family=\"Times,serif\" font-size=\"14.00\">P0</text>\n",
       "</g>\n",
       "<!-- P0&#45;3&#45;arr&#45;&gt;P0&#45;2&#45;arr -->\n",
       "<g id=\"edge2\" class=\"edge\"><title>P0&#45;3&#45;arr&#45;&gt;P0&#45;2&#45;arr</title>\n",
       "<path fill=\"none\" stroke=\"black\" d=\"M27,-503.697C27,-495.983 27,-486.712 27,-478.112\"/>\n",
       "<polygon fill=\"black\" stroke=\"black\" points=\"30.5001,-478.104 27,-468.104 23.5001,-478.104 30.5001,-478.104\"/>\n",
       "</g>\n",
       "<!-- P1&#45;3&#45;arr -->\n",
       "<g id=\"node17\" class=\"node\"><title>P1&#45;3&#45;arr</title>\n",
       "<ellipse fill=\"none\" stroke=\"black\" cx=\"315\" cy=\"-522\" rx=\"27\" ry=\"18\"/>\n",
       "<text text-anchor=\"middle\" x=\"315\" y=\"-518.3\" font-family=\"Times,serif\" font-size=\"14.00\">P1</text>\n",
       "</g>\n",
       "<!-- P1&#45;3&#45;arr&#45;&gt;P1&#45;2&#45;arr -->\n",
       "<g id=\"edge6\" class=\"edge\"><title>P1&#45;3&#45;arr&#45;&gt;P1&#45;2&#45;arr</title>\n",
       "<path fill=\"none\" stroke=\"black\" d=\"M323.35,-504.765C327.712,-496.283 333.147,-485.714 338.041,-476.197\"/>\n",
       "<polygon fill=\"black\" stroke=\"black\" points=\"341.235,-477.641 342.696,-467.147 335.01,-474.439 341.235,-477.641\"/>\n",
       "</g>\n",
       "<!-- P2&#45;3&#45;arr -->\n",
       "<g id=\"node19\" class=\"node\"><title>P2&#45;3&#45;arr</title>\n",
       "<ellipse fill=\"none\" stroke=\"black\" cx=\"171\" cy=\"-522\" rx=\"27\" ry=\"18\"/>\n",
       "<text text-anchor=\"middle\" x=\"171\" y=\"-518.3\" font-family=\"Times,serif\" font-size=\"14.00\">P2</text>\n",
       "</g>\n",
       "<!-- P2&#45;3&#45;arr&#45;&gt;P2&#45;2&#45;arr -->\n",
       "<g id=\"edge10\" class=\"edge\"><title>P2&#45;3&#45;arr&#45;&gt;P2&#45;2&#45;arr</title>\n",
       "<path fill=\"none\" stroke=\"black\" d=\"M171,-503.697C171,-495.983 171,-486.712 171,-478.112\"/>\n",
       "<polygon fill=\"black\" stroke=\"black\" points=\"174.5,-478.104 171,-468.104 167.5,-478.104 174.5,-478.104\"/>\n",
       "</g>\n",
       "<!-- P3&#45;3&#45;arr -->\n",
       "<g id=\"node21\" class=\"node\"><title>P3&#45;3&#45;arr</title>\n",
       "<ellipse fill=\"none\" stroke=\"black\" cx=\"459\" cy=\"-522\" rx=\"27\" ry=\"18\"/>\n",
       "<text text-anchor=\"middle\" x=\"459\" y=\"-518.3\" font-family=\"Times,serif\" font-size=\"14.00\">P3</text>\n",
       "</g>\n",
       "<!-- P3&#45;3&#45;arr&#45;&gt;P3&#45;2&#45;arr -->\n",
       "<g id=\"edge14\" class=\"edge\"><title>P3&#45;3&#45;arr&#45;&gt;P3&#45;2&#45;arr</title>\n",
       "<path fill=\"none\" stroke=\"black\" d=\"M459,-503.697C459,-495.983 459,-486.712 459,-478.112\"/>\n",
       "<polygon fill=\"black\" stroke=\"black\" points=\"462.5,-478.104 459,-468.104 455.5,-478.104 462.5,-478.104\"/>\n",
       "</g>\n",
       "<!-- P4&#45;3&#45;arr -->\n",
       "<g id=\"node23\" class=\"node\"><title>P4&#45;3&#45;arr</title>\n",
       "<ellipse fill=\"none\" stroke=\"black\" cx=\"99\" cy=\"-522\" rx=\"27\" ry=\"18\"/>\n",
       "<text text-anchor=\"middle\" x=\"99\" y=\"-518.3\" font-family=\"Times,serif\" font-size=\"14.00\">P4</text>\n",
       "</g>\n",
       "<!-- P4&#45;3&#45;arr&#45;&gt;P0&#45;2&#45;arr -->\n",
       "<g id=\"edge4\" class=\"edge\"><title>P4&#45;3&#45;arr&#45;&gt;P0&#45;2&#45;arr</title>\n",
       "<path fill=\"none\" stroke=\"black\" d=\"M84.4297,-506.834C74.2501,-496.938 60.4761,-483.546 48.9694,-472.359\"/>\n",
       "<polygon fill=\"black\" stroke=\"black\" points=\"51.4055,-469.846 41.7957,-465.385 46.5259,-474.865 51.4055,-469.846\"/>\n",
       "</g>\n",
       "<!-- P5&#45;3&#45;arr -->\n",
       "<g id=\"node25\" class=\"node\"><title>P5&#45;3&#45;arr</title>\n",
       "<ellipse fill=\"none\" stroke=\"black\" cx=\"387\" cy=\"-522\" rx=\"27\" ry=\"18\"/>\n",
       "<text text-anchor=\"middle\" x=\"387\" y=\"-518.3\" font-family=\"Times,serif\" font-size=\"14.00\">P5</text>\n",
       "</g>\n",
       "<!-- P5&#45;3&#45;arr&#45;&gt;P1&#45;2&#45;arr -->\n",
       "<g id=\"edge8\" class=\"edge\"><title>P5&#45;3&#45;arr&#45;&gt;P1&#45;2&#45;arr</title>\n",
       "<path fill=\"none\" stroke=\"black\" d=\"M378.65,-504.765C374.288,-496.283 368.853,-485.714 363.959,-476.197\"/>\n",
       "<polygon fill=\"black\" stroke=\"black\" points=\"366.99,-474.439 359.304,-467.147 360.765,-477.641 366.99,-474.439\"/>\n",
       "</g>\n",
       "<!-- P6&#45;3&#45;arr -->\n",
       "<g id=\"node27\" class=\"node\"><title>P6&#45;3&#45;arr</title>\n",
       "<ellipse fill=\"none\" stroke=\"black\" cx=\"243\" cy=\"-522\" rx=\"27\" ry=\"18\"/>\n",
       "<text text-anchor=\"middle\" x=\"243\" y=\"-518.3\" font-family=\"Times,serif\" font-size=\"14.00\">P6</text>\n",
       "</g>\n",
       "<!-- P6&#45;3&#45;arr&#45;&gt;P2&#45;2&#45;arr -->\n",
       "<g id=\"edge12\" class=\"edge\"><title>P6&#45;3&#45;arr&#45;&gt;P2&#45;2&#45;arr</title>\n",
       "<path fill=\"none\" stroke=\"black\" d=\"M228.43,-506.834C218.25,-496.938 204.476,-483.546 192.969,-472.359\"/>\n",
       "<polygon fill=\"black\" stroke=\"black\" points=\"195.405,-469.846 185.796,-465.385 190.526,-474.865 195.405,-469.846\"/>\n",
       "</g>\n",
       "<!-- P7&#45;3&#45;arr -->\n",
       "<g id=\"node29\" class=\"node\"><title>P7&#45;3&#45;arr</title>\n",
       "<ellipse fill=\"none\" stroke=\"black\" cx=\"531\" cy=\"-522\" rx=\"27\" ry=\"18\"/>\n",
       "<text text-anchor=\"middle\" x=\"531\" y=\"-518.3\" font-family=\"Times,serif\" font-size=\"14.00\">P7</text>\n",
       "</g>\n",
       "<!-- P7&#45;3&#45;arr&#45;&gt;P3&#45;2&#45;arr -->\n",
       "<g id=\"edge16\" class=\"edge\"><title>P7&#45;3&#45;arr&#45;&gt;P3&#45;2&#45;arr</title>\n",
       "<path fill=\"none\" stroke=\"black\" d=\"M516.43,-506.834C506.25,-496.938 492.476,-483.546 480.969,-472.359\"/>\n",
       "<polygon fill=\"black\" stroke=\"black\" points=\"483.405,-469.846 473.796,-465.385 478.526,-474.865 483.405,-469.846\"/>\n",
       "</g>\n",
       "</g>\n",
       "</svg>\n"
      ],
      "text/plain": [
       "<graphviz.dot.Digraph at 0x2b3294270ac8>"
      ]
     },
     "execution_count": 33,
     "metadata": {},
     "output_type": "execute_result"
    }
   ],
   "source": [
    "visualize_dc()"
   ]
  },
  {
   "cell_type": "code",
   "execution_count": 115,
   "metadata": {
    "collapsed": false,
    "slideshow": {
     "slide_type": "skip"
    }
   },
   "outputs": [],
   "source": [
    "def visualize_dc_1():\n",
    "    from graphviz import Digraph\n",
    "    dot = Digraph(comment='Divide and Conquer')\n",
    "\n",
    "    P0 = Digraph('Process_0')\n",
    "    P0.node('P0-0', 'P0'); P0.node('P0-1', 'P0'); P0.node('P0-2', 'P0'); P0.node('P0-3', 'P0');\n",
    "    P0.edge('P0-0','P0-1', arrowhead=\"none\", weight=\"8\"); \n",
    "    P0.edge('P0-1','P0-2', arrowhead=\"none\", weight=\"6\"); \n",
    "    P0.edge('P0-2','P0-3', arrowhead=\"none\", weight=\"4\"); \n",
    "    P1 = Digraph('Process_1')\n",
    "    P1.node('P1-0', 'P1'); P1.node('P1-1', 'P1'); P1.node('P1-2', 'P1'); P1.node('P1-3', 'P1');\n",
    "    P1.edge('P1-0','P1-1', arrowhead=\"none\", weight=\"8\"); \n",
    "    P1.edge('P1-1','P1-2', arrowhead=\"none\", weight=\"6\"); \n",
    "    P1.edge('P1-2','P1-3', arrowhead=\"none\", weight=\"4\"); \n",
    "    P2 = Digraph('Process_2')\n",
    "    P2.node('P2-0', 'P2'); P2.node('P2-1', 'P2'); P2.node('P2-2', 'P2'); P2.node('P2-3', 'P2');\n",
    "    dot.edge('P2-0','P2-1', arrowhead=\"none\", weight=\"4\"); \n",
    "    dot.edge('P2-1','P2-2', arrowhead=\"none\", weight=\"4\"); \n",
    "    dot.edge('P2-2','P2-3', arrowhead=\"none\", weight=\"4\"); \n",
    "    P3 = Digraph('Process_3')\n",
    "    P3.node('P3-0', 'P3'); P3.node('P3-1', 'P3'); P3.node('P3-2', 'P3'); P3.node('P3-3', 'P3');\n",
    "\n",
    "    P3.edge('P3-0','P3-1', arrowhead=\"none\", weight=\"4\"); \n",
    "    P3.edge('P3-1','P3-2', arrowhead=\"none\", weight=\"4\"); \n",
    "    P3.edge('P3-2','P3-3', arrowhead=\"none\", weight=\"4\"); \n",
    "\n",
    "    P4 = Digraph('Process_4')\n",
    "    P4.node('P4-0', 'P4'); P4.node('P4-1', 'P4'); P4.node('P4-2', 'P4'); P4.node('P4-3', 'P4');\n",
    "    P4.edge('P4-0','P4-1', arrowhead=\"none\"); \n",
    "    P4.edge('P4-1','P4-2', arrowhead=\"none\"); \n",
    "    P4.edge('P4-2','P4-3', arrowhead=\"none\"); \n",
    "\n",
    "    P5 = Digraph('Process_5')\n",
    "    P5.node('P5-0', 'P5'); P5.node('P5-1', 'P5'); P5.node('P5-2', 'P5'); P5.node('P5-3', 'P5');\n",
    "    P5.edge('P5-0','P5-1', arrowhead=\"none\"); \n",
    "    P5.edge('P5-1','P5-2', arrowhead=\"none\"); \n",
    "    P5.edge('P5-2','P5-3', arrowhead=\"none\"); \n",
    "\n",
    "    P6 = Digraph('Process_6')\n",
    "    P6.node('P6-0', 'P6'); P6.node('P6-1', 'P6'); P6.node('P6-2', 'P6'); P6.node('P6-3', 'P6');\n",
    "    P6.edge('P6-0','P6-1', arrowhead=\"none\"); \n",
    "    P6.edge('P6-1','P6-2', arrowhead=\"none\"); \n",
    "    P6.edge('P6-2','P6-3', arrowhead=\"none\"); \n",
    "\n",
    "    P7 = Digraph('Process_7')\n",
    "    P7.node('P7-0', 'P7'); P7.node('P7-1', 'P7'); P7.node('P7-2', 'P7'); P7.node('P7-3', 'P7');\n",
    "    P7.edge('P7-0','P7-1', arrowhead=\"none\"); \n",
    "    P7.edge('P7-1','P7-2', arrowhead=\"none\"); \n",
    "    P7.edge('P7-2','P7-3', arrowhead=\"none\");          \n",
    "\n",
    "    dot.subgraph(P0); dot.subgraph(P1); dot.subgraph(P2); dot.subgraph(P3)\n",
    "    dot.subgraph(P4); dot.subgraph(P5); dot.subgraph(P6); dot.subgraph(P7)    \n",
    "    \n",
    "    dot.edge('P0-0','P1-1'); dot.edge('P1-0','P0-1');\n",
    "    dot.edge('P2-0','P3-1'); dot.edge('P3-0','P2-1');\n",
    "    dot.edge('P4-0','P5-1'); dot.edge('P5-0','P4-1');\n",
    "    dot.edge('P6-0','P7-1'); dot.edge('P7-0','P6-1');\n",
    "    dot.edge('P0-1','P2-2'); dot.edge('P2-1','P0-2');\n",
    "    dot.edge('P1-1','P3-2'); dot.edge('P3-1','P1-2');\n",
    "    dot.edge('P4-1','P6-2'); dot.edge('P6-1','P4-2');\n",
    "    dot.edge('P5-1','P7-2'); dot.edge('P7-1','P5-2');\n",
    "   \n",
    "    dot.edge('P0-2','P4-3'); dot.edge('P4-2','P0-3');\n",
    "    dot.edge('P1-2','P5-3'); dot.edge('P5-2','P1-3');\n",
    "    dot.edge('P2-2','P6-3'); dot.edge('P6-2','P2-3');\n",
    "    dot.edge('P3-2','P7-3'); dot.edge('P7-2','P3-3');\n",
    "    \n",
    "    return dot"
   ]
  },
  {
   "cell_type": "code",
   "execution_count": 116,
   "metadata": {
    "collapsed": false,
    "slideshow": {
     "slide_type": "skip"
    }
   },
   "outputs": [
    {
     "ename": "TypeError",
     "evalue": "subgraph() takes 2 positional arguments but 3 were given",
     "output_type": "error",
     "traceback": [
      "\u001b[1;31m---------------------------------------------------------------------------\u001b[0m",
      "\u001b[1;31mTypeError\u001b[0m                                 Traceback (most recent call last)",
      "\u001b[1;32m<ipython-input-116-06b12c6470ec>\u001b[0m in \u001b[0;36m<module>\u001b[1;34m()\u001b[0m\n\u001b[1;32m----> 1\u001b[1;33m \u001b[0mvisualize_dc_1\u001b[0m\u001b[1;33m(\u001b[0m\u001b[1;33m)\u001b[0m\u001b[1;33m\u001b[0m\u001b[0m\n\u001b[0m",
      "\u001b[1;32m<ipython-input-115-23c2ed81f248>\u001b[0m in \u001b[0;36mvisualize_dc_1\u001b[1;34m()\u001b[0m\n\u001b[0;32m     49\u001b[0m     \u001b[0mP7\u001b[0m\u001b[1;33m.\u001b[0m\u001b[0medge\u001b[0m\u001b[1;33m(\u001b[0m\u001b[1;34m'P7-2'\u001b[0m\u001b[1;33m,\u001b[0m\u001b[1;34m'P7-3'\u001b[0m\u001b[1;33m,\u001b[0m \u001b[0marrowhead\u001b[0m\u001b[1;33m=\u001b[0m\u001b[1;34m\"none\"\u001b[0m\u001b[1;33m)\u001b[0m\u001b[1;33m;\u001b[0m\u001b[1;33m\u001b[0m\u001b[0m\n\u001b[0;32m     50\u001b[0m \u001b[1;33m\u001b[0m\u001b[0m\n\u001b[1;32m---> 51\u001b[1;33m     \u001b[0mdot\u001b[0m\u001b[1;33m.\u001b[0m\u001b[0msubgraph\u001b[0m\u001b[1;33m(\u001b[0m\u001b[0mP0\u001b[0m\u001b[1;33m,\u001b[0m \u001b[0mP1\u001b[0m\u001b[1;33m)\u001b[0m\u001b[1;33m\u001b[0m\u001b[0m\n\u001b[0m\u001b[0;32m     52\u001b[0m \u001b[1;31m#    dot.subgraph(P0); dot.subgraph(P1); dot.subgraph(P2); dot.subgraph(P3)\u001b[0m\u001b[1;33m\u001b[0m\u001b[1;33m\u001b[0m\u001b[0m\n\u001b[0;32m     53\u001b[0m \u001b[1;31m#    dot.subgraph(P4); dot.subgraph(P5); dot.subgraph(P6); dot.subgraph(P7)\u001b[0m\u001b[1;33m\u001b[0m\u001b[1;33m\u001b[0m\u001b[0m\n",
      "\u001b[1;31mTypeError\u001b[0m: subgraph() takes 2 positional arguments but 3 were given"
     ]
    }
   ],
   "source": [
    "visualize_dc_1()"
   ]
  },
  {
   "cell_type": "code",
   "execution_count": null,
   "metadata": {
    "collapsed": true
   },
   "outputs": [],
   "source": []
  }
 ],
 "metadata": {
  "celltoolbar": "Slideshow",
  "kernelspec": {
   "display_name": "Anaconda 2.5.0 (Python 3)",
   "language": "python",
   "name": "anaconda_2.5.0_python3"
  },
  "language_info": {
   "codemirror_mode": {
    "name": "ipython",
    "version": 3
   },
   "file_extension": ".py",
   "mimetype": "text/x-python",
   "name": "python",
   "nbconvert_exporter": "python",
   "pygments_lexer": "ipython3",
   "version": "3.5.2"
  }
 },
 "nbformat": 4,
 "nbformat_minor": 0
}
