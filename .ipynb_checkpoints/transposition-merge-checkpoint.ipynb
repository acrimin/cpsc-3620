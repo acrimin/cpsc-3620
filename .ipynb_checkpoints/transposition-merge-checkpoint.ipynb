{
 "cells": [
  {
   "cell_type": "markdown",
   "metadata": {
    "collapsed": true,
    "slideshow": {
     "slide_type": "slide"
    }
   },
   "source": [
    "## <center>Parallelizing Common Sorting Algorithm: Tranposition and Merge Sort</center>\n",
    "### <center> Linh B. Ngo </center>\n",
    "### <center> CPSC 3620 </center>"
   ]
  },
  {
   "cell_type": "markdown",
   "metadata": {
    "slideshow": {
     "slide_type": "slide"
    }
   },
   "source": [
    "#### <center> Buble Sort: Transposition Sort </center>"
   ]
  },
  {
   "cell_type": "markdown",
   "metadata": {
    "slideshow": {
     "slide_type": "subslide"
    }
   },
   "source": [
    "- Largest number moved to the end of the list by a series of compares and exchanges, strting at the opposite end\n",
    "\n",
    "- Actions repeated with subsequent numbers, stopping just before that previously positioned number\n",
    "\n",
    "- In this way, lage numbers move (\"bubble\") towrard one end"
   ]
  },
  {
   "cell_type": "markdown",
   "metadata": {
    "slideshow": {
     "slide_type": "subslide"
    }
   },
   "source": [
    "Picture here"
   ]
  },
  {
   "cell_type": "markdown",
   "metadata": {
    "slideshow": {
     "slide_type": "subslide"
    }
   },
   "source": [
    "- Transposition Sort is a variation of Buble Sort\n",
    "- Operates in two alternating phases, *even* and *odd*\n",
    "- Even phase: Even-numbered processes exchange numbers with their right neighbor\n",
    "- Odd phase: Odd-numbered processes exchange numbers with their right neighbor"
   ]
  },
  {
   "cell_type": "code",
   "execution_count": 19,
   "metadata": {
    "collapsed": false,
    "slideshow": {
     "slide_type": "slide"
    }
   },
   "outputs": [
    {
     "name": "stdout",
     "output_type": "stream",
     "text": [
      "[0, 1, 2, 3, 4, 5, 6, 7]\n"
     ]
    }
   ],
   "source": [
    "import ipyparallel\n",
    "c=ipyparallel.Client(profile=\"mpicluster\")\n",
    "print(c.ids)"
   ]
  },
  {
   "cell_type": "code",
   "execution_count": 18,
   "metadata": {
    "collapsed": false,
    "slideshow": {
     "slide_type": "slide"
    }
   },
   "outputs": [
    {
     "name": "stdout",
     "output_type": "stream",
     "text": [
      "[stdout:6] \n",
      "[10  5  2  8  5  3  3 15  2 15  2  4 14  6 13  7]\n",
      "[ 2  2  2  3  3  4  5  5  6  7  8 10 13 14 15 15]\n"
     ]
    }
   ],
   "source": [
    "%%px\n",
    "import numpy as np\n",
    "from mpi4py import MPI\n",
    "comm = MPI.COMM_WORLD\n",
    "rank = comm.Get_rank(); size = comm.Get_size(); status = MPI.Status();\n",
    "N = 16\n",
    "unsorted = np.zeros(N, dtype=\"int\")\n",
    "final_sorted = np.zeros(N, dtype=\"int\")\n",
    "local_array = np.zeros(int(N / size), dtype=\"int\")\n",
    "local_tmp = np.zeros(int(N / size), dtype=\"int\")\n",
    "local_remain = np.zeros(2 * int(N / size), dtype=\"int\")\n",
    "\n",
    "if rank == 0:\n",
    "    unsorted = np.random.randint(low=0,high=N,size=N)\n",
    "    print (unsorted)\n",
    "comm.Scatter(unsorted, local_array, root = 0)\n",
    "local_array.sort()\n",
    "for step in range(0, size):    \n",
    "    if (step % 2 == 0):\n",
    "        if (rank % 2 == 0):\n",
    "            des = rank + 1\n",
    "        else:\n",
    "            des = rank - 1\n",
    "    else:\n",
    "        if (rank % 2 == 0):\n",
    "            des = rank - 1\n",
    "        else:\n",
    "            des = rank + 1\n",
    "            \n",
    "    if (des >= 0 and des < size):\n",
    "        comm.Send(local_array, dest = des, tag = 0)\n",
    "        comm.Recv(local_tmp, source = des)    \n",
    "               \n",
    "        local_remain = np.concatenate((local_array, local_tmp), axis=0)\n",
    "        local_remain.sort()\n",
    "        \n",
    "        if (rank < des):\n",
    "            local_array = local_remain[0:int(N/size)]\n",
    "        else:\n",
    "            local_array = local_remain[int(N/size):2 * int(N/size)]\n",
    "                   \n",
    "comm.Gather(local_array, final_sorted)\n",
    "\n",
    "if (rank  == 0):\n",
    "    print (final_sorted)"
   ]
  },
  {
   "cell_type": "markdown",
   "metadata": {
    "slideshow": {
     "slide_type": "slide"
    }
   },
   "source": [
    "#### <center> Merge Sort </center>"
   ]
  },
  {
   "cell_type": "markdown",
   "metadata": {
    "slideshow": {
     "slide_type": "subslide"
    }
   },
   "source": [
    "- A classical sequential sorting algorithm using divide-and-conquer approach\n",
    "\n",
    "- Unsorted list first divided into half. Each half is again divided into two. Continued until individual numbers obtained.\n",
    "\n",
    "- Then pairs of numbers combined (merged) into sorted list of two numbers.\n",
    "\n",
    "- Pairs of these lists of four numbers are merged into sorted lists of eight numbers.\n",
    "\n",
    "- This is continued until the one fully sorted list is obtained.\n"
   ]
  },
  {
   "cell_type": "code",
   "execution_count": 19,
   "metadata": {
    "collapsed": false,
    "slideshow": {
     "slide_type": "slide"
    }
   },
   "outputs": [
    {
     "name": "stdout",
     "output_type": "stream",
     "text": [
      "[0, 1, 2, 3, 4, 5, 6, 7]\n"
     ]
    }
   ],
   "source": [
    "import ipyparallel\n",
    "c=ipyparallel.Client(profile=\"mpicluster\")\n",
    "print(c.ids)"
   ]
  },
  {
   "cell_type": "code",
   "execution_count": 30,
   "metadata": {
    "collapsed": false
   },
   "outputs": [
    {
     "name": "stdout",
     "output_type": "stream",
     "text": [
      "[stdout:6] \n",
      "[ 5 13  7 14  4 13 15  3  3 13  2 12 12 12  1  2]\n",
      "[ 1  2  2  3  3  4  5  7 12 12 12 13 13 13 14 15]\n"
     ]
    }
   ],
   "source": [
    "%%px\n",
    "import numpy as np\n",
    "from mpi4py import MPI\n",
    "comm = MPI.COMM_WORLD\n",
    "rank = comm.Get_rank(); size = comm.Get_size(); status = MPI.Status();\n",
    "N = 16\n",
    "unsorted = np.zeros(N, dtype=\"int\")\n",
    "final_sorted = np.zeros(N, dtype=\"int\")\n",
    "local_array = np.zeros(int(N / size), dtype=\"int\")\n",
    "local_tmp = np.zeros(int(N / size), dtype=\"int\")\n",
    "local_remain = np.zeros(2 * int(N / size), dtype=\"int\")\n",
    "\n",
    "if rank == 0:\n",
    "    unsorted = np.random.randint(low=0,high=N,size=N)\n",
    "    print (unsorted)\n",
    "comm.Scatter(unsorted, local_array, root = 0)\n",
    "\n",
    "local_array.sort()\n",
    "\n",
    "step = size / 2\n",
    "\n",
    "while (step >= 1):\n",
    "    if (rank >= step and rank < step * 2):\n",
    "        comm.Send(local_array, rank - step, tag = 0)\n",
    "    elif (rank < step):\n",
    "        local_tmp = np.zeros(local_array.size, dtype=\"int\")\n",
    "        local_remain = np.zeros(2 * local_array.size, dtype=\"int\")\n",
    "        comm.Recv(local_tmp, rank + step, tag = 0)\n",
    "        i = 0 #local_array counter\n",
    "        j = 0 # local_tmp counter\n",
    "        for k in range (0, 2 * local_array.size):\n",
    "            if (i >= local_array.size):\n",
    "                local_remain[k] = local_tmp[j]\n",
    "                j += 1\n",
    "            elif (j >= local_array.size):\n",
    "                local_remain[k] = local_array[i]\n",
    "                i += 1\n",
    "            elif (local_array[i] > local_tmp[j]):\n",
    "                local_remain[k] = local_tmp[j]\n",
    "                j += 1\n",
    "            else:\n",
    "                local_remain[k] = local_array[i]\n",
    "                i += 1        \n",
    "        local_array = local_remain\n",
    "    step = step / 2\n",
    "    \n",
    "if (rank  == 0):\n",
    "    print (local_array)"
   ]
  }
 ],
 "metadata": {
  "celltoolbar": "Slideshow",
  "kernelspec": {
   "display_name": "Anaconda 2.5.0 (Python 3)",
   "language": "python",
   "name": "anaconda_2.5.0_python3"
  },
  "language_info": {
   "codemirror_mode": {
    "name": "ipython",
    "version": 3
   },
   "file_extension": ".py",
   "mimetype": "text/x-python",
   "name": "python",
   "nbconvert_exporter": "python",
   "pygments_lexer": "ipython3",
   "version": "3.5.2"
  }
 },
 "nbformat": 4,
 "nbformat_minor": 0
}
