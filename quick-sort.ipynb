{
 "cells": [
  {
   "cell_type": "code",
   "execution_count": 1,
   "metadata": {
    "collapsed": false
   },
   "outputs": [
    {
     "name": "stdout",
     "output_type": "stream",
     "text": [
      "[0, 1, 2, 3]\n"
     ]
    }
   ],
   "source": [
    "import ipyparallel\n",
    "c=ipyparallel.Client(profile=\"mpicluster\")\n",
    "print(c.ids)"
   ]
  },
  {
   "cell_type": "code",
   "execution_count": null,
   "metadata": {
    "collapsed": true
   },
   "outputs": [],
   "source": [
    "%%px\n",
    "import numpy as np\n",
    "from mpi4py import MPI\n",
    "comm = MPI.COMM_WORLD\n",
    "rank = comm.Get_rank(); size = comm.Get_size(); status = MPI.Status();\n",
    "N = 16\n",
    "unsorted = np.zeros(N, dtype=\"int\")\n",
    "final_sorted = np.zeros(N, dtype=\"int\")\n",
    "local_array = None\n",
    "local_tmp = np.zeros(int(N / size), dtype=\"int\")\n",
    "local_remain = np.zeros(2 * int(N / size), dtype=\"int\")\n",
    "\n",
    "if rank == 0:\n",
    "    unsorted = np.random.randint(low=0,high=N,size=N)\n",
    "    print (unsorted)\n",
    "    local_array = unsorted\n",
    "#comm.Scatter(unsorted, local_array, root = 0)\n",
    "#local_array.sort()\n",
    "\n",
    "distance = 1\n",
    "print (\"Rank: \", rank)\n",
    "while (distance <= size / 2):\n",
    "    if (rank < distance):\n",
    "        pivot = -1\n",
    "        if (local_array != None):\n",
    "            comm.Send(local_array[0], rank + distance, tag = 0)\n",
    "            local_tmp = local_array[local_array > local_array[0]]\n",
    "            comm.Send(local_tmp.size, rank + distance, tag = 0)\n",
    "            comm.Send(local_tmp, rank + distance, tag = 0)\n",
    "            local_array = \n",
    "        else:\n",
    "            comm.Send()\n",
    "    elif (rank < 2 * distance):\n",
    "        local_tmp = np.zeros(local_array.size, dtype=\"int\")\n",
    "        local_remain = np.zeros(2 * local_array.size, dtype=\"int\")\n",
    "        comm.Recv(local_tmp, rank + step, tag = 0)\n",
    "        i = 0 #local_array counter\n",
    "        j = 0 # local_tmp counter\n",
    "        for k in range (0, 2 * local_array.size):\n",
    "            if (i >= local_array.size):\n",
    "                local_remain[k] = local_tmp[j]\n",
    "                j += 1\n",
    "            elif (j >= local_array.size):\n",
    "                local_remain[k] = local_array[i]\n",
    "                i += 1\n",
    "            elif (local_array[i] > local_tmp[j]):\n",
    "                local_remain[k] = local_tmp[j]\n",
    "                j += 1\n",
    "            else:\n",
    "                local_remain[k] = local_array[i]\n",
    "                i += 1        \n",
    "        print (\"Step: \", step)\n",
    "        print (\"local array: \", local_array)\n",
    "        print (\"local tmp: \", local_tmp)\n",
    "        print (\"local remain: \", local_remain)\n",
    "        local_array = local_remain\n",
    "    distance *= 2\n",
    "\n",
    "   distance = 1;\n",
    "   while(distance <= size / 2) {\n",
    "      if(rank < distance) {\n",
    "         MPI_Send(message, count, datatype, rank + distance, TAG_BCAST, comm);\n",
    "      }\n",
    "      else if(rank < 2 * distance) {\n",
    "         MPI_Recv(message, count, datatype, rank - distance, TAG_BCAST, comm, &stat);\n",
    "      }\n",
    "      distance *= 2;\n",
    "   }\n",
    "    \n",
    "if (rank  == 0):\n",
    "    print (local_array)"
   ]
  },
  {
   "cell_type": "code",
   "execution_count": 4,
   "metadata": {
    "collapsed": false
   },
   "outputs": [
    {
     "name": "stdout",
     "output_type": "stream",
     "text": [
      "[ 4 13  5  3 15  1  3 10  1 14  3  1  6  1 11  6]\n"
     ]
    },
    {
     "ename": "AttributeError",
     "evalue": "'NoneType' object has no attribute 'size'",
     "output_type": "error",
     "traceback": [
      "\u001b[0;31m---------------------------------------------------------------------------\u001b[0m",
      "\u001b[0;31mAttributeError\u001b[0m                            Traceback (most recent call last)",
      "\u001b[0;32m<ipython-input-4-de7a95ba95f7>\u001b[0m in \u001b[0;36m<module>\u001b[0;34m()\u001b[0m\n\u001b[1;32m      5\u001b[0m \u001b[0munsorted\u001b[0m\u001b[1;33m[\u001b[0m\u001b[0munsorted\u001b[0m \u001b[1;33m>\u001b[0m \u001b[0munsorted\u001b[0m\u001b[1;33m[\u001b[0m\u001b[1;36m0\u001b[0m\u001b[1;33m]\u001b[0m\u001b[1;33m]\u001b[0m\u001b[1;33m\u001b[0m\u001b[0m\n\u001b[1;32m      6\u001b[0m \u001b[0msorted_array\u001b[0m \u001b[1;33m=\u001b[0m \u001b[1;32mNone\u001b[0m\u001b[1;33m\u001b[0m\u001b[0m\n\u001b[0;32m----> 7\u001b[0;31m \u001b[0mprint\u001b[0m \u001b[1;33m(\u001b[0m\u001b[0msorted_array\u001b[0m\u001b[1;33m.\u001b[0m\u001b[0msize\u001b[0m\u001b[1;33m)\u001b[0m\u001b[1;33m\u001b[0m\u001b[0m\n\u001b[0m",
      "\u001b[0;31mAttributeError\u001b[0m: 'NoneType' object has no attribute 'size'"
     ]
    }
   ],
   "source": [
    "import numpy as np\n",
    "N = 16\n",
    "unsorted = np.random.randint(low=0,high=N,size=N)\n",
    "print (unsorted)\n",
    "unsorted[unsorted > unsorted[0]]\n",
    "sorted_array = None\n",
    "print (sorted_array.size)"
   ]
  }
 ],
 "metadata": {
  "kernelspec": {
   "display_name": "Python 3",
   "language": "python",
   "name": "python3"
  },
  "language_info": {
   "codemirror_mode": {
    "name": "ipython",
    "version": 3
   },
   "file_extension": ".py",
   "mimetype": "text/x-python",
   "name": "python",
   "nbconvert_exporter": "python",
   "pygments_lexer": "ipython3",
   "version": "3.5.2"
  }
 },
 "nbformat": 4,
 "nbformat_minor": 0
}
