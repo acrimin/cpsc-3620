{
 "cells": [
  {
   "cell_type": "markdown",
   "metadata": {
    "slideshow": {
     "slide_type": "slide"
    }
   },
   "source": [
    "## <center>Introduction to Distributed and Cluster Computing </center>\n",
    "## <center> Linh B. Ngo </center>\n",
    "## <center> CPSC 3620 </center>"
   ]
  },
  {
   "cell_type": "markdown",
   "metadata": {
    "slideshow": {
     "slide_type": "slide"
    }
   },
   "source": [
    "## <center> Course Website </center>\n",
    "\n",
    "<center> https://linhbngo.github.io/cpsc-3620/ </center>"
   ]
  },
  {
   "cell_type": "markdown",
   "metadata": {
    "slideshow": {
     "slide_type": "slide"
    }
   },
   "source": [
    "## <center> General Information </center>\n",
    "\n",
    "The objectives of this course are to investigate issues in modern distributed platforms. We will cover a number of important technologies in the areas of distributed computing in computational and data-intensive problems. \n",
    "\n",
    "By the end of the course, each student should understand and be able to apply several specific tradeoffs for parallel application and algorithms development, performance, and management on a number of distributed platforms. Each student will complete several programming and system exercises and a semester group project based on the concepts studied in the course.\n"
   ]
  },
  {
   "cell_type": "markdown",
   "metadata": {
    "slideshow": {
     "slide_type": "slide"
    }
   },
   "source": [
    "## <center> Learning Objectives </center>\n",
    "\n",
    "- Graduates will be able to apply mathematical foundations, algorithmic principles, and computer science theory in the modeling and design of computer-based systems in a way that demonstrates comprehension of the tradeoffs involved in design choices.\n",
    "- Graduates will be able to analyze a problem, and identify and define the computing requirements appropriate to its solution.\n",
    "- Graduates will be able to apply design and development principles in the construction of software systems.\n",
    "- Graduates will be able to function effectively on teams to accomplish a common goal.\n"
   ]
  },
  {
   "cell_type": "markdown",
   "metadata": {
    "slideshow": {
     "slide_type": "slide"
    }
   },
   "source": [
    "## <center> Prerequisites </center>\n",
    "\n",
    "1. Working knowledge of the Python programming language and Linux system.\n",
    "2. Working knowledge of data structures and algorithms\n",
    "3. Familiarity with C/C++/Java."
   ]
  },
  {
   "cell_type": "markdown",
   "metadata": {
    "slideshow": {
     "slide_type": "slide"
    }
   },
   "source": [
    "## <center> Important Dates </center>\n",
    "\n",
    "- August 30: Last day to drop a class without a “W”\n",
    "- October 21: Last day to drop a class\n",
    "- November 7-8: Fall Break\n",
    "- November 23-25: Thanksgiving\n",
    "- December 8: Final Exam (11:30AM – 02:00PM)"
   ]
  },
  {
   "cell_type": "markdown",
   "metadata": {
    "slideshow": {
     "slide_type": "slide"
    }
   },
   "source": [
    "## <center> Reference Book (Optional) </center>\n",
    "\n",
    "*Parallel Programming: Techniques and Applications using Networked Workstations and Parallel Computers (2nd Edition - 2004)* by Barry Wilkinson and Michael Allen. (ISBN: 0131405632)"
   ]
  },
  {
   "cell_type": "markdown",
   "metadata": {
    "slideshow": {
     "slide_type": "slide"
    }
   },
   "source": [
    "## <center> Laptop requirements </center>\n",
    "\n",
    "As a significant portion of the course involves working with the Palmetto Supercomputer and coding, having access to a laptop during class time is important so that the students can follow the in-class materials. As there are a limited number of power outlets in the classroom, the students need to make sure that their laptops are fully charged for the duration of the class."
   ]
  },
  {
   "cell_type": "markdown",
   "metadata": {
    "slideshow": {
     "slide_type": "slide"
    }
   },
   "source": [
    "## <center> Course Materials </center>\n",
    "\n",
    "Lecture slides and example codes will be available for download from the website. Links to papers on subjects we will be discussing in class will be listed on the website and/or embedded in the slides. Students are responsible for all the materials including lecture slides, example codes, and papers."
   ]
  },
  {
   "cell_type": "markdown",
   "metadata": {
    "slideshow": {
     "slide_type": "slide"
    }
   },
   "source": [
    "## <center> Grading </center>\n",
    "\n",
    "Grades will be based on the following distribution:\n",
    "\n",
    "- Homework Assignments: 40%\n",
    "- Exam 1: 25% (covering the first half of the semester)\n",
    "- Exam 2: 25% (covering the second half of the semester)\n",
    "- Quiz and participation score: 10%\n",
    "\n",
    "Letter grades are assigned according to the standard scale (i.e. A: 90-100, B: 80-89, C: 70-79, D: 60-69, F: 0-59)."
   ]
  },
  {
   "cell_type": "markdown",
   "metadata": {
    "slideshow": {
     "slide_type": "slide"
    }
   },
   "source": [
    "## <center> Late Work </center>\n",
    "\n",
    "Without prior approval from the instructors, late homework assignments will not be accepted but will be assigned a grade of zero. Unless accompanied with a valid medical or University excuse, all late submissions will be penalized. A make-up for the Exams will be given only with a valid medical or University excuse. Blackboard “notification of absence” is not sufficient."
   ]
  },
  {
   "cell_type": "markdown",
   "metadata": {
    "slideshow": {
     "slide_type": "slide"
    }
   },
   "source": [
    "## <center> Attendance Policy </center>\n",
    "\n",
    "Attendance will not be graded, but we will take note of who attends, including occasionally circulating a sign-up sheet during class. If you miss a class, you are responsible for obtaining lecture notes, handouts, and homework assignments from fellow students. In the event that you are truly sick with a contagious condition such as the flu, please do not expose your fellow students and instructors to such illnesses. If the instructor is late for class, please wait 20 minutes before leaving."
   ]
  },
  {
   "cell_type": "markdown",
   "metadata": {
    "slideshow": {
     "slide_type": "slide"
    }
   },
   "source": [
    "## <center> Academic Integrity </center>\n",
    "\n",
    "“As members of the Clemson University community, we have inherited Thomas Green Clemson’s vision of this institution as a “high seminary of learning.” Fundamental to this vision is a mutual commitment to truthfulness, honor, and responsibility, without which we cannot earn the trust and respect of others. Furthermore, we recognize that academic dishonesty detracts from the value of a Clemson degree. Therefore, we shall not tolerate lying, cheating, or stealing in any form.”"
   ]
  },
  {
   "cell_type": "markdown",
   "metadata": {
    "slideshow": {
     "slide_type": "slide"
    }
   },
   "source": [
    "## <center> Academic Integrity </center>\n",
    "\n",
    "The instructor takes academic integrity extremely seriously and expects students to do so too. Cheating, plagiarism, and all other academic integrity violations will handle according to the University policies regarding classroom expectations and academic integrity violation, as specified at http://www.clemson.edu/academics/academic-integrity/"
   ]
  },
  {
   "cell_type": "markdown",
   "metadata": {
    "slideshow": {
     "slide_type": "slide"
    }
   },
   "source": [
    "## <center> Collaboration Policy </center>\n",
    "\n",
    "In and out of class assignments are opportunities for learning and discovery. Collaboration between students on homework assignments in this class is permitted. Collaboration includes students working together to gain an understanding of course concepts, active discussions with the instructor and other people to learn about course material, and other activities in which a student is actively seeking to learn and understand the topics covered in the course. I do expect that you understand and can explain any homework solution that you submit, no matter how you worked on it."
   ]
  },
  {
   "cell_type": "markdown",
   "metadata": {
    "slideshow": {
     "slide_type": "slide"
    }
   },
   "source": [
    "## <center> Collaboration Policy </center>\n",
    "\n",
    "As has always been the case, however, plagiarism is not allowed. Taking assignments from other classmates or downloading completed assignments from websites is not allowed. These are activities that are simply meant to earn a score, not understand the course material. If you collaborate with other students in class or use sources other than those provided for everyone in the course (e.g., instructor, recommended textbook, the course web site, or the lectures) to help yourself learn and understand, then you must give appropriate credit to those collaborators and/or sources. As long as you acknowledge the collaboration that occurred, your grade will not be affected nor will you be charged with academic misconduct. On the other hand, a failure to acknowledge collaborations or give appropriate credit to sources of help (other than course materials or personnel as noted above) will be treated as plagiarism."
   ]
  },
  {
   "cell_type": "markdown",
   "metadata": {
    "slideshow": {
     "slide_type": "slide"
    }
   },
   "source": [
    "## <center> Contributorship Statement </center>\n",
    "\n",
    "You are required to include a contributorship statement at the beginning of every assignment that you submit. The statement should say:\n",
    "\n",
    "“I worked on this assignment alone, using only course materials.”\n",
    "\n",
    "OR\n",
    "\n",
    "“I worked on this assignment with **names of the people you worked with**. My role in completing the assignment was **provide description of all your contributions, while provide names of other collaborators role in completing the assignment was provide a description of their contributions**. We consulted related material that can be found at **cite any other materials not provided as course materials**.”\n",
    "\n",
    "Any assignment that does not include a collaboration statement will not receive a grade until the statement is provided."
   ]
  },
  {
   "cell_type": "markdown",
   "metadata": {
    "slideshow": {
     "slide_type": "slide"
    }
   },
   "source": [
    "## <center> Disability Accommodations </center>\n",
    "\n",
    "Students with disabilities needing accommodations should make an appointment with Dr. Arlene Stewart, Director of Disability Services, to discuss specific needs within the first month of classes. Student should present a Faculty Accommodation Letter from Student Disability Services when they meet with instructors. The Office of Student Disability Services in Suite 239, Academic Success Building (864-656-6848; sds-l@clemson.edu). Please be aware that accommodations are not retroactive and new Faculty Accommodation Letters must be presented each semester."
   ]
  }
 ],
 "metadata": {
  "celltoolbar": "Slideshow",
  "kernelspec": {
   "display_name": "Anaconda 2.5.0 (Python 3)",
   "language": "python",
   "name": "anaconda_2.5.0_python3"
  },
  "language_info": {
   "codemirror_mode": {
    "name": "ipython",
    "version": 3
   },
   "file_extension": ".py",
   "mimetype": "text/x-python",
   "name": "python",
   "nbconvert_exporter": "python",
   "pygments_lexer": "ipython3",
   "version": "3.5.2"
  }
 },
 "nbformat": 4,
 "nbformat_minor": 0
}
