{
 "cells": [
  {
   "cell_type": "markdown",
   "metadata": {
    "slideshow": {
     "slide_type": "slide"
    }
   },
   "source": [
    "## <center> What is Parallel Computing? </center>\n",
    "\n",
    "<center> <img src=\"../pictures/payroll-serial.png\" width=\"700\"/> </center>"
   ]
  },
  {
   "cell_type": "markdown",
   "metadata": {
    "slideshow": {
     "slide_type": "slide"
    }
   },
   "source": [
    "## <center> What is Parallel Computing? </center>\n",
    "\n",
    "<center> <img src=\"../pictures/payroll-parallel.png\" width=\"700\"/> </center>"
   ]
  },
  {
   "cell_type": "markdown",
   "metadata": {
    "slideshow": {
     "slide_type": "slide"
    }
   },
   "source": [
    "## <center> What is Parallel Computing </center>\n",
    "\n",
    "- Problem\n",
    "- Execution framework\n",
    "- Compute resource"
   ]
  },
  {
   "cell_type": "markdown",
   "metadata": {
    "slideshow": {
     "slide_type": "slide"
    }
   },
   "source": [
    "## <center> What is Parallel Computing </center>\n",
    "\n",
    "The **problem** should be able to\n",
    "\n",
    "- Be broken apart into discrete pieces of work that can be solved simultaneously\n",
    "- Be solved in less time with multiple compute resources than with a single compute resource"
   ]
  },
  {
   "cell_type": "markdown",
   "metadata": {
    "slideshow": {
     "slide_type": "slide"
    }
   },
   "source": [
    "## <center> What is Parallel Computing </center>\n",
    "\n",
    "The **execution framework** should be able to\n",
    "\n",
    "- Execute multiple program instructions concurrently at any moment in time"
   ]
  },
  {
   "cell_type": "markdown",
   "metadata": {
    "slideshow": {
     "slide_type": "slide"
    }
   },
   "source": [
    "## <center> What is Parallel Computing </center>\n",
    "\n",
    "The **compute resource** might be\n",
    "\n",
    "- A single computer with multiple processors\n",
    "- An arbitrary number of computers connected by a network\n",
    "- A combination of both\n",
    "- A special computational component inside a single compute, separate from the main processors (GPU)"
   ]
  },
  {
   "cell_type": "markdown",
   "metadata": {
    "slideshow": {
     "slide_type": "slide"
    }
   },
   "source": [
    "## <center> Progress of Parallel and Distributed Computing </center>\n",
    "\n",
    "<center> Single computer, single core </center>\n",
    "\n",
    "<center> <img src=\"../pictures/single-core.png\" width=\"250\"/> </center>"
   ]
  },
  {
   "cell_type": "markdown",
   "metadata": {
    "slideshow": {
     "slide_type": "slide"
    }
   },
   "source": [
    "## <center> Progress of Parallel and Distributed Computing </center>\n",
    "\n",
    "<center> Single site, single computer, multiple cores </center>\n",
    "\n",
    "<center> <img src=\"../pictures/multiple-core.png\" width=\"250\"/> </center>"
   ]
  },
  {
   "cell_type": "markdown",
   "metadata": {
    "slideshow": {
     "slide_type": "slide"
    }
   },
   "source": [
    "## <center> Progress of Parallel and Distributed Computing </center>\n",
    "\n",
    "<center> Single site, multiple computers, multiple cores </center>\n",
    "\n",
    "<center> <img src=\"../pictures/cluster-computers.png\" width=\"250\"/> </center>"
   ]
  },
  {
   "cell_type": "markdown",
   "metadata": {
    "slideshow": {
     "slide_type": "slide"
    }
   },
   "source": [
    "## <center> Progress of Parallel and Distributed Computing </center>\n",
    "\n",
    "<center> Multiple sites, multiple computers, multiple cores </center>\n",
    "\n",
    "<center> <img src=\"../pictures/grid-computing.png\" width=\"400\"/> </center>"
   ]
  },
  {
   "cell_type": "markdown",
   "metadata": {
    "slideshow": {
     "slide_type": "slide"
    }
   },
   "source": [
    "## <center> Progress of Parallel and Distributed Computing </center>\n",
    "\n",
    "<center> Multiple sites, multiple computers, multiple cores, virtual unified domain </center>\n",
    "\n",
    "<center> <img src=\"../pictures/cloud.png\" width=\"400\"/> </center>"
   ]
  },
  {
   "cell_type": "markdown",
   "metadata": {
    "slideshow": {
     "slide_type": "slide"
    }
   },
   "source": [
    "## <center> Distributed Computing Systems </center>\n",
    "\n",
    "\"A collection of individual computing devices that can communicate with each other.\" (Attiya and Welch, 2004)"
   ]
  },
  {
   "cell_type": "markdown",
   "metadata": {
    "slideshow": {
     "slide_type": "slide"
    }
   },
   "source": [
    "## <center> Distributed Computing Systems </center>\n",
    "\n",
    "\"A collection of individual computing devices that **can communicate with each other**.\" (Attiya and Welch, 2004)"
   ]
  },
  {
   "cell_type": "code",
   "execution_count": null,
   "metadata": {
    "collapsed": true
   },
   "outputs": [],
   "source": []
  }
 ],
 "metadata": {
  "celltoolbar": "Slideshow",
  "kernelspec": {
   "display_name": "Anaconda 2.5.0 (Python 3)",
   "language": "python",
   "name": "anaconda_2.5.0_python3"
  },
  "language_info": {
   "codemirror_mode": {
    "name": "ipython",
    "version": 3
   },
   "file_extension": ".py",
   "mimetype": "text/x-python",
   "name": "python",
   "nbconvert_exporter": "python",
   "pygments_lexer": "ipython3",
   "version": "3.5.2"
  }
 },
 "nbformat": 4,
 "nbformat_minor": 0
}
