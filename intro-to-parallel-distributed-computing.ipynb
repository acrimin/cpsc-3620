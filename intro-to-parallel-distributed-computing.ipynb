{
 "cells": [
  {
   "cell_type": "markdown",
   "metadata": {
    "slideshow": {
     "slide_type": "slide"
    }
   },
   "source": [
    "## <center> Introduction to Parallel and Distributed Computing </center>"
   ]
  },
  {
   "cell_type": "markdown",
   "metadata": {
    "slideshow": {
     "slide_type": "slide"
    }
   },
   "source": [
    "### <center> What is Parallel Computing? </center>\n",
    "\n",
    "<center> <img src=\"../pictures/payroll-serial.png\" width=\"700\"/> </center>"
   ]
  },
  {
   "cell_type": "markdown",
   "metadata": {
    "slideshow": {
     "slide_type": "slide"
    }
   },
   "source": [
    "### <center> What is Parallel Computing? </center>\n",
    "\n",
    "<center> <img src=\"../pictures/payroll-parallel.png\" width=\"700\"/> </center>"
   ]
  },
  {
   "cell_type": "markdown",
   "metadata": {
    "slideshow": {
     "slide_type": "slide"
    }
   },
   "source": [
    "### <center> What is Parallel Computing </center>\n",
    "\n",
    "- Problem\n",
    "- Execution framework\n",
    "- Compute resource"
   ]
  },
  {
   "cell_type": "markdown",
   "metadata": {
    "slideshow": {
     "slide_type": "slide"
    }
   },
   "source": [
    "### <center> What is Parallel Computing </center>\n",
    "\n",
    "The **problem** should be able to\n",
    "\n",
    "- Be broken apart into discrete pieces of work that can be solved simultaneously\n",
    "- Be solved in less time with multiple compute resources than with a single compute resource"
   ]
  },
  {
   "cell_type": "markdown",
   "metadata": {
    "slideshow": {
     "slide_type": "slide"
    }
   },
   "source": [
    "### <center> What is Parallel Computing </center>\n",
    "\n",
    "The **execution framework** should be able to\n",
    "\n",
    "- Execute multiple program instructions concurrently at any moment in time"
   ]
  },
  {
   "cell_type": "markdown",
   "metadata": {
    "slideshow": {
     "slide_type": "slide"
    }
   },
   "source": [
    "### <center> What is Parallel Computing </center>\n",
    "\n",
    "The **compute resource** might be\n",
    "\n",
    "- A single computer with multiple processors\n",
    "- An arbitrary number of computers connected by a network\n",
    "- A combination of both\n",
    "- A special computational component inside a single compute, separate from the main processors (GPU)"
   ]
  },
  {
   "cell_type": "markdown",
   "metadata": {
    "slideshow": {
     "slide_type": "slide"
    }
   },
   "source": [
    "### <center> Measuring of Speed </center>\n",
    "\n",
    "- FLOPS – floating-point operations per second\n",
    "- MFLOPS – 1,000,000 FLOPS\n",
    "- GFLOPS – 1,000,000,000 FLOPS\n",
    "- TFLOPS – 1,000,000,000,000 FLOPS\n",
    "- PFLOPS – 1,000,000,000,000,000 FLOPS\n",
    "- EFLOPS – 1,000,000,000,000,000,000 FLOPS"
   ]
  },
  {
   "cell_type": "markdown",
   "metadata": {
    "slideshow": {
     "slide_type": "slide"
    }
   },
   "source": [
    "### <center> Progress of Parallel and Distributed Computing </center>\n",
    "\n",
    "<center> Single computer, single core </center>\n",
    "\n",
    "<center> <img src=\"../pictures/single-core.png\" width=\"250\"/> </center>"
   ]
  },
  {
   "cell_type": "markdown",
   "metadata": {
    "slideshow": {
     "slide_type": "slide"
    }
   },
   "source": [
    "### <center> Progress of Parallel and Distributed Computing </center>\n",
    "\n",
    "<center> Single site, single computer, multiple cores </center>\n",
    "\n",
    "<center> <img src=\"../pictures/multiple-core.png\" width=\"250\"/> </center>"
   ]
  },
  {
   "cell_type": "markdown",
   "metadata": {
    "slideshow": {
     "slide_type": "slide"
    }
   },
   "source": [
    "### <center> Progress of Parallel and Distributed Computing </center>\n",
    "\n",
    "<center> Single site, multiple computers, multiple cores </center>\n",
    "\n",
    "<center> <img src=\"../pictures/cluster-computers.png\" width=\"250\"/> </center>"
   ]
  },
  {
   "cell_type": "markdown",
   "metadata": {
    "slideshow": {
     "slide_type": "slide"
    }
   },
   "source": [
    "### <center> Progress of Parallel and Distributed Computing </center>\n",
    "\n",
    "<center> Multiple sites, multiple computers, multiple cores </center>\n",
    "\n",
    "<center> <img src=\"../pictures/grid-computing.png\" width=\"400\"/> </center>"
   ]
  },
  {
   "cell_type": "markdown",
   "metadata": {
    "slideshow": {
     "slide_type": "slide"
    }
   },
   "source": [
    "### <center> Progress of Parallel and Distributed Computing </center>\n",
    "\n",
    "<center> Multiple sites, multiple computers, multiple cores, virtual unified domain </center>\n",
    "\n",
    "<center> <img src=\"../pictures/cloud.png\" width=\"400\"/> </center>"
   ]
  },
  {
   "cell_type": "markdown",
   "metadata": {
    "slideshow": {
     "slide_type": "slide"
    }
   },
   "source": [
    "### <center> Distributed Computing Systems </center>\n",
    "\n",
    "\"A collection of individual computing devices that can communicate with each other.\" (Attiya and Welch, 2004)"
   ]
  },
  {
   "cell_type": "markdown",
   "metadata": {
    "slideshow": {
     "slide_type": "slide"
    }
   },
   "source": [
    "### <center> Distributed Computing Systems </center>\n",
    "\n",
    "\"A collection of individual computing devices that **can communicate with each other**.\" (Attiya and Welch, 2004)"
   ]
  },
  {
   "cell_type": "markdown",
   "metadata": {
    "collapsed": true,
    "slideshow": {
     "slide_type": "slide"
    }
   },
   "source": [
    "### <center> The Demand for Computation Speed </center>\n",
    "\n",
    "<div>\n",
    "    <div style=\"max-width:600px;float:left\">\n",
    "        <p> Geophysical Fluid Dynamic Laboratory hurricane model (NOAA)\n",
    "        <p> Hurricane Weather Research and Forecasting model (NOAA/NRL/FSU)\n",
    "        <p> European Centre for Medium-Range Weather Forecast model\n",
    "        <p> Global Forecast model (National Weather Service)\n",
    "    </div>\n",
    "    <div style=\"max-width:400px;float:right\">\n",
    "        <center> \n",
    "            <img src=\"../pictures/sandy-forecast.png\" width=\"500\"/>\n",
    "        </center>\n",
    "    </div>\n",
    "</div>"
   ]
  },
  {
   "cell_type": "markdown",
   "metadata": {
    "slideshow": {
     "slide_type": "slide"
    }
   },
   "source": [
    "### <center> Computational Power for Weather Forecast Agencies (2013)\n",
    "\n",
    "<center><img src=\"../pictures/weather-computer-2013.png\" width=\"500\"/></center>\n",
    "\n",
    "<center> http://blogs.agu.org/wildwildscience/2013/02/17/seriously-behind-the-numerical-weather-prediction-gap/ </center>"
   ]
  },
  {
   "cell_type": "markdown",
   "metadata": {
    "slideshow": {
     "slide_type": "slide"
    }
   },
   "source": [
    "### <center> Catching up </center>\n",
    "\n",
    "http://www.noaa.gov/noaa-completes-weather-and-climate-supercomputer-upgrades\n",
    "\n",
    "- Two new supercomputers, Luna and Surge\n",
    "- 2.89 PFLOPS each for a total of 5.78 PFLOPS (previous generation is only 776 TFLOPS)\n",
    "- Increase water quantity forecast from 4000 locations to 2.7 million locations (700-fold increase in spatial density)\n",
    "- Can track and forecast 8 storms at any given time\n",
    "- 44.5 million dollars investment\n"
   ]
  },
  {
   "cell_type": "markdown",
   "metadata": {
    "slideshow": {
     "slide_type": "slide"
    }
   },
   "source": [
    "### <center> Application Areas (2012) </center>\n",
    "\n",
    "<center><img src=\"../pictures/top500app.png\" width=\"600\"/></center>\n",
    "\n",
    "<center> https://www.top500.org/statistics/overtime/ </center>"
   ]
  },
  {
   "cell_type": "markdown",
   "metadata": {
    "slideshow": {
     "slide_type": "slide"
    }
   },
   "source": [
    "### <center> Market Segment (2012) </center>\n",
    "\n",
    "<center><img src=\"../pictures/top500-segment-share.png\" width=\"600\"/></center>\n",
    "\n",
    "<center> https://www.top500.org/statistics/overtime/ </center>"
   ]
  }
 ],
 "metadata": {
  "celltoolbar": "Slideshow",
  "kernelspec": {
   "display_name": "Anaconda 2.5.0 (Python 3)",
   "language": "python",
   "name": "anaconda_2.5.0_python3"
  },
  "language_info": {
   "codemirror_mode": {
    "name": "ipython",
    "version": 3
   },
   "file_extension": ".py",
   "mimetype": "text/x-python",
   "name": "python",
   "nbconvert_exporter": "python",
   "pygments_lexer": "ipython3",
   "version": "3.5.2"
  }
 },
 "nbformat": 4,
 "nbformat_minor": 0
}
