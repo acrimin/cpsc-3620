{
 "cells": [
  {
   "cell_type": "markdown",
   "metadata": {
    "slideshow": {
     "slide_type": "subslide"
    }
   },
   "source": [
    "## <center>Quick Sort</center>\n",
    "### <center> Linh B. Ngo </center>\n",
    "### <center> CPSC 3620 </center>"
   ]
  },
  {
   "cell_type": "markdown",
   "metadata": {
    "slideshow": {
     "slide_type": "slide"
    }
   },
   "source": [
    "- Very popular sequential sorting algorithm that performs well with average sequential time complexity of O(nlogn).\n",
    "\n",
    "- First list divided into two sublists. \n",
    "\n",
    "- All numbers in one sublist arranged to be smaller than all numbers in other sublist.\n",
    "\n",
    "- Achieved by first selecting one number, called a pivot, against which every other number is compared. If number less than pivot, it is placed in one sublist,  otherwise, placed in other sublist.\n",
    "\n",
    "- Pivot could be any number in list, but often first number chosen. Pivot itself placed in one sublist, or separated and placed in its final position.\n"
   ]
  },
  {
   "cell_type": "markdown",
   "metadata": {
    "slideshow": {
     "slide_type": "slide"
    }
   },
   "source": [
    "<center> <img src=\"pictures/quicksort1.png\" width=\"700\"/> \n",
    "<sub>Wilkinson, Barry, and Michael Allen. Parallel programming. 2nd Ed. 2003. </sub>\n",
    "</center>"
   ]
  },
  {
   "cell_type": "code",
   "execution_count": 15,
   "metadata": {
    "collapsed": false
   },
   "outputs": [
    {
     "name": "stdout",
     "output_type": "stream",
     "text": [
      "Overwriting codes/mpi4py/quicksort.py\n"
     ]
    }
   ],
   "source": [
    "%%writefile codes/mpi4py/quicksort.py\n",
    "#!/usr/bin/env python\n",
    "# quicksort.py\n",
    "import numpy as np\n",
    "from mpi4py import MPI\n",
    "comm = MPI.COMM_WORLD\n",
    "rank = comm.Get_rank(); size = comm.Get_size(); status = MPI.Status();\n",
    "N = 16\n",
    "HAS = 1\n",
    "HASNOT = 0\n",
    "unsorted = np.zeros(N, dtype=\"int\")\n",
    "final_sorted = np.zeros(N, dtype=\"int\")\n",
    "local_array = None\n",
    "local_tmp = None\n",
    "local_tmp_size = np.zeros(1,dtype=\"int\")\n",
    "\n",
    "if rank == 0:\n",
    "    unsorted = np.random.randint(low=0,high=N,size=N)\n",
    "    print (\"Unsorted array \", unsorted)\n",
    "    local_array = unsorted\n",
    "\n",
    "distance = size / 2\n",
    "print (\"Rank: \", rank)\n",
    "while (distance >= 1):\n",
    "    if (rank % distance == 0 and (rank / distance) % 2 == 0):\n",
    "        print (\"Rank \", rank, \" send to rank \", int(rank + distance))\n",
    "        if (local_array is not None):\n",
    "            if local_array.size == 1 or np.unique(local_array).size == 1:\n",
    "                comm.Send(local_array[0], dest = rank + distance, tag = HASNOT)\n",
    "            else:\n",
    "            #    print (\"median is \", np.median(local.array))\n",
    "                local_tmp = local_array[local_array > np.median(local_array)]\n",
    "                comm.Send(np.full(shape = 1, fill_value = local_tmp.size, dtype=\"int\"), dest = rank + distance, tag = HAS)\n",
    "                comm.Send(local_tmp, dest = rank + distance, tag = HAS)\n",
    "                local_array = local_array[local_array <= np.median(local_array)]\n",
    "        else:\n",
    "            comm.Send(np.zeros(1,dtype=\"int\"), rank + distance, tag = HASNOT)\n",
    "    elif (rank % distance == 0 and (rank / distance) % 2 == 1):\n",
    "        comm.Recv(local_tmp_size, source = rank - distance, tag = MPI.ANY_TAG, status = status)\n",
    "        if status.Get_tag() == HASNOT:\n",
    "            continue\n",
    "        else:\n",
    "            local_array = np.zeros(local_tmp_size[0], dtype=\"int\")\n",
    "            comm.Recv(local_array, source = rank - distance, tag = MPI.ANY_TAG, status = status)\n",
    "    distance /= 2\n",
    "#    print (local_array)\n",
    "    \n",
    "local_array.sort()\n",
    "print (\"Local array at rank \", rank, \": \", local_array)"
   ]
  },
  {
   "cell_type": "code",
   "execution_count": 1,
   "metadata": {
    "collapsed": false,
    "slideshow": {
     "slide_type": "slide"
    }
   },
   "outputs": [
    {
     "name": "stdout",
     "output_type": "stream",
     "text": [
      "Rank:  3\r\n",
      "Unsorted array  [ 1 14 10 14 11 14  5 12  2 11 11  3 11  4 11 15]\r\n",
      "Rank:  0\r\n",
      "Rank  0  send to rank  2\r\n",
      "Rank  0  send to rank  1\r\n",
      "Rank:  1\r\n",
      "Rank:  2\r\n",
      "Rank  2  send to rank  3\r\n",
      "Local array at rank  2 :  [12 14 14 14]\r\n",
      "Local array at rank  3 :  [15]\r\n",
      "Local array at rank  0 :  [ 1  2  3  4  5 10]\r\n",
      "Local array at rank  1 :  [11 11 11 11 11]\r\n"
     ]
    }
   ],
   "source": [
    "!chmod 755 codes/mpi4py/quicksort.py\n",
    "!module load gcc/5.3.0 openmpi/1.10.3; mpirun -np 4 codes/mpi4py/quicksort.py"
   ]
  },
  {
   "cell_type": "code",
   "execution_count": 25,
   "metadata": {
    "collapsed": false
   },
   "outputs": [
    {
     "data": {
      "text/plain": [
       "[(1, 1)]"
      ]
     },
     "execution_count": 25,
     "metadata": {},
     "output_type": "execute_result"
    }
   ],
   "source": [
    "L = [[1,2,3],\n",
    "     [4,-5,6]]\n",
    "tmp = -5\n",
    "[(x, y.index(tmp))\n",
    " for x,y in enumerate(L)\n",
    " if tmp in y]\n",
    "        "
   ]
  },
  {
   "cell_type": "markdown",
   "metadata": {
    "slideshow": {
     "slide_type": "slide"
    }
   },
   "source": [
    "#### <center> Sorting Conclusions"
   ]
  },
  {
   "cell_type": "markdown",
   "metadata": {
    "slideshow": {
     "slide_type": "slide"
    }
   },
   "source": [
    "**Computational time complexity using n processors**\n",
    "\n",
    "- Odd-even transposition sort - O(n)\n",
    "\n",
    "- Parallel mergesort - O(n) but unbalanced processor load and communication\n",
    "\n",
    "- Parallel quicksort - O(n) but unbalanced processor load, and communication, can degenerate to O(n2)"
   ]
  }
 ],
 "metadata": {
  "celltoolbar": "Slideshow",
  "kernelspec": {
   "display_name": "Python 3",
   "language": "python",
   "name": "python3"
  },
  "language_info": {
   "codemirror_mode": {
    "name": "ipython",
    "version": 3
   },
   "file_extension": ".py",
   "mimetype": "text/x-python",
   "name": "python",
   "nbconvert_exporter": "python",
   "pygments_lexer": "ipython3",
   "version": "3.5.2"
  }
 },
 "nbformat": 4,
 "nbformat_minor": 0
}
