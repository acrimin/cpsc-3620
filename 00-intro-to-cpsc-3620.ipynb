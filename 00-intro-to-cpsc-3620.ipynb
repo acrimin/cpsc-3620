{
 "cells": [
  {
   "cell_type": "markdown",
   "metadata": {
    "slideshow": {
     "slide_type": "slide"
    }
   },
   "source": [
    "## <center>CPSC 3620: Distributed and Cluster Computing </center>\n",
    "### <center> Linh B. Ngo </center>"
   ]
  },
  {
   "cell_type": "markdown",
   "metadata": {
    "slideshow": {
     "slide_type": "slide"
    }
   },
   "source": [
    "### Course Information\n",
    "\n",
    "- Course Website: https://clemson.instucture.com/courses/18788\n",
    "- External Link to Lecture and Assignment Sources: https://linhbngo.github.io/cpsc-3620/ "
   ]
  },
  {
   "cell_type": "markdown",
   "metadata": {
    "slideshow": {
     "slide_type": "slide"
    }
   },
   "source": [
    "### Instructional Staff\n",
    "\n",
    "#### Instructor: Linh B. Ngo\n",
    "- Director of Data Science Group, Cyberinfrastructure and Technology Integration (CITI)\n",
    "- Assistant Research Professor, School of Computing\n",
    "\n",
    "#### Teaching Assistant: Dung (Dzung) T. Nguyen\n",
    "- Ph.D. Student, Data Intensive Computing Environments (DICE) Lab"
   ]
  },
  {
   "cell_type": "markdown",
   "metadata": {
    "slideshow": {
     "slide_type": "slide"
    }
   },
   "source": [
    "### General Information\n",
    "\n",
    "This course will investigate issues in modern distributed platforms by examining a number of important technologies in the areas of distributed computing in computational and data-intensive problems.\n",
    "\n",
    "By the end of the course, each student should understand and be able to apply several specific tradeoffs for parallel application and algorithms development, performance, and management on a number of distributed platforms."
   ]
  },
  {
   "cell_type": "markdown",
   "metadata": {
    "slideshow": {
     "slide_type": "slide"
    }
   },
   "source": [
    "### Learning Objectives\n",
    "- Graduates will be able to apply mathematical foundations, algorithmic principles, and computer science theory in the modeling and design of computer-based systems in a way that demonstrates comprehension of the tradeoffs involved in design choices.\n",
    "- Graduates will be able to analyze a problem, and identify and define the computing requirements appropriate to its solution.\n",
    "- Graduates will be able to apply design and development principles in the construction of software systems.\n",
    "- Graduates will be able to function effectively on teams to accomplish a common goal."
   ]
  },
  {
   "cell_type": "markdown",
   "metadata": {
    "slideshow": {
     "slide_type": "slide"
    }
   },
   "source": [
    "### Prerequisites\n",
    "- Working knowledge of the Python programming language and Linux system.\n",
    "- Working knowledge of data structures and algorithms\n",
    "- Familiarity with C/C++/Java."
   ]
  },
  {
   "cell_type": "markdown",
   "metadata": {
    "slideshow": {
     "slide_type": "slide"
    }
   },
   "source": [
    "### Important Dates\n",
    "\n",
    "- Jan 11, W Classes begin\n",
    "- Jan 16, M Martin Luther King Jr. holiday\n",
    "- Jan 25, W Last day to drop a class or withdraw without a W grade\n",
    "- Mar 17, F Last day to drop a class or withdraw from the University without final grades\n",
    "- Mar 20-24, M-F Spring break\n",
    "- May 1, M 8:00AM - 10:30AM - FINAL EXAM"
   ]
  },
  {
   "cell_type": "markdown",
   "metadata": {
    "slideshow": {
     "slide_type": "slide"
    }
   },
   "source": [
    "### Laptop requirements\n",
    "\n",
    "- Having access to a laptop during class time is critical\n",
    "    + Working with supercomputing resources in class\n",
    "    + Working on in-class electronic quizzes on Clemson Canvas\n",
    "- Make sure that your laptop is fully charged for the duration of the class (or come in early and get a spot with access to power outlets)\n"
   ]
  },
  {
   "cell_type": "markdown",
   "metadata": {
    "slideshow": {
     "slide_type": "slide"
    }
   },
   "source": [
    "### Course Materials\n",
    "\n",
    "- Lecture slides and example codes will be available online via links inside the course’ Canvas page\n",
    "- Links to papers on subjects we will be discussing in class will also be listed and/or embedded in the slides. \n",
    "    + Clemson University maintains extensive licensed products to academic publishers such as ACM, IEEE, Elsevier, and Springer, and many of the papers required for this course will be available through the library's online database. \n",
    "    + Google Scholar is another excellent source for downloading preprint or open-source versions of papers. \n"
   ]
  },
  {
   "cell_type": "markdown",
   "metadata": {
    "slideshow": {
     "slide_type": "slide"
    }
   },
   "source": [
    "### Grading\n",
    "\n",
    "Grades will be based on the following distribution:\n",
    "\n",
    "- Assignment: 40%\n",
    "- Exam: (50%) \n",
    "    + Exam 1: 25% (covering the first half of the semester)\n",
    "    + Exam 2: 25% (covering the second half of the semester)\n",
    "- Quiz and participation: 10%\n",
    "\n",
    "Letter grades are assigned according to the standard scale (i.e. A: 90-100, B: 80-89, C: 70-79, D: 60-69, F: 0-59).\n"
   ]
  },
  {
   "cell_type": "markdown",
   "metadata": {
    "slideshow": {
     "slide_type": "slide"
    }
   },
   "source": [
    "### Late Work\n",
    "\n",
    "Without prior approval from the instructors, late homework assignments will not be accepted but will be assigned a grade of zero. Unless accompanied with a valid medical or University excuse, all late submissions will be penalized. A make-up for the Exams will be given only with a valid medical or University excuse. "
   ]
  },
  {
   "cell_type": "markdown",
   "metadata": {
    "slideshow": {
     "slide_type": "slide"
    }
   },
   "source": [
    "### Attendance Policy\n",
    "\n",
    "- Attendance is critical to the success of students in this class. \n",
    "- We will take note of who attends, including occasionally using attendance check in place of a quiz score. \n",
    "- If you miss a class, you are responsible for obtaining lecture notes, handouts, and homework assignments from fellow students. \n",
    "- If the instructor is late for class, please wait 20 minutes before leaving.\n"
   ]
  },
  {
   "cell_type": "markdown",
   "metadata": {
    "slideshow": {
     "slide_type": "slide"
    }
   },
   "source": [
    "### Academic Integrity\n",
    "\n",
    "“As members of the Clemson University community, we have inherited Thomas Green Clemson’s vision of this institution as a “high seminary of learning.” Fundamental to this vision is a mutual commitment to truthfulness, honor, and responsibility, without which we cannot earn the trust and respect of others. Furthermore, we recognize that academic dishonesty detracts from the value of a Clemson degree. Therefore, we shall not tolerate lying, cheating, or stealing in any form.”"
   ]
  },
  {
   "cell_type": "markdown",
   "metadata": {
    "slideshow": {
     "slide_type": "slide"
    }
   },
   "source": [
    "### Academic Integrity\n",
    "\n",
    "The instructor takes academic integrity extremely seriously and expects students to do so too. Cheating, plagiarism, and all other academic integrity violations will handle according to the University policies regarding classroom expectations and academic integrity violation, as specified at http://www.clemson.edu/academics/academic-integrity/"
   ]
  },
  {
   "cell_type": "markdown",
   "metadata": {
    "slideshow": {
     "slide_type": "slide"
    }
   },
   "source": [
    "### Collaboration Policy\n",
    "\n",
    "- In and out of class assignments are opportunities for learning and discovery. \n",
    "- Collaboration between students on homework assignments in this class is permitted. Collaboration includes students working together to gain an understanding of course concepts, active discussions with the instructor and other people to learn about course material, and other activities in which a student is actively seeking to learn and understand the topics covered in the course. \n",
    "- I do expect that you understand and can explain any homework solution that you submit, no matter how you worked on it.\n"
   ]
  },
  {
   "cell_type": "markdown",
   "metadata": {
    "slideshow": {
     "slide_type": "slide"
    }
   },
   "source": [
    "### Collaboration Policy\n",
    "\n",
    "- Plagiarism is not allowed. Taking assignments from other classmates or downloading completed assignments from websites is not allowed. \n",
    "- If you collaborate with other students in class or use sources other than those provided for everyone in the course (e.g., instructor, recommended textbook, the course web site, or the lectures) to help yourself learn and understand, then you must give appropriate credit to those collaborators and/or sources. \n"
   ]
  },
  {
   "cell_type": "markdown",
   "metadata": {
    "slideshow": {
     "slide_type": "slide"
    }
   },
   "source": [
    "### Collaboration Policy\n",
    "- As long as you acknowledge the collaboration that occurred, your grade will not be affected nor will you be charged with academic misconduct. \n",
    "- A failure to acknowledge collaborations or give appropriate credit to sources of help (other than course materials or personnel as noted above) will be treated as plagiarism.\n"
   ]
  },
  {
   "cell_type": "markdown",
   "metadata": {
    "slideshow": {
     "slide_type": "slide"
    }
   },
   "source": [
    "### Contributorship Statement\n",
    "- A contributorship statement at the beginning of every assignment for this class. \n",
    "- Any assignment that does not include a collaboration statement will not receive a grade until the statement is provided."
   ]
  },
  {
   "cell_type": "markdown",
   "metadata": {
    "slideshow": {
     "slide_type": "slide"
    }
   },
   "source": [
    "### Contributorship Statement\n",
    "\n",
    "The statement should say:\n",
    "\n",
    "- “I worked on this assignment alone, using only course materials.”\n",
    "\n",
    "OR\n",
    "\n",
    "- “I worked on this assignment with **names of the people you worked with**. My role in completing the assignment was **provide description of all your contributions**, while provide **names of other collaborators** role in completing the assignment was **provide a description of their contributions**. We consulted related material that can be found at **cite any other materials not provided as course materials**.”\n",
    "\n",
    "\n"
   ]
  },
  {
   "cell_type": "markdown",
   "metadata": {
    "slideshow": {
     "slide_type": "slide"
    }
   },
   "source": [
    "### Disability Accommodations\n",
    "\n",
    "- Students with disabilities needing accommodations should make an appointment with Dr. Arlene Stewart, Director of Disability Services, to discuss specific needs within the first month of classes. Student should present a Faculty Accommodation Letter from Student Disability Services when they meet with instructors. \n",
    "\n",
    "- The Office of Student Disability Services in Suite 239, Academic Success Building (864-656-6848; sds-l@clemson.edu). Please be aware that accommodations are not retroactive and new Faculty Accommodation Letters must be presented each semester."
   ]
  },
  {
   "cell_type": "markdown",
   "metadata": {
    "slideshow": {
     "slide_type": "slide"
    }
   },
   "source": [
    "### Title IX Statement\n",
    "\n",
    "- Clemson University is committed to a policy of equal opportunity for all persons and does not discriminate on the basis of race, color, religion, sex, sexual orientation, gender, pregnancy, national origin, age, disability, veterans status, genetic information or protected activity (e.g., opposition to prohibited discrimination or participation in any complaint process, etc.) in employment, educational programs and activities, admissions and financial aid. This includes a prohibition against sexual harassment and sexual violence as mandated by Title IX of the Education Amendments of 1972. \n",
    "- This policy is located at  http://www.clemson.edu/campuslife/campus-services/access/title-ix/."
   ]
  },
  {
   "cell_type": "markdown",
   "metadata": {
    "slideshow": {
     "slide_type": "slide"
    }
   },
   "source": [
    "### Title IX Statement\n",
    "\n",
    "- Mr. Jerry Knighton is the Clemson University Title IX Coordinator. He also is the Director of Access and Equity. His office is located at 111 Holtzendorff Hall, 864.656.3181 (voice) or 864.565.0899 (TDD)."
   ]
  },
  {
   "cell_type": "markdown",
   "metadata": {
    "slideshow": {
     "slide_type": "slide"
    }
   },
   "source": [
    "## <center> The Demand for Computation Speed </center>"
   ]
  },
  {
   "cell_type": "markdown",
   "metadata": {
    "slideshow": {
     "slide_type": "slide"
    }
   },
   "source": [
    "### Measuring of Speed\n",
    "\n",
    "- FLOPS: Floating-Point Operation Per Second\n",
    "- MFLOPS = 1,000,000 FLOPS\n",
    "- GFLOPS = 1,000,000,000 FLOPS\n",
    "- TFLOPS = 1,000,000,000,000 FLOPS\n",
    "    + IBM ASCI Red was the first supercomputer in the world to achieve 1TFLOPS in 1993\n",
    "- PFLOPS = 1,000,000,000,000,000 FLOPS\n",
    "    + IBM RoadRunner was the first supercomputer to achieve 1PFLOPS in 2008\n",
    "    + China’s Sunway Taihulight is the current fastest supercomputer in the world at 93PFLOPS\n",
    "- EFLOPS = 1,000,000,000,000,000,000 FLOPS\n"
   ]
  },
  {
   "cell_type": "markdown",
   "metadata": {
    "slideshow": {
     "slide_type": "slide"
    }
   },
   "source": [
    "### Forecasting Sandy\n",
    "\n",
    "<center><img src=\"pictures/00/00sandy.png\" width=\"700\"/></center>\n"
   ]
  },
  {
   "cell_type": "markdown",
   "metadata": {
    "slideshow": {
     "slide_type": "slide"
    }
   },
   "source": [
    "### Computational Power for Weather Forecast Agencies (2013)\n",
    "\n",
    "<center><img src=\"pictures/00/weather-computer-2013.png\" width=\"600\"/></center>\n",
    "\n",
    "<center> http://blogs.agu.org/wildwildscience/2013/02/17/seriously-behind-the-numerical-weather-prediction-gap/ </center>"
   ]
  },
  {
   "cell_type": "markdown",
   "metadata": {
    "slideshow": {
     "slide_type": "slide"
    }
   },
   "source": [
    "### Catching up\n",
    "\n",
    "http://www.noaa.gov/noaa-completes-weather-and-climate-supercomputer-upgrades\n",
    "\n",
    "- Two new supercomputers, Luna and Surge\n",
    "- 2.89 PFLOPS each for a total of 5.78 PFLOPS (previous generation is only 776 TFLOPS)\n",
    "- Increase water quantity forecast from 4000 locations to 2.7 million locations (700-fold increase in spatial density)\n",
    "- Can track and forecast 8 storms at any given time\n",
    "- 44.5 million dollars investment\n"
   ]
  },
  {
   "cell_type": "markdown",
   "metadata": {
    "slideshow": {
     "slide_type": "slide"
    }
   },
   "source": [
    "### Development Over Time\n",
    "\n",
    "https://www.top500.org/statistics/overtime/"
   ]
  },
  {
   "cell_type": "markdown",
   "metadata": {
    "slideshow": {
     "slide_type": "slide"
    }
   },
   "source": [
    "### Appendix: Recommended software stack for Laptop to support viewing lecture slides\n",
    "\n",
    "- Python Anaconda 4.2.0 (https://www.continuum.io/downloads)\n",
    "- Jupyter Slideshow extension (https://github.com/damianavila/RISE - to be installed using conda)"
   ]
  }
 ],
 "metadata": {
  "celltoolbar": "Slideshow",
  "kernelspec": {
   "display_name": "Python 3",
   "language": "python",
   "name": "python3"
  },
  "language_info": {
   "codemirror_mode": {
    "name": "ipython",
    "version": 3
   },
   "file_extension": ".py",
   "mimetype": "text/x-python",
   "name": "python",
   "nbconvert_exporter": "python",
   "pygments_lexer": "ipython3",
   "version": "3.5.1"
  }
 },
 "nbformat": 4,
 "nbformat_minor": 0
}
