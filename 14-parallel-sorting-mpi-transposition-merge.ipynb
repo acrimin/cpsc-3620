{
 "cells": [
  {
   "cell_type": "markdown",
   "metadata": {
    "collapsed": true,
    "slideshow": {
     "slide_type": "slide"
    }
   },
   "source": [
    "## <center>Parallelizing Common Sorting Algorithm: Tranposition and Merge Sort</center>\n",
    "### <center> Linh B. Ngo </center>\n",
    "### <center> CPSC 3620 </center>"
   ]
  },
  {
   "cell_type": "markdown",
   "metadata": {
    "slideshow": {
     "slide_type": "slide"
    }
   },
   "source": [
    "#### <center> Buble Sort: Transposition Sort </center>"
   ]
  },
  {
   "cell_type": "markdown",
   "metadata": {
    "slideshow": {
     "slide_type": "slide"
    }
   },
   "source": [
    "- Largest number moved to the end of the list by a series of compares and exchanges, strting at the opposite end\n",
    "\n",
    "- Actions repeated with subsequent numbers, stopping just before that previously positioned number\n",
    "\n",
    "- In this way, lage numbers move (\"bubble\") towrard one end"
   ]
  },
  {
   "cell_type": "markdown",
   "metadata": {
    "slideshow": {
     "slide_type": "slide"
    }
   },
   "source": [
    "<center> <img src=\"pictures/14/bubble.png\" width=\"700\"/> \n",
    "<sub>Wilkinson, Barry, and Michael Allen. Parallel programming. 2nd Ed. 2003. </sub>\n",
    "</center>"
   ]
  },
  {
   "cell_type": "markdown",
   "metadata": {
    "slideshow": {
     "slide_type": "slide"
    }
   },
   "source": [
    "- Transposition Sort is a variation of Buble Sort\n",
    "- Operates in two alternating phases, *even* and *odd*\n",
    "- Even phase: Even-numbered processes exchange numbers with their right neighbor\n",
    "- Odd phase: Odd-numbered processes exchange numbers with their right neighbor"
   ]
  },
  {
   "cell_type": "markdown",
   "metadata": {
    "slideshow": {
     "slide_type": "slide"
    }
   },
   "source": [
    "<center> <img src=\"pictures/14/transposition.png\" width=\"700\"/> \n",
    "<sub>Wilkinson, Barry, and Michael Allen. Parallel programming. 2nd Ed. 2003. </sub>\n",
    "</center>"
   ]
  },
  {
   "cell_type": "code",
   "execution_count": 3,
   "metadata": {
    "collapsed": false,
    "slideshow": {
     "slide_type": "-"
    }
   },
   "outputs": [
    {
     "name": "stdout",
     "output_type": "stream",
     "text": [
      "Overwriting codes/mpi4py/transposition.py\n"
     ]
    }
   ],
   "source": [
    "%%writefile codes/mpi4py/transposition.py\n",
    "#!/usr/bin/env python\n",
    "# transposition.py\n",
    "import numpy as np\n",
    "from mpi4py import MPI\n",
    "comm = MPI.COMM_WORLD\n",
    "rank = comm.Get_rank(); size = comm.Get_size(); status = MPI.Status();\n",
    "N = 16\n",
    "unsorted = np.zeros(N, dtype=\"int\")\n",
    "final_sorted = np.zeros(N, dtype=\"int\")\n",
    "local_array = np.zeros(int(N / size), dtype=\"int\")\n",
    "local_tmp = np.zeros(int(N / size), dtype=\"int\")\n",
    "local_remain = np.zeros(2 * int(N / size), dtype=\"int\")\n",
    "\n",
    "if rank == 0:\n",
    "    unsorted = np.random.randint(low=0,high=N,size=N)\n",
    "    print (unsorted)\n",
    "comm.Scatter(unsorted, local_array, root = 0)\n",
    "\n",
    "local_array.sort()\n",
    "for step in range(0, size):\n",
    "    print (\"Step: \", step)\n",
    "    if (step % 2 == 0):\n",
    "        if (rank % 2 == 0):\n",
    "            des = rank + 1\n",
    "        else:\n",
    "            des = rank - 1\n",
    "    else:\n",
    "        if (rank % 2 == 0):\n",
    "            des = rank - 1\n",
    "        else:\n",
    "            des = rank + 1\n",
    "            \n",
    "    if (des >= 0 and des < size):\n",
    "        print (\"My rank is \", rank, \" and my des is \", des)\n",
    "        comm.Send(local_array, dest = des, tag = 0)\n",
    "        comm.Recv(local_tmp, source = des)    \n",
    "        print (\"Rank \", rank, \" \", step, \": Initial local_array: \", local_array)\n",
    "        print (\"Rank \", rank, \" \", step, \": Received local_tmp:\", local_tmp)\n",
    "        local_remain = np.concatenate((local_array, local_tmp), axis=0)\n",
    "        local_remain.sort()\n",
    "        \n",
    "        if (rank < des):\n",
    "            local_array = local_remain[0:int(N/size)]\n",
    "        else:\n",
    "            local_array = local_remain[int(N/size):2 * int(N/size)]\n",
    "        print (\"Rank \", rank, \" \", step, \": Retained portions: \", local_array)\n",
    "comm.Gather(local_array, final_sorted)\n",
    "\n",
    "if (rank  == 0):\n",
    "    print (final_sorted)"
   ]
  },
  {
   "cell_type": "code",
   "execution_count": 4,
   "metadata": {
    "collapsed": false,
    "scrolled": true,
    "slideshow": {
     "slide_type": "slide"
    }
   },
   "outputs": [
    {
     "name": "stdout",
     "output_type": "stream",
     "text": [
      "Step:  0\r\n",
      "My rank is  3  and my des is  2\r\n",
      "[ 4  1  3  8 13 14  0 13 15  3  2  6  8 12  8  3]\r\n",
      "Step:  0\r\n",
      "My rank is  0  and my des is  1\r\n",
      "Rank  0   0 : Initial local_array:  [1 3 4 8]\r\n",
      "Step:  0\r\n",
      "My rank is  1  and my des is  0\r\n",
      "Step:  0\r\n",
      "My rank is  2  and my des is  3\r\n",
      "Rank  3   0 : Initial local_array:  [ 3  8  8 12]\r\n",
      "Rank  3   0 : Received local_tmp: [ 2  3  6 15]\r\n",
      "Rank  3   0 : Retained portions:  [ 8  8 12 15]\r\n",
      "Step:  1\r\n",
      "Step:  2\r\n",
      "My rank is  3  and my des is  2\r\n",
      "Rank  0   0 : Received local_tmp: [ 0 13 13 14]\r\n",
      "Rank  0   0 : Retained portions:  [0 1 3 4]\r\n",
      "Step:  1\r\n",
      "Step:  2\r\n",
      "My rank is  0  and my des is  1\r\n",
      "Rank  1   0 : Initial local_array:  [ 0 13 13 14]\r\n",
      "Rank  1   0 : Received local_tmp: [1 3 4 8]\r\n",
      "Rank  1   0 : Retained portions:  [ 8 13 13 14]\r\n",
      "Step:  1\r\n",
      "My rank is  1  and my des is  2\r\n",
      "Rank  2   0 : Initial local_array:  [ 2  3  6 15]\r\n",
      "Rank  2   0 : Received local_tmp: [ 3  8  8 12]\r\n",
      "Rank  2   0 : Retained portions:  [2 3 3 6]\r\n",
      "Step:  1\r\n",
      "My rank is  2  and my des is  1\r\n",
      "Rank  2   1 : Initial local_array:  [2 3 3 6]\r\n",
      "Rank  2   1 : Received local_tmp: [ 8 13 13 14]\r\n",
      "Rank  2   1 : Retained portions:  [ 8 13 13 14]\r\n",
      "Rank  1   1 : Initial local_array:  [ 8 13 13 14]\r\n",
      "Rank  1   1 : Received local_tmp: [2 3 3 6]\r\n",
      "Step:  2\r\n",
      "My rank is  2  and my des is  3\r\n",
      "Rank  2   2 : Initial local_array:  [ 8 13 13 14]\r\n",
      "Rank  2   2 : Received local_tmp: [ 8  8 12 15]\r\n",
      "Rank  1   1 : Retained portions:  [2 3 3 6]\r\n",
      "Step:  2\r\n",
      "My rank is  1  and my des is  0\r\n",
      "Rank  1   2 : Initial local_array:  [2 3 3 6]\r\n",
      "Rank  1   2 : Received local_tmp: [0 1 3 4]\r\n",
      "Rank  3   2 : Initial local_array:  [ 8  8 12 15]\r\n",
      "Rank  3   2 : Received local_tmp: [ 8 13 13 14]\r\n",
      "Rank  0   2 : Initial local_array:  [0 1 3 4]\r\n",
      "Rank  0   2 : Received local_tmp: [2 3 3 6]\r\n",
      "Rank  0   2 : Retained portions:  [0 1 2 3]\r\n",
      "Step:  3\r\n",
      "Rank  2   2 : Retained portions:  [ 8  8  8 12]\r\n",
      "Step:  3\r\n",
      "My rank is  2  and my des is  1\r\n",
      "Rank  2   3 : Initial local_array:  [ 8  8  8 12]\r\n",
      "Rank  2   3 : Received local_tmp: [3 3 4 6]\r\n",
      "Rank  1   2 : Retained portions:  [3 3 4 6]\r\n",
      "Step:  3\r\n",
      "My rank is  1  and my des is  2\r\n",
      "Rank  1   3 : Initial local_array:  [3 3 4 6]\r\n",
      "Rank  1   3 : Received local_tmp: [ 8  8  8 12]\r\n",
      "Rank  3   2 : Retained portions:  [13 13 14 15]\r\n",
      "Step:  3\r\n",
      "Rank  1   3 : Retained portions:  [3 3 4 6]\r\n",
      "[ 0  1  2  3  3  3  4  6  8  8  8 12 13 13 14 15]\r\n",
      "Rank  2   3 : Retained portions:  [ 8  8  8 12]\r\n"
     ]
    }
   ],
   "source": [
    "!chmod 755 codes/mpi4py/transposition.py\n",
    "!module load gcc/5.3.0 openmpi/1.10.3; mpirun -np 4 codes/mpi4py/transposition.py"
   ]
  },
  {
   "cell_type": "markdown",
   "metadata": {
    "slideshow": {
     "slide_type": "slide"
    }
   },
   "source": [
    "#### <center> Merge Sort </center>"
   ]
  },
  {
   "cell_type": "markdown",
   "metadata": {
    "slideshow": {
     "slide_type": "slide"
    }
   },
   "source": [
    "- A classical sequential sorting algorithm using divide-and-conquer approach\n",
    "\n",
    "- Unsorted list first divided into half. Each half is again divided into two. Continued until individual numbers obtained.\n",
    "\n",
    "- Then pairs of numbers combined (merged) into sorted list of two numbers.\n",
    "\n",
    "- Pairs of these lists of four numbers are merged into sorted lists of eight numbers.\n",
    "\n",
    "- This is continued until the one fully sorted list is obtained.\n"
   ]
  },
  {
   "cell_type": "markdown",
   "metadata": {
    "slideshow": {
     "slide_type": "slide"
    }
   },
   "source": [
    "<center> <img src=\"pictures/14/merge.png\" width=\"700\"/> \n",
    "<sub>Wilkinson, Barry, and Michael Allen. Parallel programming. 2nd Ed. 2003. </sub>\n",
    "</center>"
   ]
  },
  {
   "cell_type": "code",
   "execution_count": 5,
   "metadata": {
    "collapsed": false,
    "slideshow": {
     "slide_type": "-"
    }
   },
   "outputs": [
    {
     "name": "stdout",
     "output_type": "stream",
     "text": [
      "Writing codes/mpi4py/merge.py\n"
     ]
    }
   ],
   "source": [
    "%%writefile codes/mpi4py/merge.py\n",
    "#!/usr/bin/env python\n",
    "# merge.py\n",
    "import numpy as np\n",
    "from mpi4py import MPI\n",
    "comm = MPI.COMM_WORLD\n",
    "rank = comm.Get_rank(); size = comm.Get_size(); status = MPI.Status();\n",
    "N = 16\n",
    "unsorted = np.zeros(N, dtype=\"int\")\n",
    "final_sorted = np.zeros(N, dtype=\"int\")\n",
    "local_array = np.zeros(int(N / size), dtype=\"int\")\n",
    "local_tmp = np.zeros(int(N / size), dtype=\"int\")\n",
    "local_remain = np.zeros(2 * int(N / size), dtype=\"int\")\n",
    "\n",
    "if rank == 0:\n",
    "    unsorted = np.random.randint(low=0,high=N,size=N)\n",
    "    print (unsorted)\n",
    "comm.Scatter(unsorted, local_array, root = 0)\n",
    "\n",
    "local_array.sort()\n",
    "\n",
    "step = size / 2\n",
    "print (\"Rank: \", rank)\n",
    "while (step >= 1):\n",
    "    if (rank >= step and rank < step * 2):\n",
    "        comm.Send(local_array, rank - step, tag = 0)\n",
    "    elif (rank < step):\n",
    "        local_tmp = np.zeros(local_array.size, dtype=\"int\")\n",
    "        local_remain = np.zeros(2 * local_array.size, dtype=\"int\")\n",
    "        comm.Recv(local_tmp, rank + step, tag = 0)\n",
    "        i = 0 #local_array counter\n",
    "        j = 0 # local_tmp counter\n",
    "        for k in range (0, 2 * local_array.size):\n",
    "            if (i >= local_array.size):\n",
    "                local_remain[k] = local_tmp[j]\n",
    "                j += 1\n",
    "            elif (j >= local_array.size):\n",
    "                local_remain[k] = local_array[i]\n",
    "                i += 1\n",
    "            elif (local_array[i] > local_tmp[j]):\n",
    "                local_remain[k] = local_tmp[j]\n",
    "                j += 1\n",
    "            else:\n",
    "                local_remain[k] = local_array[i]\n",
    "                i += 1        \n",
    "        print (\"Step: \", step)\n",
    "        print (\"local array: \", local_array)\n",
    "        print (\"local tmp: \", local_tmp)\n",
    "        print (\"local remain: \", local_remain)\n",
    "        local_array = local_remain\n",
    "    step = step / 2\n",
    "    \n",
    "if (rank  == 0):\n",
    "    print (local_array)"
   ]
  },
  {
   "cell_type": "code",
   "execution_count": 5,
   "metadata": {
    "collapsed": false,
    "slideshow": {
     "slide_type": "slide"
    }
   },
   "outputs": [
    {
     "name": "stdout",
     "output_type": "stream",
     "text": [
      "[ 3 14  8  8  8  2  8 10 14  5  3 10  7 11  7 10]\r\n",
      "Rank:  0\r\n",
      "Step:  2.0\r\n",
      "local array:  [ 3  8  8 14]\r\n",
      "Rank:  1\r\n",
      "Step:  2.0\r\n",
      "Rank:  2\r\n",
      "Rank:  3\r\n",
      "local tmp:  [ 3  5 10 14]\r\n",
      "local remain:  [ 3  3  5  8  8 10 14 14]\r\n",
      "Step:  1.0\r\n",
      "local array:  [ 3  3  5  8  8 10 14 14]\r\n",
      "local tmp:  [ 2  7  7  8  8 10 10 11]\r\n",
      "local array:  [ 2  8  8 10]\r\n",
      "local tmp:  [ 7  7 10 11]\r\n",
      "local remain:  [ 2  7  7  8  8 10 10 11]\r\n",
      "local remain:  [ 2  3  3  5  7  7  8  8  8  8 10 10 10 11 14 14]\r\n",
      "[ 2  3  3  5  7  7  8  8  8  8 10 10 10 11 14 14]\r\n"
     ]
    }
   ],
   "source": [
    "!chmod 755 codes/mpi4py/merge.py\n",
    "!module load gcc/5.3.0 openmpi/1.10.3; mpirun -np 4 codes/mpi4py/merge.py"
   ]
  },
  {
   "cell_type": "code",
   "execution_count": null,
   "metadata": {
    "collapsed": true
   },
   "outputs": [],
   "source": []
  }
 ],
 "metadata": {
  "celltoolbar": "Slideshow",
  "kernelspec": {
   "display_name": "Python 3",
   "language": "python",
   "name": "python3"
  },
  "language_info": {
   "codemirror_mode": {
    "name": "ipython",
    "version": 3
   },
   "file_extension": ".py",
   "mimetype": "text/x-python",
   "name": "python",
   "nbconvert_exporter": "python",
   "pygments_lexer": "ipython3",
   "version": "3.5.2"
  }
 },
 "nbformat": 4,
 "nbformat_minor": 0
}
