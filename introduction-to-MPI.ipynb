{
 "cells": [
  {
   "cell_type": "code",
   "execution_count": null,
   "metadata": {
    "collapsed": true
   },
   "outputs": [],
   "source": [
    "# in terminal: \n",
    "ipcluster start --n 32 --profile=mpicluster"
   ]
  },
  {
   "cell_type": "code",
   "execution_count": 1,
   "metadata": {
    "collapsed": false
   },
   "outputs": [
    {
     "name": "stdout",
     "output_type": "stream",
     "text": [
      "Currently Loaded Modulefiles:\r\n",
      "  1) anaconda3/2.5.0      4) gmp/4.3.2            7) gcc/5.3.0\r\n",
      "  2) matlab/2015a         5) mpfr/2.4.2           8) openmpi/1.10.3-mlx\r\n",
      "  3) zeromq/4.1.5         6) mpc/0.8.1            9) openmpi/1.10.3\r\n"
     ]
    }
   ],
   "source": [
    "!module list"
   ]
  },
  {
   "cell_type": "code",
   "execution_count": 2,
   "metadata": {
    "collapsed": true
   },
   "outputs": [],
   "source": [
    "import ipyparallel"
   ]
  },
  {
   "cell_type": "code",
   "execution_count": 3,
   "metadata": {
    "collapsed": true
   },
   "outputs": [],
   "source": [
    "c=ipyparallel.Client(profile=\"mpicluster\")"
   ]
  },
  {
   "cell_type": "code",
   "execution_count": 4,
   "metadata": {
    "collapsed": false
   },
   "outputs": [
    {
     "name": "stdout",
     "output_type": "stream",
     "text": [
      "[0, 1, 2, 3, 4, 5, 6, 7, 8, 9, 10, 11, 12, 13, 14, 15, 16, 17, 18, 19, 20, 21, 22, 23, 24, 25, 26, 27, 28, 29, 30, 31]\n"
     ]
    }
   ],
   "source": [
    "print(c.ids)"
   ]
  },
  {
   "cell_type": "code",
   "execution_count": 7,
   "metadata": {
    "collapsed": false
   },
   "outputs": [
    {
     "name": "stdout",
     "output_type": "stream",
     "text": [
      "[stdout:0] hello world from process 15 running on host node1879\n",
      "[stdout:1] hello world from process 3 running on host node1879\n",
      "[stdout:2] hello world from process 13 running on host node1879\n",
      "[stdout:3] hello world from process 7 running on host node1879\n",
      "[stdout:4] hello world from process 11 running on host node1879\n",
      "[stdout:5] hello world from process 12 running on host node1879\n",
      "[stdout:6] hello world from process 0 running on host node1879\n",
      "[stdout:7] hello world from process 14 running on host node1879\n",
      "[stdout:8] hello world from process 6 running on host node1879\n",
      "[stdout:9] hello world from process 10 running on host node1879\n",
      "[stdout:10] hello world from process 9 running on host node1879\n",
      "[stdout:11] hello world from process 5 running on host node1879\n",
      "[stdout:12] hello world from process 8 running on host node1879\n",
      "[stdout:13] hello world from process 2 running on host node1879\n",
      "[stdout:14] hello world from process 4 running on host node1879\n",
      "[stdout:15] hello world from process 1 running on host node1879\n",
      "[stdout:16] hello world from process 26 running on host node1337\n",
      "[stdout:17] hello world from process 25 running on host node1337\n",
      "[stdout:18] hello world from process 21 running on host node1337\n",
      "[stdout:19] hello world from process 29 running on host node1337\n",
      "[stdout:20] hello world from process 31 running on host node1337\n",
      "[stdout:21] hello world from process 27 running on host node1337\n",
      "[stdout:22] hello world from process 16 running on host node1337\n",
      "[stdout:23] hello world from process 22 running on host node1337\n",
      "[stdout:24] hello world from process 24 running on host node1337\n",
      "[stdout:25] hello world from process 28 running on host node1337\n",
      "[stdout:26] hello world from process 19 running on host node1337\n",
      "[stdout:27] hello world from process 23 running on host node1337\n",
      "[stdout:28] hello world from process 17 running on host node1337\n",
      "[stdout:29] hello world from process 20 running on host node1337\n",
      "[stdout:30] hello world from process 30 running on host node1337\n",
      "[stdout:31] hello world from process 18 running on host node1337\n"
     ]
    }
   ],
   "source": [
    "%%px\n",
    "from mpi4py import MPI\n",
    "import socket\n",
    "comm = MPI.COMM_WORLD\n",
    "rank = comm.Get_rank()\n",
    "print (\"hello world from process %s running on host %s\" % (rank, socket.gethostname()))"
   ]
  },
  {
   "cell_type": "code",
   "execution_count": null,
   "metadata": {
    "collapsed": true
   },
   "outputs": [],
   "source": []
  }
 ],
 "metadata": {
  "kernelspec": {
   "display_name": "Anaconda 2.5.0 (Python 3)",
   "language": "python",
   "name": "anaconda_2.5.0_python3"
  },
  "language_info": {
   "codemirror_mode": {
    "name": "ipython",
    "version": 3
   },
   "file_extension": ".py",
   "mimetype": "text/x-python",
   "name": "python",
   "nbconvert_exporter": "python",
   "pygments_lexer": "ipython3",
   "version": "3.5.2"
  }
 },
 "nbformat": 4,
 "nbformat_minor": 0
}
