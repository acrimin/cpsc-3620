{
 "cells": [
  {
   "cell_type": "markdown",
   "metadata": {
    "slideshow": {
     "slide_type": "slide"
    }
   },
   "source": [
    "## <center>Pleasantly Parallel</center>\n",
    "### <center> Linh B. Ngo </center>\n",
    "### <center> CPSC 3620 </center>"
   ]
  },
  {
   "cell_type": "markdown",
   "metadata": {
    "slideshow": {
     "slide_type": "slide"
    }
   },
   "source": [
    "- Embarrassingly parallel/naturally parallel/pleasantly parallel\n",
    "- “A computation that can obviously be divided into a number of completely different parts, each of which can be executed by a separate process.”\n"
   ]
  },
  {
   "cell_type": "markdown",
   "metadata": {
    "slideshow": {
     "slide_type": "slide"
    }
   },
   "source": [
    "- No communication or very little communication among the processes.\n",
    "- Each process can do its tasks without any interaction with the other processes.\n"
   ]
  },
  {
   "cell_type": "markdown",
   "metadata": {
    "slideshow": {
     "slide_type": "slide"
    }
   },
   "source": [
    "#### <center> Example: Trapezoid Calculation"
   ]
  },
  {
   "cell_type": "markdown",
   "metadata": {
    "slideshow": {
     "slide_type": "subslide"
    }
   },
   "source": [
    "<center> \n",
    "    <img src=\"pictures/trapezoid01.png\" width=\"400\"/>\n",
    "</center>"
   ]
  },
  {
   "cell_type": "code",
   "execution_count": 2,
   "metadata": {
    "collapsed": false,
    "slideshow": {
     "slide_type": "fragment"
    }
   },
   "outputs": [],
   "source": [
    "N = 8; a = 0; b = 1; h = (b - a)/N;"
   ]
  },
  {
   "cell_type": "code",
   "execution_count": null,
   "metadata": {
    "collapsed": true,
    "slideshow": {
     "slide_type": "fragment"
    }
   },
   "outputs": [],
   "source": [
    "# With 4 processors (cores)\n",
    "size = 4\n",
    "local_N = \n",
    "# local_a = ?\n",
    "# local_b = ?"
   ]
  },
  {
   "cell_type": "markdown",
   "metadata": {
    "slideshow": {
     "slide_type": "subslide"
    }
   },
   "source": [
    "- Which workload goes to which process?\n",
    "```\n",
    "if (rank == i) {\n",
    "\tdo great things\n",
    "}\n",
    "```\n",
    "- Start with small number of processes\n",
    "- Calculation workload assignment manually for each count of processes\n",
    "- Generalize assignment for process i based on sample calculations\n"
   ]
  },
  {
   "cell_type": "code",
   "execution_count": 4,
   "metadata": {
    "collapsed": false,
    "slideshow": {
     "slide_type": "subslide"
    }
   },
   "outputs": [
    {
     "name": "stdout",
     "output_type": "stream",
     "text": [
      "[0, 1, 2, 3]\n"
     ]
    }
   ],
   "source": [
    "import ipyparallel\n",
    "c=ipyparallel.Client(profile=\"mpicluster\")\n",
    "print(c.ids)"
   ]
  },
  {
   "cell_type": "code",
   "execution_count": 18,
   "metadata": {
    "collapsed": false,
    "slideshow": {
     "slide_type": "subslide"
    }
   },
   "outputs": [
    {
     "name": "stdout",
     "output_type": "stream",
     "text": [
      "[stdout:1] The integral is 0.3359375\n"
     ]
    }
   ],
   "source": [
    "%%px\n",
    "from mpi4py import MPI\n",
    "comm = MPI.COMM_WORLD\n",
    "rank = comm.Get_rank(); size = comm.Get_size()\n",
    "N = 8; a = 0; b = 1; h = (b - a)/N\n",
    "def f(x):\n",
    "    return x*x\n",
    "local_N = N / size\n",
    "local_a = a + rank * local_N * h\n",
    "partial_result = 0\n",
    "for i in range(0,int(local_N)):\n",
    "    partial_result = partial_result + (f(local_a) + f(local_a + h)) * h / 2\n",
    "    local_a = local_a + h\n",
    "sum = comm.reduce(partial_result, op=MPI.SUM, root=0)\n",
    "if rank == 0:\n",
    "    print (\"The integral is %s\" % (sum))"
   ]
  },
  {
   "cell_type": "markdown",
   "metadata": {
    "slideshow": {
     "slide_type": "slide"
    }
   },
   "source": [
    "#### <center> Does each process receive the same amount of work?"
   ]
  },
  {
   "cell_type": "code",
   "execution_count": null,
   "metadata": {
    "collapsed": true
   },
   "outputs": [],
   "source": [
    "%%px\n",
    "from mpi4py import MPI\n",
    "comm = MPI.COMM_WORLD\n",
    "rank = comm.Get_rank(); size = comm.Get_size()\n",
    "N = 8; a = 0; b = 1; h = (b - a)/N\n",
    "def f(x):\n",
    "    return x*x\n",
    "local_N = N / size\n",
    "local_a = a + rank * local_N * h\n",
    "partial_result = 0\n",
    "for i in range(0,int(local_N)):\n",
    "    partial_result = partial_result + (f(local_a) + f(local_a + h)) * h / 2\n",
    "    local_a = local_a + h\n",
    "sum = comm.reduce(partial_result, op=MPI.SUM, root=0)\n",
    "if rank == 0:\n",
    "    print (\"The integral is %s\" % (sum))"
   ]
  },
  {
   "cell_type": "markdown",
   "metadata": {
    "slideshow": {
     "slide_type": "slide"
    }
   },
   "source": [
    "<center> \n",
    "    <img src=\"pictures/static-wa.png\" width=\"400\"/>\n",
    "</center>"
   ]
  },
  {
   "cell_type": "markdown",
   "metadata": {},
   "source": [
    "<center> \n",
    "    <img src=\"pictures/cyclic-wl.png\" width=\"400\"/>\n",
    "</center>"
   ]
  },
  {
   "cell_type": "markdown",
   "metadata": {},
   "source": [
    "<center> \n",
    "    <img src=\"pictures/dynamic-wl.png\" width=\"800\"/>\n",
    "</center>"
   ]
  }
 ],
 "metadata": {
  "celltoolbar": "Slideshow",
  "kernelspec": {
   "display_name": "Anaconda 2.5.0 (Python 3)",
   "language": "python",
   "name": "anaconda_2.5.0_python3"
  },
  "language_info": {
   "codemirror_mode": {
    "name": "ipython",
    "version": 3
   },
   "file_extension": ".py",
   "mimetype": "text/x-python",
   "name": "python",
   "nbconvert_exporter": "python",
   "pygments_lexer": "ipython3",
   "version": "3.5.2"
  }
 },
 "nbformat": 4,
 "nbformat_minor": 0
}
