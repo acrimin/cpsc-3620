{
 "cells": [
  {
   "cell_type": "markdown",
   "metadata": {
    "slideshow": {
     "slide_type": "slide"
    }
   },
   "source": [
    "## <center> Introduction to Clemson Computing Resources </center>\n",
    "\n",
    "#### <center> Linh B. Ngo </center>\n",
    "#### <center> CPSC 3620 </center>"
   ]
  },
  {
   "cell_type": "markdown",
   "metadata": {
    "slideshow": {
     "slide_type": "slide"
    }
   },
   "source": [
    "### <center> Computing Resources Requirement </center>"
   ]
  },
  {
   "cell_type": "markdown",
   "metadata": {
    "slideshow": {
     "slide_type": "subslide"
    }
   },
   "source": [
    "Assignments and projects will include components that require execution and evaluation on distributed computing resources available to Clemson students"
   ]
  },
  {
   "cell_type": "markdown",
   "metadata": {
    "slideshow": {
     "slide_type": "fragment"
    }
   },
   "source": [
    "- Shared high performance computing environment (non-root): Palmetto Supercomputer"
   ]
  },
  {
   "cell_type": "markdown",
   "metadata": {
    "slideshow": {
     "slide_type": "fragment"
    }
   },
   "source": [
    "- Shared data-intensive computing environment (non-root): Cypress Hadoop Cluster"
   ]
  },
  {
   "cell_type": "markdown",
   "metadata": {
    "slideshow": {
     "slide_type": "fragment"
    }
   },
   "source": [
    "- Isolated experimental environment for small clusters (root): CloudLab"
   ]
  },
  {
   "cell_type": "markdown",
   "metadata": {
    "slideshow": {
     "slide_type": "subslide"
    }
   },
   "source": [
    "### <center> These resources are shared among all Clemson faculty and students, and in the case of CloudLab, nationally. It is your responsibility to submit your jobs to these resources early enough to ensure that you can meet deadlines for assignments and projects </center>"
   ]
  },
  {
   "cell_type": "markdown",
   "metadata": {
    "slideshow": {
     "slide_type": "slide"
    }
   },
   "source": [
    "### <center> Palmetto Supercomputer"
   ]
  },
  {
   "cell_type": "markdown",
   "metadata": {
    "slideshow": {
     "slide_type": "subslide"
    }
   },
   "source": [
    "- Ranked $134^{th}$ on the TOP500 list\n",
    "- Sustained 745.1 TFLOPS (from 721.9 TFLOPS in November 2015)\n",
    "- Highly heterogeneous (more than 14 purchasing phases)\n",
    "- 2021 compute nodes, 22528 cores"
   ]
  },
  {
   "cell_type": "markdown",
   "metadata": {
    "slideshow": {
     "slide_type": "subslide"
    }
   },
   "source": [
    "- 374 nodes are equipped with NVIDIA Tesla GPUs: \n",
    "        - 280 nodes with NVIDIA K20 GPUs (2 per node)\n",
    "        - 94 nodes with NVIDIA K40 GPUs (2 per node)\n",
    "- 4 nodes with Intel Phi co-processors (2 per node)\n",
    "- 6 large memory nodes (5 with 505GB, 1 with 2TB), 250 nodes with 128GB of memory\n",
    "- 100GB of personal space (backed up daily for 42 days)\n",
    "- Myrinet, 10Gbps Ethernet, Infiniband networks\n",
    "- Global and local scratch spaces for temporary files (no quota per user)"
   ]
  },
  {
   "cell_type": "markdown",
   "metadata": {
    "slideshow": {
     "slide_type": "subslide"
    }
   },
   "source": [
    "** Who uses Palmetto? **"
   ]
  },
  {
   "cell_type": "markdown",
   "metadata": {
    "slideshow": {
     "slide_type": "fragment"
    }
   },
   "source": [
    "<center> <img src=\"pictures/usage-2013.png\" width=\"800\"/>"
   ]
  },
  {
   "cell_type": "markdown",
   "metadata": {
    "slideshow": {
     "slide_type": "subslide"
    }
   },
   "source": [
    "<center> Detailed information and guide:\n",
    "\n",
    "<center> **https://www.palmetto.clemson.edu/**"
   ]
  },
  {
   "cell_type": "markdown",
   "metadata": {
    "slideshow": {
     "slide_type": "slide"
    }
   },
   "source": [
    "### <center> How to connect to Palmetto?"
   ]
  },
  {
   "cell_type": "markdown",
   "metadata": {
    "slideshow": {
     "slide_type": "subslide"
    }
   },
   "source": [
    "<center> <img src=\"pictures/palmetto-connect.png\" width=\"500\"/>"
   ]
  },
  {
   "cell_type": "markdown",
   "metadata": {
    "slideshow": {
     "slide_type": "subslide"
    }
   },
   "source": [
    "### <center> Connect to Palmetto from Mac/Linux machines"
   ]
  },
  {
   "cell_type": "markdown",
   "metadata": {
    "slideshow": {
     "slide_type": "fragment"
    }
   },
   "source": [
    "Launch a terminal"
   ]
  },
  {
   "cell_type": "markdown",
   "metadata": {
    "slideshow": {
     "slide_type": "fragment"
    }
   },
   "source": [
    "Type in the following command: \n",
    "\n",
    "<center> **`ssh [your username]@user.palmetto.clemson.edu`**"
   ]
  },
  {
   "cell_type": "markdown",
   "metadata": {
    "slideshow": {
     "slide_type": "subslide"
    }
   },
   "source": [
    "### <center> Connect to Palmetto from Windows machines"
   ]
  },
  {
   "cell_type": "markdown",
   "metadata": {
    "slideshow": {
     "slide_type": "subslide"
    }
   },
   "source": [
    "SSH Secure Shell Client (download from http://www.clemson.edu/ccit/software_applications/software/web_downloads.html)\n",
    "\n",
    "<center> <img src=\"pictures/ssh-secure-shell.png\" width=\"500\"/>"
   ]
  },
  {
   "cell_type": "markdown",
   "metadata": {
    "slideshow": {
     "slide_type": "fragment"
    }
   },
   "source": [
    "*<center> least recommended!*"
   ]
  },
  {
   "cell_type": "markdown",
   "metadata": {
    "slideshow": {
     "slide_type": "subslide"
    }
   },
   "source": [
    "PuTTY (http://www.putty.org/)\n",
    "\n",
    "<center> <img src=\"pictures/putty.png\" width=\"400\"/>"
   ]
  },
  {
   "cell_type": "markdown",
   "metadata": {
    "slideshow": {
     "slide_type": "fragment"
    }
   },
   "source": [
    "<center> *moderately recommended*"
   ]
  },
  {
   "cell_type": "markdown",
   "metadata": {
    "slideshow": {
     "slide_type": "subslide"
    }
   },
   "source": [
    "MobaXTerm (http://mobaxterm.mobatek.net/)\n",
    "\n",
    "- Comprehensive software package based on Cygwin, a Unix-like environment for Windows\n",
    "- Include FTP, port forwarding, and X11 tunneling capabilities"
   ]
  },
  {
   "cell_type": "markdown",
   "metadata": {
    "slideshow": {
     "slide_type": "fragment"
    }
   },
   "source": [
    "<center> *highly recommended (through personal experience*"
   ]
  },
  {
   "cell_type": "markdown",
   "metadata": {
    "slideshow": {
     "slide_type": "slide"
    }
   },
   "source": [
    "### <center> Working with Palmetto"
   ]
  },
  {
   "cell_type": "markdown",
   "metadata": {
    "slideshow": {
     "slide_type": "subslide"
    }
   },
   "source": [
    "<center> <img src=\"pictures/palmetto-allocation.png\" width=\"500\"/>"
   ]
  },
  {
   "cell_type": "markdown",
   "metadata": {
    "slideshow": {
     "slide_type": "subslide"
    }
   },
   "source": [
    "<center> <img src=\"pictures/palmetto-overall.png\" width=\"500\"/>"
   ]
  },
  {
   "cell_type": "markdown",
   "metadata": {
    "slideshow": {
     "slide_type": "subslide"
    }
   },
   "source": [
    "** Node naming scheme **\n",
    "\n",
    "- Login node: user001.palmetto.clemson.edu\n",
    "- DO NOT RUN ANYTHING ON THE LOGIN NODE\n",
    "- Compute nodes: nodeXXXX.palmetto.clemson.edu"
   ]
  },
  {
   "cell_type": "markdown",
   "metadata": {
    "slideshow": {
     "slide_type": "slide"
    }
   },
   "source": [
    "### <center> Requesting Resources from Palmetto"
   ]
  },
  {
   "cell_type": "markdown",
   "metadata": {
    "slideshow": {
     "slide_type": "subslide"
    }
   },
   "source": [
    "- SSH into Palmetto: You are now on user001\n",
    "- Two modes to submit resource request:\n",
    "   - Interactive mode: `qsub -I - l [resource specification]`\n",
    "   - Batch mode: `qsub [PBS script containing resource specification and job description]`\n",
    "- Resource request can only be done from user001 and not from any other computing nodes*"
   ]
  },
  {
   "cell_type": "markdown",
   "metadata": {
    "slideshow": {
     "slide_type": "subslide"
    }
   },
   "source": [
    "Further reading on Palmetto resource request from command line:\n",
    "\n",
    "https://www.palmetto.clemson.edu/palmetto/pages/userguide.html#submitting"
   ]
  },
  {
   "cell_type": "markdown",
   "metadata": {
    "slideshow": {
     "slide_type": "slide"
    }
   },
   "source": [
    "### <center> Connecting to Palmetto via Interactive Mode\n",
    "#### <center> (the new and easy way, beginning Summer 2016)"
   ]
  },
  {
   "cell_type": "markdown",
   "metadata": {
    "slideshow": {
     "slide_type": "subslide"
    }
   },
   "source": [
    "https://clemsonciti.github.io/jupyter-docs/documentation.html"
   ]
  },
  {
   "cell_type": "markdown",
   "metadata": {
    "slideshow": {
     "slide_type": "subslide"
    }
   },
   "source": [
    "#### Log into Palmetto via JupyterHub interface"
   ]
  },
  {
   "cell_type": "markdown",
   "metadata": {
    "slideshow": {
     "slide_type": "subslide"
    }
   },
   "source": [
    "#### Request (default parameters):\n",
    "- 1 chunk\n",
    "- 1 cpu core per chunk\n",
    "- 1gb of memory per chunk\n",
    "- no GPU\n",
    "- 30 minutes walltime\n",
    "- workq"
   ]
  },
  {
   "cell_type": "markdown",
   "metadata": {
    "slideshow": {
     "slide_type": "subslide"
    }
   },
   "source": [
    "#### Open the Jupyter terminal, edit the **.jhubrc** file to contain the following line: \n",
    "\n",
    "`module add gcc/5.3.0 openmpi/1.10.3`\n",
    "\n",
    "#### Via Jupyter, create a directory call cpsc3620"
   ]
  },
  {
   "cell_type": "markdown",
   "metadata": {
    "slideshow": {
     "slide_type": "subslide"
    }
   },
   "source": [
    "#### Inside **cpsc3620** create a file named gethostname.py containing the following line \n",
    "\n",
    "```python\n",
    "#gethostname.py\n",
    "import socket\n",
    "print (\"hello world from host %s\" % (socket.gethostname()))\n",
    "```\n",
    "\n",
    "#### Execute gethostname.py from the Jupyter terminal\n",
    "\n",
    "```\n",
    "python gethostname.py\n",
    "```\n",
    "\n",
    "#### Execute `qstat` and compare the outcome with results from gethostname.py\n",
    "\n",
    "```\n",
    "qstat -anu <username>\n",
    "```"
   ]
  },
  {
   "cell_type": "markdown",
   "metadata": {
    "slideshow": {
     "slide_type": "slide"
    }
   },
   "source": [
    "### <center> Working with Palmetto under Batch Mode"
   ]
  },
  {
   "cell_type": "markdown",
   "metadata": {
    "slideshow": {
     "slide_type": "subslide"
    }
   },
   "source": [
    "#### <center> `qsub [PBS script containing resource specification and job description]`"
   ]
  },
  {
   "cell_type": "markdown",
   "metadata": {
    "slideshow": {
     "slide_type": "subslide"
    }
   },
   "source": [
    "- `qsub` can only be called from the headnode \n",
    "- SSH access from local machines\n",
    "- `ssh user001` from Jupyter terminal"
   ]
  },
  {
   "cell_type": "markdown",
   "metadata": {
    "slideshow": {
     "slide_type": "subslide"
    }
   },
   "source": [
    "** PBS Script format **\n",
    "- Bash script by nature\n",
    "- Line starting with `#PBS` will be intepreted by the PBS scheduler\n",
    "- Line without `#PBS` will be executed as bash commands\n",
    "\n",
    "```\n",
    "#!/bin/bash\n",
    "#PBS -N cpsc3620\n",
    "#PBS -l select=1:ncpus=4:mpiprocs=4:mem=8gb\n",
    "#PBS -l walltime=00:50:00\n",
    "Program execution instructions go here ...\n",
    "```"
   ]
  },
  {
   "cell_type": "markdown",
   "metadata": {
    "slideshow": {
     "slide_type": "subslide"
    }
   },
   "source": [
    "- **-N**: Job name\n",
    "- **-l**: resource requests\n",
    "- **PBS_O_WORKDIR**: Environment variable indicating the directory from which `qsub` was called"
   ]
  },
  {
   "cell_type": "markdown",
   "metadata": {
    "slideshow": {
     "slide_type": "subslide"
    }
   },
   "source": [
    "** What happens after a job is submitted? **\n",
    "- After `qsub` is executed, you will see a job ID return to the command line\n",
    "- You can also view the status of your job via (from any node) `qstat -anu <yourusername>`\n",
    "- You can delete job (from head node only) using `qdel <job ID>` "
   ]
  },
  {
   "cell_type": "markdown",
   "metadata": {
    "slideshow": {
     "slide_type": "subslide"
    }
   },
   "source": [
    "#### Create a PBS submission script that requests 1 chunk, 1 core per chunk, 1gb of ram per chunk, 2-minute walltime.\n",
    "\n",
    "#### Have this script executes the gethostname.py program\n",
    "\n",
    "#### View the PBS log file once the script is completed"
   ]
  },
  {
   "cell_type": "markdown",
   "metadata": {
    "slideshow": {
     "slide_type": "slide"
    }
   },
   "source": [
    "### <center> CloudLab"
   ]
  },
  {
   "cell_type": "markdown",
   "metadata": {
    "slideshow": {
     "slide_type": "subslide"
    }
   },
   "source": [
    "**What is CloudLab?**"
   ]
  },
  {
   "cell_type": "markdown",
   "metadata": {
    "slideshow": {
     "slide_type": "fragment"
    }
   },
   "source": [
    "- Experimental testbed for transformative cloud computing research"
   ]
  },
  {
   "cell_type": "markdown",
   "metadata": {
    "slideshow": {
     "slide_type": "fragment"
    }
   },
   "source": [
    "- Allow researchers control to the bare metal"
   ]
  },
  {
   "cell_type": "markdown",
   "metadata": {
    "slideshow": {
     "slide_type": "fragment"
    }
   },
   "source": [
    "- Diverse, distributed resources at large scale"
   ]
  },
  {
   "cell_type": "markdown",
   "metadata": {
    "slideshow": {
     "slide_type": "fragment"
    }
   },
   "source": [
    "- Allow repeatable and scientific design of experiments"
   ]
  },
  {
   "cell_type": "markdown",
   "metadata": {
    "slideshow": {
     "slide_type": "subslide"
    }
   },
   "source": [
    "<center> <img src=\"pictures/cloudlab-hardware.png\" width=\"700\"/>"
   ]
  },
  {
   "cell_type": "markdown",
   "metadata": {
    "slideshow": {
     "slide_type": "subslide"
    }
   },
   "source": [
    "**Utah/HP: Low-power ARM64**"
   ]
  },
  {
   "cell_type": "markdown",
   "metadata": {
    "slideshow": {
     "slide_type": "fragment"
    }
   },
   "source": [
    "- 315 m400: 1X 8-core ARMv8 at 2.4GHz, 64GB RAM, 120GB flash"
   ]
  },
  {
   "cell_type": "markdown",
   "metadata": {
    "slideshow": {
     "slide_type": "subslide"
    }
   },
   "source": [
    "**Suitable for experiments that:**"
   ]
  },
  {
   "cell_type": "markdown",
   "metadata": {
    "slideshow": {
     "slide_type": "fragment"
    }
   },
   "source": [
    "- explore power/performance tradeoff\n",
    "- want instrumentation of power and temperature\n",
    "- want large numbers of nodes and cores\n",
    "- need bare-metal control over switches\n",
    "- want tight ARM64 platform integration\n",
    "- ..."
   ]
  },
  {
   "cell_type": "markdown",
   "metadata": {
    "slideshow": {
     "slide_type": "subslide"
    }
   },
   "source": [
    "**Wisconsin/Cisco**"
   ]
  },
  {
   "cell_type": "markdown",
   "metadata": {
    "slideshow": {
     "slide_type": "fragment"
    }
   },
   "source": [
    "- 90 c220g1: 2X 8-core at 2.4GHz, 128GB RAM, 1X 480GB SDD, 2X 1.2TB HDD\n",
    "- 10 c240g1: 2X 8-core at 2.4GHz, 128GB RAM, 1X 480GB SDD, 1X 1TB HDD, 12X 3TB HDD\n",
    "- 163 c220g2: 2X 10-core at 2.6GHz, 160GB RAM, 1X 480GB SDD, 2X 1.2TB HDD\n",
    "- 7 c240g2: 2X 10-core at 2.6GHz, 160GB RAM, 2X 480GB SDD, 12X 3TB HDD"
   ]
  },
  {
   "cell_type": "markdown",
   "metadata": {
    "slideshow": {
     "slide_type": "subslide"
    }
   },
   "source": [
    "**Suitable for experiments that:**"
   ]
  },
  {
   "cell_type": "markdown",
   "metadata": {
    "slideshow": {
     "slide_type": "fragment"
    }
   },
   "source": [
    "- want large number of nodes/cores, and bare metal control over nodes/switches\n",
    "- want network I/O performance, intra-cloud routing, and transport\n",
    "- network virtualization\n",
    "- in-memory big data frameworks\n",
    "- cloud-scale resource management and scheduling\n",
    "- ..."
   ]
  },
  {
   "cell_type": "markdown",
   "metadata": {
    "slideshow": {
     "slide_type": "subslide"
    }
   },
   "source": [
    "**Clemson/Dell**"
   ]
  },
  {
   "cell_type": "markdown",
   "metadata": {
    "slideshow": {
     "slide_type": "fragment"
    }
   },
   "source": [
    "- 96 c8220: 2X 10-core at 2.2GHz, 256GB RAM, 2X 1TB HDD\n",
    "- 4 c8220x: 2X 10-core at 2.2GHz, 256GB RAM, 8X 1TB HDD, 12X 4TB HDD\n",
    "- 84 c6420: 2X 14-core at 2.0GHz, 256GB RAM, 2X 1TB HDD\n",
    "- 2 c4130: 2X 12-core at 2.5GHz, 256GB RAM, 2X 1TB HDD, 2 Tesla K40m GPU"
   ]
  },
  {
   "cell_type": "markdown",
   "metadata": {
    "slideshow": {
     "slide_type": "subslide"
    }
   },
   "source": [
    "**Suitable for experiments that:**"
   ]
  },
  {
   "cell_type": "markdown",
   "metadata": {
    "slideshow": {
     "slide_type": "fragment"
    }
   },
   "source": [
    "- need large per-core memory\n",
    "- want to experiment with IB and/or GbE networks\n",
    "- need bare-metal control over switches"
   ]
  },
  {
   "cell_type": "markdown",
   "metadata": {
    "slideshow": {
     "slide_type": "subslide"
    }
   },
   "source": [
    "**Register with CloudLab and join a project**"
   ]
  },
  {
   "cell_type": "markdown",
   "metadata": {
    "slideshow": {
     "slide_type": "subslide"
    }
   },
   "source": [
    "<center> <img src=\"pictures/cloudlab-request.png\" width=\"700\"/>"
   ]
  },
  {
   "cell_type": "markdown",
   "metadata": {
    "slideshow": {
     "slide_type": "subslide"
    }
   },
   "source": [
    "<center> <img src=\"pictures/cloudlab-join.png\" width=\"1000\"/>"
   ]
  },
  {
   "cell_type": "markdown",
   "metadata": {
    "slideshow": {
     "slide_type": "subslide"
    }
   },
   "source": [
    "**Set up SSH Key on CloudLab**"
   ]
  },
  {
   "cell_type": "markdown",
   "metadata": {
    "slideshow": {
     "slide_type": "subslide"
    }
   },
   "source": [
    "<center> <img src=\"pictures/cloudlab-ssh-key-0.png\" width=\"1000\"/>"
   ]
  },
  {
   "cell_type": "markdown",
   "metadata": {
    "slideshow": {
     "slide_type": "subslide"
    }
   },
   "source": [
    "<center> <img src=\"pictures/cloudlab-ssh-key.png\" width=\"700\"/>"
   ]
  },
  {
   "cell_type": "markdown",
   "metadata": {
    "slideshow": {
     "slide_type": "subslide"
    }
   },
   "source": [
    "<center> <img src=\"pictures/cloudlab-profile-step-1.png\" width=\"1000\"/>"
   ]
  },
  {
   "cell_type": "markdown",
   "metadata": {
    "slideshow": {
     "slide_type": "subslide"
    }
   },
   "source": [
    "<center> <img src=\"pictures/cloudlab-profile-step-2.png\" width=\"1000\"/>"
   ]
  },
  {
   "cell_type": "markdown",
   "metadata": {
    "slideshow": {
     "slide_type": "subslide"
    }
   },
   "source": [
    "<center> <img src=\"pictures/cloudlab-profile-step-3.png\" width=\"1000\"/>"
   ]
  },
  {
   "cell_type": "markdown",
   "metadata": {
    "slideshow": {
     "slide_type": "subslide"
    }
   },
   "source": [
    "<center> <img src=\"pictures/cloudlab-profile-step-4.png\" width=\"1000\"/>"
   ]
  },
  {
   "cell_type": "markdown",
   "metadata": {
    "slideshow": {
     "slide_type": "subslide"
    }
   },
   "source": [
    "<center> <img src=\"pictures/cloudlab-profile-step-5.png\" width=\"1000\"/>"
   ]
  },
  {
   "cell_type": "markdown",
   "metadata": {
    "slideshow": {
     "slide_type": "subslide"
    }
   },
   "source": [
    "<center> <img src=\"pictures/cloudlab-profile-step-6.png\" width=\"1000\"/>"
   ]
  },
  {
   "cell_type": "markdown",
   "metadata": {
    "slideshow": {
     "slide_type": "subslide"
    }
   },
   "source": [
    "<center> <img src=\"pictures/cloudlab-profile-step-7.png\" width=\"1000\"/>"
   ]
  },
  {
   "cell_type": "markdown",
   "metadata": {
    "slideshow": {
     "slide_type": "subslide"
    }
   },
   "source": [
    "<center> <img src=\"pictures/cloudlab-profile-step-8.png\" width=\"1000\"/>"
   ]
  },
  {
   "cell_type": "markdown",
   "metadata": {
    "slideshow": {
     "slide_type": "subslide"
    }
   },
   "source": [
    "<center> <img src=\"pictures/cloudlab-profile-step-9.png\" width=\"1000\"/>"
   ]
  },
  {
   "cell_type": "markdown",
   "metadata": {
    "slideshow": {
     "slide_type": "subslide"
    }
   },
   "source": [
    "<center> <img src=\"pictures/cloudlab-profile-step-10.png\" width=\"1000\"/>"
   ]
  },
  {
   "cell_type": "markdown",
   "metadata": {
    "slideshow": {
     "slide_type": "subslide"
    }
   },
   "source": [
    "<center> <img src=\"pictures/cloudlab-profile-step-11.png\" width=\"1000\"/>"
   ]
  },
  {
   "cell_type": "markdown",
   "metadata": {
    "slideshow": {
     "slide_type": "subslide"
    }
   },
   "source": [
    "<center> <img src=\"pictures/cloudlab-profile-step-12.png\" width=\"1000\"/>"
   ]
  },
  {
   "cell_type": "markdown",
   "metadata": {
    "slideshow": {
     "slide_type": "subslide"
    }
   },
   "source": [
    "<center> <img src=\"pictures/cloudlab-profile-step-13.png\" width=\"1000\"/>"
   ]
  },
  {
   "cell_type": "markdown",
   "metadata": {
    "slideshow": {
     "slide_type": "subslide"
    }
   },
   "source": [
    "<center> <img src=\"pictures/cloudlab-profile-step-14.png\" width=\"700\"/>"
   ]
  },
  {
   "cell_type": "markdown",
   "metadata": {
    "slideshow": {
     "slide_type": "subslide"
    }
   },
   "source": [
    "<center> <img src=\"pictures/cloudlab-profile-step-15.png\" width=\"700\"/>"
   ]
  },
  {
   "cell_type": "markdown",
   "metadata": {
    "slideshow": {
     "slide_type": "subslide"
    }
   },
   "source": [
    "<center> <img src=\"pictures/cloudlab-profile-step-16.png\" width=\"700\"/>"
   ]
  },
  {
   "cell_type": "markdown",
   "metadata": {
    "slideshow": {
     "slide_type": "subslide"
    }
   },
   "source": [
    "<center> <img src=\"pictures/cloudlab-passwordless.png\" width=\"700\"/>"
   ]
  }
 ],
 "metadata": {
  "celltoolbar": "Slideshow",
  "kernelspec": {
   "display_name": "Python 3",
   "language": "python",
   "name": "python3"
  },
  "language_info": {
   "codemirror_mode": {
    "name": "ipython",
    "version": 3
   },
   "file_extension": ".py",
   "mimetype": "text/x-python",
   "name": "python",
   "nbconvert_exporter": "python",
   "pygments_lexer": "ipython3",
   "version": "3.5.2"
  }
 },
 "nbformat": 4,
 "nbformat_minor": 0
}
