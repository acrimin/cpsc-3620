{
 "cells": [
  {
   "cell_type": "code",
   "execution_count": 1,
   "metadata": {
    "collapsed": false
   },
   "outputs": [
    {
     "name": "stdout",
     "output_type": "stream",
     "text": [
      "[0, 1, 2, 3, 4, 5, 6, 7]\n"
     ]
    }
   ],
   "source": [
    "import ipyparallel\n",
    "c=ipyparallel.Client(profile=\"mpicluster\")\n",
    "print(c.ids)"
   ]
  },
  {
   "cell_type": "code",
   "execution_count": 8,
   "metadata": {
    "collapsed": false
   },
   "outputs": [
    {
     "name": "stdout",
     "output_type": "stream",
     "text": [
      "[stdout:0] \n",
      "At step:  1 rank  6  is matched with rank  2\n",
      "At step:  2 rank  6  is matched with rank  4\n",
      "At step:  3 rank  6  is matched with rank  7\n",
      "[stdout:1] \n",
      "At step:  1 rank  5  is matched with rank  1\n",
      "At step:  2 rank  5  is matched with rank  7\n",
      "At step:  3 rank  5  is matched with rank  4\n",
      "[stdout:2] \n",
      "[12  9 10  1 12  7  8 12 12  1  9  5 11 12  9 11]\n",
      "At step:  1 rank  0  is matched with rank  4\n",
      "At step:  2 rank  0  is matched with rank  2\n",
      "At step:  3 rank  0  is matched with rank  1\n",
      "[stdout:3] \n",
      "At step:  1 rank  4  is matched with rank  0\n",
      "At step:  2 rank  4  is matched with rank  6\n",
      "At step:  3 rank  4  is matched with rank  5\n",
      "[stdout:4] \n",
      "At step:  1 rank  1  is matched with rank  5\n",
      "At step:  2 rank  1  is matched with rank  3\n",
      "At step:  3 rank  1  is matched with rank  0\n",
      "[stdout:5] \n",
      "At step:  1 rank  2  is matched with rank  6\n",
      "At step:  2 rank  2  is matched with rank  0\n",
      "At step:  3 rank  2  is matched with rank  3\n",
      "[stdout:6] \n",
      "At step:  1 rank  7  is matched with rank  3\n",
      "At step:  2 rank  7  is matched with rank  5\n",
      "At step:  3 rank  7  is matched with rank  6\n",
      "[stdout:7] \n",
      "At step:  1 rank  3  is matched with rank  7\n",
      "At step:  2 rank  3  is matched with rank  1\n",
      "At step:  3 rank  3  is matched with rank  2\n"
     ]
    }
   ],
   "source": [
    "%%px\n",
    "import numpy as np\n",
    "from mpi4py import MPI\n",
    "import math\n",
    "comm = MPI.COMM_WORLD\n",
    "rank = comm.Get_rank(); size = comm.Get_size(); status = MPI.Status();\n",
    "N = 16\n",
    "\n",
    "unsorted = np.zeros(N, dtype=\"int\")\n",
    "final_sorted = np.zeros(N, dtype=\"int\")\n",
    "local_array = np.zeros(int(N / size), dtype=\"int\")\n",
    "local_tmp = np.zeros(int(N / size), dtype=\"int\")\n",
    "local_remain = np.zeros(2 * int(N / size), dtype=\"int\")\n",
    "\n",
    "if rank == 0:\n",
    "    unsorted = np.random.randint(low=0,high=N,size=N)\n",
    "    print (unsorted)\n",
    "comm.Scatter(unsorted, local_array, root = 0)\n",
    "\n",
    "local_array.sort()\n",
    "\n",
    "distance = size / 2\n",
    "step = 1\n",
    "while (distance >= 1):\n",
    "    print (\"At step: \", int(step), \"rank \", rank, \" is matched with rank \", int(rank)^ int(distance))\n",
    "    step += 1\n",
    "    distance /= 2"
   ]
  },
  {
   "cell_type": "code",
   "execution_count": null,
   "metadata": {
    "collapsed": true
   },
   "outputs": [],
   "source": []
  }
 ],
 "metadata": {
  "kernelspec": {
   "display_name": "Anaconda 2.5.0 (Python 3)",
   "language": "python",
   "name": "anaconda_2.5.0_python3"
  },
  "language_info": {
   "codemirror_mode": {
    "name": "ipython",
    "version": 3
   },
   "file_extension": ".py",
   "mimetype": "text/x-python",
   "name": "python",
   "nbconvert_exporter": "python",
   "pygments_lexer": "ipython3",
   "version": "3.5.2"
  }
 },
 "nbformat": 4,
 "nbformat_minor": 0
}
