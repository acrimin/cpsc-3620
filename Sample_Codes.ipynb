{
 "cells": [
  {
   "cell_type": "code",
   "execution_count": 44,
   "metadata": {
    "collapsed": false
   },
   "outputs": [
    {
     "name": "stdout",
     "output_type": "stream",
     "text": [
      "Overwriting /home/lngo/tmp/test01.py\n"
     ]
    }
   ],
   "source": [
    "%%writefile ~/tmp/test01.py\n",
    "#!/usr/bin/env python\n",
    "\n",
    "from mpi4py import MPI\n",
    "comm = MPI.COMM_WORLD\n",
    "rank = comm.Get_rank(); \n",
    "\n",
    "swap = list()\n",
    "final_swap = list()\n",
    "\n",
    "if rank == 0:\n",
    "    swap.append(5); swap.append(1); swap.append(2);\n",
    "    final_swap = comm.alltoall(swap)\n",
    "    final_swap[2] = comm.bcast(final_swap[2], root = 0)\n",
    "    comm.send(final_swap[2], dest = 2, tag = 43)\n",
    "    final_swap[0] = comm.recv(source = 1, tag = 43)\n",
    "    comm.reduce(final_swap[1], op = MPI.MAX, root = 1)\n",
    "if rank == 1:  \n",
    "    swap.append(3); swap.append(4); swap.append(5);\n",
    "    final_swap = comm.alltoall(swap);\n",
    "    final_swap[0] = comm.bcast(final_swap[2], root = 0)\n",
    "    comm.send(final_swap[2], dest = 0, tag = 43)\n",
    "    final_swap[2] = comm.reduce(final_swap[1], op = MPI.MAX, root = 1)\n",
    "if rank == 2: \n",
    "    swap.append(6); swap.append(7); swap.append(8);\n",
    "    final_swap = comm.alltoall(swap)\n",
    "    final_swap[2] = comm.bcast(final_swap[2], root = 0)\n",
    "    final_swap[0] = comm.recv(source = 0, tag = 43)\n",
    "    comm.reduce(final_swap[1], op = MPI.MAX, root = 1)\n",
    "\n",
    "print (\"Rank: \", rank, \" Swap: \", final_swap)"
   ]
  },
  {
   "cell_type": "code",
   "execution_count": 45,
   "metadata": {
    "collapsed": false
   },
   "outputs": [
    {
     "name": "stdout",
     "output_type": "stream",
     "text": [
      "Rank:  0  Swap:  [7, 3, 6]\r\n",
      "Rank:  1  Swap:  [6, 4, 5]\r\n",
      "Rank:  2  Swap:  [6, 5, 6]\r\n"
     ]
    }
   ],
   "source": [
    "!chmod 755 ~/tmp/test01.py\n",
    "!module load gcc/5.3.0 openmpi/1.10.3; mpirun -np 3 ~/tmp/test01.py"
   ]
  },
  {
   "cell_type": "code",
   "execution_count": 48,
   "metadata": {
    "collapsed": false
   },
   "outputs": [
    {
     "name": "stdout",
     "output_type": "stream",
     "text": [
      "Overwriting /home/lngo/tmp/test02.py\n"
     ]
    }
   ],
   "source": [
    "%%writefile ~/tmp/test02.py\n",
    "#!/usr/bin/env python\n",
    "# workdist.py\n",
    "from mpi4py import MPI\n",
    "import random\n",
    "comm = MPI.COMM_WORLD\n",
    "rank = comm.Get_rank()\n",
    "size = comm.Get_size()\n",
    "name = MPI.Get_processor_name()\n",
    "A = [2,13,4,3,5,1,0,12,10,8,7,9,11,6,15,14]\n",
    "B = list()\n",
    "\n",
    "current_index = rank\n",
    "for i in range(0,4):\n",
    "    B.append(A[current_index])\n",
    "    current_index += 4\n",
    "    \n",
    "print (\"Process %s has elements %s\" % (rank, B))"
   ]
  },
  {
   "cell_type": "code",
   "execution_count": 49,
   "metadata": {
    "collapsed": false
   },
   "outputs": [
    {
     "name": "stdout",
     "output_type": "stream",
     "text": [
      "Process 0 has elements [2, 5, 10, 11]\r\n",
      "Process 1 has elements [13, 1, 8, 6]\r\n",
      "Process 2 has elements [4, 0, 7, 15]\r\n",
      "Process 3 has elements [3, 12, 9, 14]\r\n"
     ]
    }
   ],
   "source": [
    "!chmod 755 ~/tmp/test02.py\n",
    "!module load gcc/5.3.0 openmpi/1.10.3; mpirun -np 4 ~/tmp/test02.py"
   ]
  },
  {
   "cell_type": "code",
   "execution_count": 3,
   "metadata": {
    "collapsed": false
   },
   "outputs": [
    {
     "name": "stdout",
     "output_type": "stream",
     "text": [
      "Overwriting /home/lngo/tmp/test03.py\n"
     ]
    }
   ],
   "source": [
    "%%writefile ~/tmp/test03.py\n",
    "#!/usr/bin/env python\n",
    "import numpy\n",
    "from mpi4py import MPI\n",
    "comm = MPI.COMM_WORLD; rank = comm.Get_rank()\n",
    "if rank == 0:\n",
    "  x = numpy.linspace(0,80,9)\n",
    "  print (x)\n",
    "else:\n",
    "  x = None\n",
    "if rank == 1:\n",
    "  xlocal = numpy.zeros(7)\n",
    "else:\n",
    "  xlocal = numpy.zeros(1)\n",
    "\n",
    "comm.Scatterv([x,(1,7,1),(0,1,8),MPI.DOUBLE],xlocal); \n",
    "if rank == 0:\n",
    "  xGathered = numpy.zeros(9)\n",
    "else:\n",
    "  xGathered = None\n",
    "\n",
    "comm.Gatherv(xlocal,[xGathered,(1,7,1),(0,1,1),MPI.DOUBLE])\n",
    "print (\"process \" + str(rank) + \" has \" +str(xGathered))"
   ]
  },
  {
   "cell_type": "code",
   "execution_count": 4,
   "metadata": {
    "collapsed": false
   },
   "outputs": [
    {
     "name": "stdout",
     "output_type": "stream",
     "text": [
      "[  0.  10.  20.  30.  40.  50.  60.  70.  80.]\r\n",
      "process 0 has [  0.  80.  20.  30.  40.  50.  60.  70.   0.]\r\n",
      "process 1 has None\r\n",
      "process 2 has None\r\n"
     ]
    }
   ],
   "source": [
    "!chmod 755 ~/tmp/test03.py\n",
    "!module load gcc/5.3.0 openmpi/1.10.3; mpirun -np 3 ~/tmp/test03.py"
   ]
  },
  {
   "cell_type": "code",
   "execution_count": null,
   "metadata": {
    "collapsed": true
   },
   "outputs": [],
   "source": []
  }
 ],
 "metadata": {
  "kernelspec": {
   "display_name": "Python 3",
   "language": "python",
   "name": "python3"
  },
  "language_info": {
   "codemirror_mode": {
    "name": "ipython",
    "version": 3
   },
   "file_extension": ".py",
   "mimetype": "text/x-python",
   "name": "python",
   "nbconvert_exporter": "python",
   "pygments_lexer": "ipython3",
   "version": "3.5.2"
  }
 },
 "nbformat": 4,
 "nbformat_minor": 1
}
